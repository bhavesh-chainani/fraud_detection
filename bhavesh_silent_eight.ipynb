{
 "cells": [
  {
   "attachments": {},
   "cell_type": "markdown",
   "metadata": {},
   "source": [
    "### Bhavesh Hiranand Chainani\n",
    "#### Silent Eight Data Science Assessment"
   ]
  },
  {
   "cell_type": "code",
   "execution_count": 323,
   "metadata": {},
   "outputs": [],
   "source": [
    "## Import all relevant python libraries\n",
    "\n",
    "import pandas as pd\n",
    "import numpy as np\n",
    "import matplotlib.pyplot as plt\n",
    "import seaborn as sns\n",
    "from sklearn.preprocessing import MinMaxScaler\n",
    "from sklearn.model_selection import train_test_split\n",
    "from sklearn.ensemble import RandomForestClassifier\n",
    "from sklearn.metrics import RocCurveDisplay\n",
    "from sklearn.metrics import accuracy_score, recall_score, confusion_matrix, precision_score\n",
    "from sklearn.metrics import precision_recall_curve\n",
    "from imblearn.over_sampling import SMOTE\n",
    "from statsmodels.stats.outliers_influence import variance_inflation_factor\n",
    "import dexplot as dxp"
   ]
  },
  {
   "cell_type": "code",
   "execution_count": 324,
   "metadata": {},
   "outputs": [],
   "source": [
    "## Read in data\n",
    "data = pd.read_csv('data/all_trxns.csv')"
   ]
  },
  {
   "attachments": {},
   "cell_type": "markdown",
   "metadata": {},
   "source": [
    "### Exploratory Data Analysis (EDA)"
   ]
  },
  {
   "cell_type": "code",
   "execution_count": 325,
   "metadata": {},
   "outputs": [
    {
     "data": {
      "text/html": [
       "<div>\n",
       "<style scoped>\n",
       "    .dataframe tbody tr th:only-of-type {\n",
       "        vertical-align: middle;\n",
       "    }\n",
       "\n",
       "    .dataframe tbody tr th {\n",
       "        vertical-align: top;\n",
       "    }\n",
       "\n",
       "    .dataframe thead th {\n",
       "        text-align: right;\n",
       "    }\n",
       "</style>\n",
       "<table border=\"1\" class=\"dataframe\">\n",
       "  <thead>\n",
       "    <tr style=\"text-align: right;\">\n",
       "      <th></th>\n",
       "      <th>customer</th>\n",
       "      <th>customer_country</th>\n",
       "      <th>fraud_flag</th>\n",
       "      <th>timestamp</th>\n",
       "      <th>counterparty</th>\n",
       "      <th>counterparty_country</th>\n",
       "      <th>type</th>\n",
       "      <th>ccy</th>\n",
       "      <th>amount</th>\n",
       "    </tr>\n",
       "  </thead>\n",
       "  <tbody>\n",
       "    <tr>\n",
       "      <th>0</th>\n",
       "      <td>C12976926337644</td>\n",
       "      <td>UK</td>\n",
       "      <td>N</td>\n",
       "      <td>2021-03-20 05:59:25</td>\n",
       "      <td>77697395249488</td>\n",
       "      <td>CN</td>\n",
       "      <td>OTHER</td>\n",
       "      <td>JPY</td>\n",
       "      <td>48625.25</td>\n",
       "    </tr>\n",
       "    <tr>\n",
       "      <th>1</th>\n",
       "      <td>C12976926337644</td>\n",
       "      <td>UK</td>\n",
       "      <td>N</td>\n",
       "      <td>2021-05-02 03:00:38</td>\n",
       "      <td>77697395249488</td>\n",
       "      <td>CN</td>\n",
       "      <td>PAYMENT</td>\n",
       "      <td>GBP</td>\n",
       "      <td>20637.21</td>\n",
       "    </tr>\n",
       "    <tr>\n",
       "      <th>2</th>\n",
       "      <td>C12976926337644</td>\n",
       "      <td>UK</td>\n",
       "      <td>N</td>\n",
       "      <td>2021-05-23 22:15:15</td>\n",
       "      <td>77697395249488</td>\n",
       "      <td>NaN</td>\n",
       "      <td>PAYMENT</td>\n",
       "      <td>USD</td>\n",
       "      <td>56691.27</td>\n",
       "    </tr>\n",
       "    <tr>\n",
       "      <th>3</th>\n",
       "      <td>C12976926337644</td>\n",
       "      <td>UK</td>\n",
       "      <td>N</td>\n",
       "      <td>2021-07-07 21:36:50</td>\n",
       "      <td>77697395249488</td>\n",
       "      <td>NaN</td>\n",
       "      <td>PAYMENT</td>\n",
       "      <td>CNY</td>\n",
       "      <td>343864.71</td>\n",
       "    </tr>\n",
       "    <tr>\n",
       "      <th>4</th>\n",
       "      <td>C12976926337644</td>\n",
       "      <td>UK</td>\n",
       "      <td>N</td>\n",
       "      <td>2021-09-02 00:14:03</td>\n",
       "      <td>77697395249488</td>\n",
       "      <td>NaN</td>\n",
       "      <td>PAYMENT</td>\n",
       "      <td>USD</td>\n",
       "      <td>57247.35</td>\n",
       "    </tr>\n",
       "  </tbody>\n",
       "</table>\n",
       "</div>"
      ],
      "text/plain": [
       "          customer customer_country fraud_flag            timestamp  \\\n",
       "0  C12976926337644               UK          N  2021-03-20 05:59:25   \n",
       "1  C12976926337644               UK          N  2021-05-02 03:00:38   \n",
       "2  C12976926337644               UK          N  2021-05-23 22:15:15   \n",
       "3  C12976926337644               UK          N  2021-07-07 21:36:50   \n",
       "4  C12976926337644               UK          N  2021-09-02 00:14:03   \n",
       "\n",
       "     counterparty counterparty_country     type  ccy     amount  \n",
       "0  77697395249488                   CN    OTHER  JPY   48625.25  \n",
       "1  77697395249488                   CN  PAYMENT  GBP   20637.21  \n",
       "2  77697395249488                  NaN  PAYMENT  USD   56691.27  \n",
       "3  77697395249488                  NaN  PAYMENT  CNY  343864.71  \n",
       "4  77697395249488                  NaN  PAYMENT  USD   57247.35  "
      ]
     },
     "execution_count": 325,
     "metadata": {},
     "output_type": "execute_result"
    }
   ],
   "source": [
    "data.head()"
   ]
  },
  {
   "cell_type": "code",
   "execution_count": 326,
   "metadata": {},
   "outputs": [
    {
     "data": {
      "text/plain": [
       "(5302, 9)"
      ]
     },
     "execution_count": 326,
     "metadata": {},
     "output_type": "execute_result"
    }
   ],
   "source": [
    "data.shape\n",
    "# 5302 rows, 9 columns"
   ]
  },
  {
   "cell_type": "code",
   "execution_count": 327,
   "metadata": {},
   "outputs": [
    {
     "data": {
      "text/plain": [
       "customer                object\n",
       "customer_country        object\n",
       "fraud_flag              object\n",
       "timestamp               object\n",
       "counterparty             int64\n",
       "counterparty_country    object\n",
       "type                    object\n",
       "ccy                     object\n",
       "amount                  object\n",
       "dtype: object"
      ]
     },
     "execution_count": 327,
     "metadata": {},
     "output_type": "execute_result"
    }
   ],
   "source": [
    "data.dtypes"
   ]
  },
  {
   "cell_type": "code",
   "execution_count": 328,
   "metadata": {},
   "outputs": [
    {
     "data": {
      "text/html": [
       "<div>\n",
       "<style scoped>\n",
       "    .dataframe tbody tr th:only-of-type {\n",
       "        vertical-align: middle;\n",
       "    }\n",
       "\n",
       "    .dataframe tbody tr th {\n",
       "        vertical-align: top;\n",
       "    }\n",
       "\n",
       "    .dataframe thead th {\n",
       "        text-align: right;\n",
       "    }\n",
       "</style>\n",
       "<table border=\"1\" class=\"dataframe\">\n",
       "  <thead>\n",
       "    <tr style=\"text-align: right;\">\n",
       "      <th></th>\n",
       "      <th>counterparty</th>\n",
       "    </tr>\n",
       "  </thead>\n",
       "  <tbody>\n",
       "    <tr>\n",
       "      <th>count</th>\n",
       "      <td>5.302000e+03</td>\n",
       "    </tr>\n",
       "    <tr>\n",
       "      <th>mean</th>\n",
       "      <td>5.626952e+13</td>\n",
       "    </tr>\n",
       "    <tr>\n",
       "      <th>std</th>\n",
       "      <td>2.609480e+13</td>\n",
       "    </tr>\n",
       "    <tr>\n",
       "      <th>min</th>\n",
       "      <td>1.136138e+13</td>\n",
       "    </tr>\n",
       "    <tr>\n",
       "      <th>25%</th>\n",
       "      <td>3.259593e+13</td>\n",
       "    </tr>\n",
       "    <tr>\n",
       "      <th>50%</th>\n",
       "      <td>5.715527e+13</td>\n",
       "    </tr>\n",
       "    <tr>\n",
       "      <th>75%</th>\n",
       "      <td>7.748636e+13</td>\n",
       "    </tr>\n",
       "    <tr>\n",
       "      <th>max</th>\n",
       "      <td>9.972984e+13</td>\n",
       "    </tr>\n",
       "  </tbody>\n",
       "</table>\n",
       "</div>"
      ],
      "text/plain": [
       "       counterparty\n",
       "count  5.302000e+03\n",
       "mean   5.626952e+13\n",
       "std    2.609480e+13\n",
       "min    1.136138e+13\n",
       "25%    3.259593e+13\n",
       "50%    5.715527e+13\n",
       "75%    7.748636e+13\n",
       "max    9.972984e+13"
      ]
     },
     "execution_count": 328,
     "metadata": {},
     "output_type": "execute_result"
    }
   ],
   "source": [
    "data.describe()"
   ]
  },
  {
   "cell_type": "code",
   "execution_count": 329,
   "metadata": {},
   "outputs": [
    {
     "data": {
      "text/plain": [
       "str"
      ]
     },
     "execution_count": 329,
     "metadata": {},
     "output_type": "execute_result"
    }
   ],
   "source": [
    "## We notice that the timestamp column is a string, hence it is important to convert it to datetime format\n",
    "type(data['timestamp'][0])"
   ]
  },
  {
   "cell_type": "code",
   "execution_count": 330,
   "metadata": {},
   "outputs": [],
   "source": [
    "## convert timestamp column from string to datetime\n",
    "data['timestamp'] = pd.to_datetime(data['timestamp'])"
   ]
  },
  {
   "cell_type": "code",
   "execution_count": 331,
   "metadata": {},
   "outputs": [
    {
     "data": {
      "text/plain": [
       "customer                  0\n",
       "customer_country          0\n",
       "fraud_flag                0\n",
       "timestamp                 0\n",
       "counterparty              0\n",
       "counterparty_country    499\n",
       "type                      0\n",
       "ccy                       0\n",
       "amount                    0\n",
       "dtype: int64"
      ]
     },
     "execution_count": 331,
     "metadata": {},
     "output_type": "execute_result"
    }
   ],
   "source": [
    "## Identify any null values\n",
    "data.isna().sum()"
   ]
  },
  {
   "attachments": {},
   "cell_type": "markdown",
   "metadata": {},
   "source": [
    "##### We can see the counterparty_country is the only column with null values. \n",
    "##### We will leave it for now as we do not want to remove any uneccessary rows, given that the dataset is relatively small."
   ]
  },
  {
   "cell_type": "code",
   "execution_count": 332,
   "metadata": {},
   "outputs": [
    {
     "name": "stderr",
     "output_type": "stream",
     "text": [
      "/var/folders/fp/chskv2v95k13ldv_jpwqql9c0000gn/T/ipykernel_13821/656557539.py:2: FutureWarning: The default value of regex will change from True to False in a future version.\n",
      "  data['amount'] = data['amount'].str.replace('[,$£]','')\n"
     ]
    }
   ],
   "source": [
    "# remove unneccessary strings from amount column (e.g 1,712 to 1712) \n",
    "data['amount'] = data['amount'].str.replace('[,$£]','')\n",
    "# convert amount column to float\n",
    "data['amount'] = data['amount'].astype(float)"
   ]
  },
  {
   "cell_type": "code",
   "execution_count": 333,
   "metadata": {},
   "outputs": [
    {
     "data": {
      "text/plain": [
       "count    5.302000e+03\n",
       "mean     5.043384e+05\n",
       "std      1.546262e+06\n",
       "min      9.911000e+01\n",
       "25%      2.707183e+04\n",
       "50%      5.163731e+04\n",
       "75%      1.004043e+05\n",
       "max      1.277252e+07\n",
       "Name: amount, dtype: float64"
      ]
     },
     "execution_count": 333,
     "metadata": {},
     "output_type": "execute_result"
    }
   ],
   "source": [
    "data.amount.describe()"
   ]
  },
  {
   "attachments": {},
   "cell_type": "markdown",
   "metadata": {},
   "source": [
    "## Relevant Visualisations"
   ]
  },
  {
   "cell_type": "code",
   "execution_count": 334,
   "metadata": {},
   "outputs": [],
   "source": [
    "## We notice that customers are repeated, hence for visualisation purposes, we will focus on distinct customers\n",
    "\n",
    "data_cust = data.drop_duplicates(subset=['customer', 'customer_country']).reset_index(drop=True)"
   ]
  },
  {
   "cell_type": "code",
   "execution_count": 335,
   "metadata": {},
   "outputs": [
    {
     "data": {
      "text/plain": [
       "(100, 9)"
      ]
     },
     "execution_count": 335,
     "metadata": {},
     "output_type": "execute_result"
    }
   ],
   "source": [
    "data_cust.shape\n",
    "## there are 100 distinct customers"
   ]
  },
  {
   "cell_type": "code",
   "execution_count": 336,
   "metadata": {},
   "outputs": [
    {
     "data": {
      "text/plain": [
       "<AxesSubplot: >"
      ]
     },
     "execution_count": 336,
     "metadata": {},
     "output_type": "execute_result"
    },
    {
     "data": {
      "image/png": "[encoded data removed]",
      "text/plain": [
       "<Figure size 640x480 with 1 Axes>"
      ]
     },
     "metadata": {},
     "output_type": "display_data"
    }
   ],
   "source": [
    "#plot customer country for the 100 customers\n",
    "data_cust.customer_country.value_counts().plot(kind='bar', color='pink')"
   ]
  },
  {
   "cell_type": "code",
   "execution_count": 337,
   "metadata": {},
   "outputs": [
    {
     "data": {
      "text/html": [
       "<div>\n",
       "<style scoped>\n",
       "    .dataframe tbody tr th:only-of-type {\n",
       "        vertical-align: middle;\n",
       "    }\n",
       "\n",
       "    .dataframe tbody tr th {\n",
       "        vertical-align: top;\n",
       "    }\n",
       "\n",
       "    .dataframe thead th {\n",
       "        text-align: right;\n",
       "    }\n",
       "</style>\n",
       "<table border=\"1\" class=\"dataframe\">\n",
       "  <thead>\n",
       "    <tr style=\"text-align: right;\">\n",
       "      <th></th>\n",
       "      <th>counterparty_country</th>\n",
       "    </tr>\n",
       "  </thead>\n",
       "  <tbody>\n",
       "    <tr>\n",
       "      <th>CN</th>\n",
       "      <td>619</td>\n",
       "    </tr>\n",
       "    <tr>\n",
       "      <th>UK</th>\n",
       "      <td>614</td>\n",
       "    </tr>\n",
       "    <tr>\n",
       "      <th>JP</th>\n",
       "      <td>537</td>\n",
       "    </tr>\n",
       "    <tr>\n",
       "      <th>US</th>\n",
       "      <td>494</td>\n",
       "    </tr>\n",
       "    <tr>\n",
       "      <th>DE</th>\n",
       "      <td>484</td>\n",
       "    </tr>\n",
       "    <tr>\n",
       "      <th>FR</th>\n",
       "      <td>455</td>\n",
       "    </tr>\n",
       "    <tr>\n",
       "      <th>HK</th>\n",
       "      <td>453</td>\n",
       "    </tr>\n",
       "    <tr>\n",
       "      <th>BR</th>\n",
       "      <td>392</td>\n",
       "    </tr>\n",
       "    <tr>\n",
       "      <th>SG</th>\n",
       "      <td>375</td>\n",
       "    </tr>\n",
       "    <tr>\n",
       "      <th>IN</th>\n",
       "      <td>340</td>\n",
       "    </tr>\n",
       "    <tr>\n",
       "      <th>United States</th>\n",
       "      <td>23</td>\n",
       "    </tr>\n",
       "    <tr>\n",
       "      <th>USA</th>\n",
       "      <td>17</td>\n",
       "    </tr>\n",
       "  </tbody>\n",
       "</table>\n",
       "</div>"
      ],
      "text/plain": [
       "               counterparty_country\n",
       "CN                              619\n",
       "UK                              614\n",
       "JP                              537\n",
       "US                              494\n",
       "DE                              484\n",
       "FR                              455\n",
       "HK                              453\n",
       "BR                              392\n",
       "SG                              375\n",
       "IN                              340\n",
       "United States                    23\n",
       "USA                              17"
      ]
     },
     "execution_count": 337,
     "metadata": {},
     "output_type": "execute_result"
    }
   ],
   "source": [
    "## Counterparty Country\n",
    "\n",
    "data.counterparty_country.value_counts().to_frame()\n",
    "\n",
    "## We can see that United States, US and USA are included. \n",
    "## Hence, there is a need to change United States and US to USA"
   ]
  },
  {
   "cell_type": "code",
   "execution_count": 338,
   "metadata": {},
   "outputs": [],
   "source": [
    "data['counterparty_country'] = data['counterparty_country'].replace(['United States', 'US'], 'USA')"
   ]
  },
  {
   "cell_type": "code",
   "execution_count": 339,
   "metadata": {},
   "outputs": [
    {
     "data": {
      "text/plain": [
       "<AxesSubplot: title={'center': 'Total Number of Counterparties per Country'}>"
      ]
     },
     "execution_count": 339,
     "metadata": {},
     "output_type": "execute_result"
    },
    {
     "data": {
      "image/png": "[encoded data removed]",
      "text/plain": [
       "<Figure size 640x480 with 1 Axes>"
      ]
     },
     "metadata": {},
     "output_type": "display_data"
    }
   ],
   "source": [
    "#plot counterparty country based on unique counterparties\n",
    "data.drop_duplicates(subset=['counterparty','counterparty_country']).reset_index(drop=True).counterparty_country.value_counts().plot(kind='barh', color = 'green', title='Total Number of Counterparties per Country')"
   ]
  },
  {
   "cell_type": "code",
   "execution_count": 340,
   "metadata": {},
   "outputs": [
    {
     "data": {
      "text/plain": [
       "<AxesSubplot: title={'center': 'Number of Fraud_Flag Transactions'}>"
      ]
     },
     "execution_count": 340,
     "metadata": {},
     "output_type": "execute_result"
    },
    {
     "data": {
      "image/png": "[encoded data removed]",
      "text/plain": [
       "<Figure size 640x480 with 1 Axes>"
      ]
     },
     "metadata": {},
     "output_type": "display_data"
    }
   ],
   "source": [
    "#plot value counts of y label\n",
    "data.fraud_flag.value_counts().plot(kind='bar',title=\"Number of Fraud_Flag Transactions\", color='orange')"
   ]
  },
  {
   "cell_type": "code",
   "execution_count": 341,
   "metadata": {},
   "outputs": [],
   "source": [
    "## Since Yes value is low for fraud_flag, we can do oversampling of minority class"
   ]
  },
  {
   "cell_type": "code",
   "execution_count": 342,
   "metadata": {},
   "outputs": [
    {
     "data": {
      "text/plain": [
       "<AxesSubplot: title={'center': 'Count of Transaction Types'}>"
      ]
     },
     "execution_count": 342,
     "metadata": {},
     "output_type": "execute_result"
    },
    {
     "data": {
      "image/png": "[encoded data removed]",
      "text/plain": [
       "<Figure size 640x480 with 1 Axes>"
      ]
     },
     "metadata": {},
     "output_type": "display_data"
    }
   ],
   "source": [
    "#plot count of different transaction types\n",
    "data.type.value_counts().plot(kind='bar', color = 'purple',title=\"Count of Transaction Types\")"
   ]
  },
  {
   "cell_type": "code",
   "execution_count": 343,
   "metadata": {},
   "outputs": [
    {
     "data": {
      "text/plain": [
       "<AxesSubplot: title={'center': 'Distribution of fraud_flag per transaction type'}, xlabel='type'>"
      ]
     },
     "execution_count": 343,
     "metadata": {},
     "output_type": "execute_result"
    },
    {
     "data": {
      "image/png": "[encoded data removed]",
      "text/plain": [
       "<Figure size 640x480 with 1 Axes>"
      ]
     },
     "metadata": {},
     "output_type": "display_data"
    }
   ],
   "source": [
    "## Visualise distribution of fraud_flag value for each transaction type\n",
    "(data\n",
    " .groupby(['type', 'fraud_flag'])\n",
    " .size()\n",
    " .unstack()\n",
    " .plot.bar(title=\"Distribution of fraud_flag per transaction type\")\n",
    ")"
   ]
  },
  {
   "cell_type": "code",
   "execution_count": 344,
   "metadata": {},
   "outputs": [
    {
     "data": {
      "text/plain": [
       "<AxesSubplot: title={'center': 'Distribution of fraud_flag per currency type'}, xlabel='ccy'>"
      ]
     },
     "execution_count": 344,
     "metadata": {},
     "output_type": "execute_result"
    },
    {
     "data": {
      "image/png": "[encoded data removed]",
      "text/plain": [
       "<Figure size 640x480 with 1 Axes>"
      ]
     },
     "metadata": {},
     "output_type": "display_data"
    }
   ],
   "source": [
    "#plot count of types of currency\n",
    "## Visualise distribution of fraud_flag value for currency type\n",
    "(data\n",
    " .groupby(['ccy', 'fraud_flag'])\n",
    " .size()\n",
    " .unstack()\n",
    " .plot.bar(color=['orange','red'],title=\"Distribution of fraud_flag per currency type\")\n",
    ")"
   ]
  },
  {
   "cell_type": "code",
   "execution_count": 345,
   "metadata": {},
   "outputs": [
    {
     "data": {
      "text/plain": [
       "<AxesSubplot: title={'center': 'amount'}, xlabel='fraud_flag'>"
      ]
     },
     "execution_count": 345,
     "metadata": {},
     "output_type": "execute_result"
    },
    {
     "data": {
      "image/png": "[encoded data removed]",
      "text/plain": [
       "<Figure size 500x600 with 1 Axes>"
      ]
     },
     "metadata": {},
     "output_type": "display_data"
    }
   ],
   "source": [
    "#box plot of relationship between fraud_flag and amount\n",
    "data.boxplot(column='amount', by='fraud_flag', figsize=(5,6))"
   ]
  },
  {
   "cell_type": "code",
   "execution_count": 346,
   "metadata": {},
   "outputs": [
    {
     "data": {
      "text/html": [
       "<div>\n",
       "<style scoped>\n",
       "    .dataframe tbody tr th:only-of-type {\n",
       "        vertical-align: middle;\n",
       "    }\n",
       "\n",
       "    .dataframe tbody tr th {\n",
       "        vertical-align: top;\n",
       "    }\n",
       "\n",
       "    .dataframe thead th {\n",
       "        text-align: right;\n",
       "    }\n",
       "</style>\n",
       "<table border=\"1\" class=\"dataframe\">\n",
       "  <thead>\n",
       "    <tr style=\"text-align: right;\">\n",
       "      <th></th>\n",
       "      <th>customer</th>\n",
       "      <th>customer_country</th>\n",
       "      <th>fraud_flag</th>\n",
       "      <th>timestamp</th>\n",
       "      <th>counterparty</th>\n",
       "      <th>counterparty_country</th>\n",
       "      <th>type</th>\n",
       "      <th>ccy</th>\n",
       "      <th>amount</th>\n",
       "      <th>month_year</th>\n",
       "    </tr>\n",
       "  </thead>\n",
       "  <tbody>\n",
       "    <tr>\n",
       "      <th>0</th>\n",
       "      <td>C12976926337644</td>\n",
       "      <td>UK</td>\n",
       "      <td>N</td>\n",
       "      <td>2021-03-20 05:59:25</td>\n",
       "      <td>77697395249488</td>\n",
       "      <td>CN</td>\n",
       "      <td>OTHER</td>\n",
       "      <td>JPY</td>\n",
       "      <td>48625.25</td>\n",
       "      <td>2021-03</td>\n",
       "    </tr>\n",
       "    <tr>\n",
       "      <th>1</th>\n",
       "      <td>C12976926337644</td>\n",
       "      <td>UK</td>\n",
       "      <td>N</td>\n",
       "      <td>2021-05-02 03:00:38</td>\n",
       "      <td>77697395249488</td>\n",
       "      <td>CN</td>\n",
       "      <td>PAYMENT</td>\n",
       "      <td>GBP</td>\n",
       "      <td>20637.21</td>\n",
       "      <td>2021-05</td>\n",
       "    </tr>\n",
       "    <tr>\n",
       "      <th>2</th>\n",
       "      <td>C12976926337644</td>\n",
       "      <td>UK</td>\n",
       "      <td>N</td>\n",
       "      <td>2021-05-23 22:15:15</td>\n",
       "      <td>77697395249488</td>\n",
       "      <td>NaN</td>\n",
       "      <td>PAYMENT</td>\n",
       "      <td>USD</td>\n",
       "      <td>56691.27</td>\n",
       "      <td>2021-05</td>\n",
       "    </tr>\n",
       "    <tr>\n",
       "      <th>3</th>\n",
       "      <td>C12976926337644</td>\n",
       "      <td>UK</td>\n",
       "      <td>N</td>\n",
       "      <td>2021-07-07 21:36:50</td>\n",
       "      <td>77697395249488</td>\n",
       "      <td>NaN</td>\n",
       "      <td>PAYMENT</td>\n",
       "      <td>CNY</td>\n",
       "      <td>343864.71</td>\n",
       "      <td>2021-07</td>\n",
       "    </tr>\n",
       "    <tr>\n",
       "      <th>4</th>\n",
       "      <td>C12976926337644</td>\n",
       "      <td>UK</td>\n",
       "      <td>N</td>\n",
       "      <td>2021-09-02 00:14:03</td>\n",
       "      <td>77697395249488</td>\n",
       "      <td>NaN</td>\n",
       "      <td>PAYMENT</td>\n",
       "      <td>USD</td>\n",
       "      <td>57247.35</td>\n",
       "      <td>2021-09</td>\n",
       "    </tr>\n",
       "  </tbody>\n",
       "</table>\n",
       "</div>"
      ],
      "text/plain": [
       "          customer customer_country fraud_flag           timestamp  \\\n",
       "0  C12976926337644               UK          N 2021-03-20 05:59:25   \n",
       "1  C12976926337644               UK          N 2021-05-02 03:00:38   \n",
       "2  C12976926337644               UK          N 2021-05-23 22:15:15   \n",
       "3  C12976926337644               UK          N 2021-07-07 21:36:50   \n",
       "4  C12976926337644               UK          N 2021-09-02 00:14:03   \n",
       "\n",
       "     counterparty counterparty_country     type  ccy     amount month_year  \n",
       "0  77697395249488                   CN    OTHER  JPY   48625.25    2021-03  \n",
       "1  77697395249488                   CN  PAYMENT  GBP   20637.21    2021-05  \n",
       "2  77697395249488                  NaN  PAYMENT  USD   56691.27    2021-05  \n",
       "3  77697395249488                  NaN  PAYMENT  CNY  343864.71    2021-07  \n",
       "4  77697395249488                  NaN  PAYMENT  USD   57247.35    2021-09  "
      ]
     },
     "execution_count": 346,
     "metadata": {},
     "output_type": "execute_result"
    }
   ],
   "source": [
    "## create new column for month_year\n",
    "data['month_year'] = pd.to_datetime(data['timestamp']).dt.to_period('M')\n",
    "data.head()"
   ]
  },
  {
   "cell_type": "code",
   "execution_count": 347,
   "metadata": {},
   "outputs": [],
   "source": [
    "## create new column for time of day\n",
    "def timeofday(x):\n",
    "    if (x>=0) & (x<6):\n",
    "        tod = 'night'\n",
    "    elif (x>=6) & (x<12):\n",
    "        tod = 'morning'\n",
    "    elif (x>=12) & (x<18):\n",
    "        tod = 'afternoon'\n",
    "    else:\n",
    "        tod = 'evening'\n",
    "    return tod"
   ]
  },
  {
   "cell_type": "code",
   "execution_count": 348,
   "metadata": {},
   "outputs": [],
   "source": [
    "## create new column to map time of day\n",
    "data['time'] = data.timestamp.dt.hour.map(timeofday) "
   ]
  },
  {
   "cell_type": "code",
   "execution_count": 349,
   "metadata": {},
   "outputs": [
    {
     "data": {
      "text/html": [
       "<div>\n",
       "<style scoped>\n",
       "    .dataframe tbody tr th:only-of-type {\n",
       "        vertical-align: middle;\n",
       "    }\n",
       "\n",
       "    .dataframe tbody tr th {\n",
       "        vertical-align: top;\n",
       "    }\n",
       "\n",
       "    .dataframe thead th {\n",
       "        text-align: right;\n",
       "    }\n",
       "</style>\n",
       "<table border=\"1\" class=\"dataframe\">\n",
       "  <thead>\n",
       "    <tr style=\"text-align: right;\">\n",
       "      <th></th>\n",
       "      <th>customer</th>\n",
       "      <th>customer_country</th>\n",
       "      <th>fraud_flag</th>\n",
       "      <th>timestamp</th>\n",
       "      <th>counterparty</th>\n",
       "      <th>counterparty_country</th>\n",
       "      <th>type</th>\n",
       "      <th>ccy</th>\n",
       "      <th>amount</th>\n",
       "      <th>month_year</th>\n",
       "      <th>time</th>\n",
       "    </tr>\n",
       "  </thead>\n",
       "  <tbody>\n",
       "    <tr>\n",
       "      <th>0</th>\n",
       "      <td>C12976926337644</td>\n",
       "      <td>UK</td>\n",
       "      <td>N</td>\n",
       "      <td>2021-03-20 05:59:25</td>\n",
       "      <td>77697395249488</td>\n",
       "      <td>CN</td>\n",
       "      <td>OTHER</td>\n",
       "      <td>JPY</td>\n",
       "      <td>48625.25</td>\n",
       "      <td>2021-03</td>\n",
       "      <td>night</td>\n",
       "    </tr>\n",
       "    <tr>\n",
       "      <th>1</th>\n",
       "      <td>C12976926337644</td>\n",
       "      <td>UK</td>\n",
       "      <td>N</td>\n",
       "      <td>2021-05-02 03:00:38</td>\n",
       "      <td>77697395249488</td>\n",
       "      <td>CN</td>\n",
       "      <td>PAYMENT</td>\n",
       "      <td>GBP</td>\n",
       "      <td>20637.21</td>\n",
       "      <td>2021-05</td>\n",
       "      <td>night</td>\n",
       "    </tr>\n",
       "    <tr>\n",
       "      <th>2</th>\n",
       "      <td>C12976926337644</td>\n",
       "      <td>UK</td>\n",
       "      <td>N</td>\n",
       "      <td>2021-05-23 22:15:15</td>\n",
       "      <td>77697395249488</td>\n",
       "      <td>NaN</td>\n",
       "      <td>PAYMENT</td>\n",
       "      <td>USD</td>\n",
       "      <td>56691.27</td>\n",
       "      <td>2021-05</td>\n",
       "      <td>evening</td>\n",
       "    </tr>\n",
       "    <tr>\n",
       "      <th>3</th>\n",
       "      <td>C12976926337644</td>\n",
       "      <td>UK</td>\n",
       "      <td>N</td>\n",
       "      <td>2021-07-07 21:36:50</td>\n",
       "      <td>77697395249488</td>\n",
       "      <td>NaN</td>\n",
       "      <td>PAYMENT</td>\n",
       "      <td>CNY</td>\n",
       "      <td>343864.71</td>\n",
       "      <td>2021-07</td>\n",
       "      <td>evening</td>\n",
       "    </tr>\n",
       "    <tr>\n",
       "      <th>4</th>\n",
       "      <td>C12976926337644</td>\n",
       "      <td>UK</td>\n",
       "      <td>N</td>\n",
       "      <td>2021-09-02 00:14:03</td>\n",
       "      <td>77697395249488</td>\n",
       "      <td>NaN</td>\n",
       "      <td>PAYMENT</td>\n",
       "      <td>USD</td>\n",
       "      <td>57247.35</td>\n",
       "      <td>2021-09</td>\n",
       "      <td>night</td>\n",
       "    </tr>\n",
       "  </tbody>\n",
       "</table>\n",
       "</div>"
      ],
      "text/plain": [
       "          customer customer_country fraud_flag           timestamp  \\\n",
       "0  C12976926337644               UK          N 2021-03-20 05:59:25   \n",
       "1  C12976926337644               UK          N 2021-05-02 03:00:38   \n",
       "2  C12976926337644               UK          N 2021-05-23 22:15:15   \n",
       "3  C12976926337644               UK          N 2021-07-07 21:36:50   \n",
       "4  C12976926337644               UK          N 2021-09-02 00:14:03   \n",
       "\n",
       "     counterparty counterparty_country     type  ccy     amount month_year  \\\n",
       "0  77697395249488                   CN    OTHER  JPY   48625.25    2021-03   \n",
       "1  77697395249488                   CN  PAYMENT  GBP   20637.21    2021-05   \n",
       "2  77697395249488                  NaN  PAYMENT  USD   56691.27    2021-05   \n",
       "3  77697395249488                  NaN  PAYMENT  CNY  343864.71    2021-07   \n",
       "4  77697395249488                  NaN  PAYMENT  USD   57247.35    2021-09   \n",
       "\n",
       "      time  \n",
       "0    night  \n",
       "1    night  \n",
       "2  evening  \n",
       "3  evening  \n",
       "4    night  "
      ]
     },
     "execution_count": 349,
     "metadata": {},
     "output_type": "execute_result"
    }
   ],
   "source": [
    "data.head()"
   ]
  },
  {
   "cell_type": "code",
   "execution_count": 350,
   "metadata": {},
   "outputs": [
    {
     "data": {
      "text/plain": [
       "<AxesSubplot: title={'center': 'Fraud_flag transactions per month'}, xlabel='month_year'>"
      ]
     },
     "execution_count": 350,
     "metadata": {},
     "output_type": "execute_result"
    },
    {
     "data": {
      "image/png": "[encoded data removed]",
      "text/plain": [
       "<Figure size 640x480 with 1 Axes>"
      ]
     },
     "metadata": {},
     "output_type": "display_data"
    }
   ],
   "source": [
    "## Visualise distribution of fraud_flag values for each month\n",
    "(data\n",
    " .groupby(['month_year', 'fraud_flag'])\n",
    " .size()\n",
    " .unstack()\n",
    " .plot.bar(title=\"Fraud_flag transactions per month\")\n",
    ")"
   ]
  },
  {
   "cell_type": "code",
   "execution_count": 351,
   "metadata": {},
   "outputs": [
    {
     "data": {
      "text/plain": [
       "<AxesSubplot: title={'center': 'Fraud_flag transactions per time of day'}, xlabel='time'>"
      ]
     },
     "execution_count": 351,
     "metadata": {},
     "output_type": "execute_result"
    },
    {
     "data": {
      "image/png": "[encoded data removed]",
      "text/plain": [
       "<Figure size 640x480 with 1 Axes>"
      ]
     },
     "metadata": {},
     "output_type": "display_data"
    }
   ],
   "source": [
    "## Visualise distribution of fraud_flag values for time of day\n",
    "(data\n",
    " .groupby(['time', 'fraud_flag'])\n",
    " .size()\n",
    " .unstack()\n",
    " .plot.bar(title=\"Fraud_flag transactions per time of day\")\n",
    ")"
   ]
  },
  {
   "cell_type": "code",
   "execution_count": 352,
   "metadata": {},
   "outputs": [],
   "source": [
    "## REMAP y value to integers (0,1)\n",
    "data['fraud_flag'] = [0 if x == 'N' else 1 for x in data['fraud_flag']]"
   ]
  },
  {
   "attachments": {},
   "cell_type": "markdown",
   "metadata": {},
   "source": [
    "### Modelling"
   ]
  },
  {
   "attachments": {},
   "cell_type": "markdown",
   "metadata": {},
   "source": [
    "### Model 1:\n",
    "#### Drop NaN values"
   ]
  },
  {
   "cell_type": "code",
   "execution_count": 353,
   "metadata": {},
   "outputs": [],
   "source": [
    "## We keep the counterparty_country as one of our features in the model. Hence we remove the NaN values and drop 499 rows\n",
    "## I have tried another model where I removed the counterparty column and kept the 499 rows.\n",
    "## However, the output and feature importance scores are similar, hence I will demonstrate my analysis with this model.\n",
    "\n",
    "## Model 2 will keep the 499 rows along with further feature pre-processing."
   ]
  },
  {
   "cell_type": "code",
   "execution_count": 354,
   "metadata": {},
   "outputs": [],
   "source": [
    "## drop na values\n",
    "data_model = data.dropna().reset_index(drop=True)"
   ]
  },
  {
   "cell_type": "code",
   "execution_count": 355,
   "metadata": {},
   "outputs": [
    {
     "name": "stderr",
     "output_type": "stream",
     "text": [
      "/var/folders/fp/chskv2v95k13ldv_jpwqql9c0000gn/T/ipykernel_13821/1006686231.py:2: FutureWarning: The default value of numeric_only in DataFrame.corr is deprecated. In a future version, it will default to False. Select only valid columns or specify the value of numeric_only to silence this warning.\n",
      "  data_model.corr()\n"
     ]
    },
    {
     "data": {
      "text/html": [
       "<div>\n",
       "<style scoped>\n",
       "    .dataframe tbody tr th:only-of-type {\n",
       "        vertical-align: middle;\n",
       "    }\n",
       "\n",
       "    .dataframe tbody tr th {\n",
       "        vertical-align: top;\n",
       "    }\n",
       "\n",
       "    .dataframe thead th {\n",
       "        text-align: right;\n",
       "    }\n",
       "</style>\n",
       "<table border=\"1\" class=\"dataframe\">\n",
       "  <thead>\n",
       "    <tr style=\"text-align: right;\">\n",
       "      <th></th>\n",
       "      <th>fraud_flag</th>\n",
       "      <th>counterparty</th>\n",
       "      <th>amount</th>\n",
       "    </tr>\n",
       "  </thead>\n",
       "  <tbody>\n",
       "    <tr>\n",
       "      <th>fraud_flag</th>\n",
       "      <td>1.000000</td>\n",
       "      <td>0.009020</td>\n",
       "      <td>0.012756</td>\n",
       "    </tr>\n",
       "    <tr>\n",
       "      <th>counterparty</th>\n",
       "      <td>0.009020</td>\n",
       "      <td>1.000000</td>\n",
       "      <td>-0.035139</td>\n",
       "    </tr>\n",
       "    <tr>\n",
       "      <th>amount</th>\n",
       "      <td>0.012756</td>\n",
       "      <td>-0.035139</td>\n",
       "      <td>1.000000</td>\n",
       "    </tr>\n",
       "  </tbody>\n",
       "</table>\n",
       "</div>"
      ],
      "text/plain": [
       "              fraud_flag  counterparty    amount\n",
       "fraud_flag      1.000000      0.009020  0.012756\n",
       "counterparty    0.009020      1.000000 -0.035139\n",
       "amount          0.012756     -0.035139  1.000000"
      ]
     },
     "execution_count": 355,
     "metadata": {},
     "output_type": "execute_result"
    }
   ],
   "source": [
    "## identify correlation between any features in df\n",
    "data_model.corr()"
   ]
  },
  {
   "cell_type": "code",
   "execution_count": 356,
   "metadata": {},
   "outputs": [],
   "source": [
    "## For further data cleaning, we will do remapping of our binary features and creating dummy variables for our categorical features\n",
    "## We will follow up with oversampling the minority class using SMOTE"
   ]
  },
  {
   "cell_type": "code",
   "execution_count": 357,
   "metadata": {},
   "outputs": [],
   "source": [
    "# Create dummy variables\n",
    "dummy_customer_country = pd.get_dummies(data_model['customer_country'], prefix='cust_country', drop_first=True)\n",
    "dummy_counterparty_country = pd.get_dummies(data_model['counterparty_country'], prefix='count_country', drop_first=True)\n",
    "dummy_type = pd.get_dummies(data_model['type'], prefix='type', drop_first=True)\n",
    "dummy_ccy = pd.get_dummies(data_model['ccy'], prefix='ccy', drop_first=True) "
   ]
  },
  {
   "cell_type": "code",
   "execution_count": 358,
   "metadata": {},
   "outputs": [],
   "source": [
    "# Drop unnecessary columns\n",
    "to_drop = ['customer', 'customer_country', 'timestamp', 'counterparty',\n",
    "           'counterparty_country', 'type', 'ccy','month_year','time']\n",
    "data_model.drop(to_drop, axis=1, inplace=True)"
   ]
  },
  {
   "cell_type": "code",
   "execution_count": 359,
   "metadata": {},
   "outputs": [
    {
     "data": {
      "text/html": [
       "<div>\n",
       "<style scoped>\n",
       "    .dataframe tbody tr th:only-of-type {\n",
       "        vertical-align: middle;\n",
       "    }\n",
       "\n",
       "    .dataframe tbody tr th {\n",
       "        vertical-align: top;\n",
       "    }\n",
       "\n",
       "    .dataframe thead th {\n",
       "        text-align: right;\n",
       "    }\n",
       "</style>\n",
       "<table border=\"1\" class=\"dataframe\">\n",
       "  <thead>\n",
       "    <tr style=\"text-align: right;\">\n",
       "      <th></th>\n",
       "      <th>fraud_flag</th>\n",
       "      <th>amount</th>\n",
       "    </tr>\n",
       "  </thead>\n",
       "  <tbody>\n",
       "    <tr>\n",
       "      <th>0</th>\n",
       "      <td>0</td>\n",
       "      <td>48625.25</td>\n",
       "    </tr>\n",
       "    <tr>\n",
       "      <th>1</th>\n",
       "      <td>0</td>\n",
       "      <td>20637.21</td>\n",
       "    </tr>\n",
       "    <tr>\n",
       "      <th>2</th>\n",
       "      <td>0</td>\n",
       "      <td>36944.25</td>\n",
       "    </tr>\n",
       "    <tr>\n",
       "      <th>3</th>\n",
       "      <td>0</td>\n",
       "      <td>48653.70</td>\n",
       "    </tr>\n",
       "    <tr>\n",
       "      <th>4</th>\n",
       "      <td>0</td>\n",
       "      <td>48765.81</td>\n",
       "    </tr>\n",
       "  </tbody>\n",
       "</table>\n",
       "</div>"
      ],
      "text/plain": [
       "   fraud_flag    amount\n",
       "0           0  48625.25\n",
       "1           0  20637.21\n",
       "2           0  36944.25\n",
       "3           0  48653.70\n",
       "4           0  48765.81"
      ]
     },
     "execution_count": 359,
     "metadata": {},
     "output_type": "execute_result"
    }
   ],
   "source": [
    "data_model.head()"
   ]
  },
  {
   "cell_type": "code",
   "execution_count": 360,
   "metadata": {},
   "outputs": [
    {
     "data": {
      "text/html": [
       "<div>\n",
       "<style scoped>\n",
       "    .dataframe tbody tr th:only-of-type {\n",
       "        vertical-align: middle;\n",
       "    }\n",
       "\n",
       "    .dataframe tbody tr th {\n",
       "        vertical-align: top;\n",
       "    }\n",
       "\n",
       "    .dataframe thead th {\n",
       "        text-align: right;\n",
       "    }\n",
       "</style>\n",
       "<table border=\"1\" class=\"dataframe\">\n",
       "  <thead>\n",
       "    <tr style=\"text-align: right;\">\n",
       "      <th></th>\n",
       "      <th>ccy_CNY</th>\n",
       "      <th>ccy_EUR</th>\n",
       "      <th>ccy_GBP</th>\n",
       "      <th>ccy_HKD</th>\n",
       "      <th>ccy_INR</th>\n",
       "      <th>ccy_JPY</th>\n",
       "      <th>ccy_SGD</th>\n",
       "      <th>ccy_USD</th>\n",
       "      <th>type_DIVIDEND</th>\n",
       "      <th>type_INTEREST</th>\n",
       "      <th>...</th>\n",
       "      <th>count_country_HK</th>\n",
       "      <th>count_country_IN</th>\n",
       "      <th>count_country_JP</th>\n",
       "      <th>count_country_SG</th>\n",
       "      <th>count_country_UK</th>\n",
       "      <th>count_country_USA</th>\n",
       "      <th>cust_country_UK</th>\n",
       "      <th>cust_country_US</th>\n",
       "      <th>fraud_flag</th>\n",
       "      <th>amount</th>\n",
       "    </tr>\n",
       "  </thead>\n",
       "  <tbody>\n",
       "    <tr>\n",
       "      <th>0</th>\n",
       "      <td>0</td>\n",
       "      <td>0</td>\n",
       "      <td>0</td>\n",
       "      <td>0</td>\n",
       "      <td>0</td>\n",
       "      <td>1</td>\n",
       "      <td>0</td>\n",
       "      <td>0</td>\n",
       "      <td>0</td>\n",
       "      <td>0</td>\n",
       "      <td>...</td>\n",
       "      <td>0</td>\n",
       "      <td>0</td>\n",
       "      <td>0</td>\n",
       "      <td>0</td>\n",
       "      <td>0</td>\n",
       "      <td>0</td>\n",
       "      <td>1</td>\n",
       "      <td>0</td>\n",
       "      <td>0</td>\n",
       "      <td>48625.25</td>\n",
       "    </tr>\n",
       "    <tr>\n",
       "      <th>1</th>\n",
       "      <td>0</td>\n",
       "      <td>0</td>\n",
       "      <td>1</td>\n",
       "      <td>0</td>\n",
       "      <td>0</td>\n",
       "      <td>0</td>\n",
       "      <td>0</td>\n",
       "      <td>0</td>\n",
       "      <td>0</td>\n",
       "      <td>0</td>\n",
       "      <td>...</td>\n",
       "      <td>0</td>\n",
       "      <td>0</td>\n",
       "      <td>0</td>\n",
       "      <td>0</td>\n",
       "      <td>0</td>\n",
       "      <td>0</td>\n",
       "      <td>1</td>\n",
       "      <td>0</td>\n",
       "      <td>0</td>\n",
       "      <td>20637.21</td>\n",
       "    </tr>\n",
       "    <tr>\n",
       "      <th>2</th>\n",
       "      <td>0</td>\n",
       "      <td>0</td>\n",
       "      <td>1</td>\n",
       "      <td>0</td>\n",
       "      <td>0</td>\n",
       "      <td>0</td>\n",
       "      <td>0</td>\n",
       "      <td>0</td>\n",
       "      <td>0</td>\n",
       "      <td>0</td>\n",
       "      <td>...</td>\n",
       "      <td>0</td>\n",
       "      <td>0</td>\n",
       "      <td>0</td>\n",
       "      <td>0</td>\n",
       "      <td>0</td>\n",
       "      <td>0</td>\n",
       "      <td>1</td>\n",
       "      <td>0</td>\n",
       "      <td>0</td>\n",
       "      <td>36944.25</td>\n",
       "    </tr>\n",
       "    <tr>\n",
       "      <th>3</th>\n",
       "      <td>1</td>\n",
       "      <td>0</td>\n",
       "      <td>0</td>\n",
       "      <td>0</td>\n",
       "      <td>0</td>\n",
       "      <td>0</td>\n",
       "      <td>0</td>\n",
       "      <td>0</td>\n",
       "      <td>0</td>\n",
       "      <td>0</td>\n",
       "      <td>...</td>\n",
       "      <td>0</td>\n",
       "      <td>0</td>\n",
       "      <td>0</td>\n",
       "      <td>0</td>\n",
       "      <td>0</td>\n",
       "      <td>0</td>\n",
       "      <td>1</td>\n",
       "      <td>0</td>\n",
       "      <td>0</td>\n",
       "      <td>48653.70</td>\n",
       "    </tr>\n",
       "    <tr>\n",
       "      <th>4</th>\n",
       "      <td>1</td>\n",
       "      <td>0</td>\n",
       "      <td>0</td>\n",
       "      <td>0</td>\n",
       "      <td>0</td>\n",
       "      <td>0</td>\n",
       "      <td>0</td>\n",
       "      <td>0</td>\n",
       "      <td>0</td>\n",
       "      <td>0</td>\n",
       "      <td>...</td>\n",
       "      <td>0</td>\n",
       "      <td>0</td>\n",
       "      <td>0</td>\n",
       "      <td>0</td>\n",
       "      <td>0</td>\n",
       "      <td>0</td>\n",
       "      <td>1</td>\n",
       "      <td>0</td>\n",
       "      <td>0</td>\n",
       "      <td>48765.81</td>\n",
       "    </tr>\n",
       "  </tbody>\n",
       "</table>\n",
       "<p>5 rows × 28 columns</p>\n",
       "</div>"
      ],
      "text/plain": [
       "   ccy_CNY  ccy_EUR  ccy_GBP  ccy_HKD  ccy_INR  ccy_JPY  ccy_SGD  ccy_USD  \\\n",
       "0        0        0        0        0        0        1        0        0   \n",
       "1        0        0        1        0        0        0        0        0   \n",
       "2        0        0        1        0        0        0        0        0   \n",
       "3        1        0        0        0        0        0        0        0   \n",
       "4        1        0        0        0        0        0        0        0   \n",
       "\n",
       "   type_DIVIDEND  type_INTEREST  ...  count_country_HK  count_country_IN  \\\n",
       "0              0              0  ...                 0                 0   \n",
       "1              0              0  ...                 0                 0   \n",
       "2              0              0  ...                 0                 0   \n",
       "3              0              0  ...                 0                 0   \n",
       "4              0              0  ...                 0                 0   \n",
       "\n",
       "   count_country_JP  count_country_SG  count_country_UK  count_country_USA  \\\n",
       "0                 0                 0                 0                  0   \n",
       "1                 0                 0                 0                  0   \n",
       "2                 0                 0                 0                  0   \n",
       "3                 0                 0                 0                  0   \n",
       "4                 0                 0                 0                  0   \n",
       "\n",
       "   cust_country_UK  cust_country_US  fraud_flag    amount  \n",
       "0                1                0           0  48625.25  \n",
       "1                1                0           0  20637.21  \n",
       "2                1                0           0  36944.25  \n",
       "3                1                0           0  48653.70  \n",
       "4                1                0           0  48765.81  \n",
       "\n",
       "[5 rows x 28 columns]"
      ]
     },
     "execution_count": 360,
     "metadata": {},
     "output_type": "execute_result"
    }
   ],
   "source": [
    "# Merge dataframes into a single dataframe\n",
    "merged_df = pd.concat([dummy_ccy,dummy_type,dummy_counterparty_country,dummy_customer_country,data_model], axis=1)\n",
    "merged_df.head()"
   ]
  },
  {
   "cell_type": "code",
   "execution_count": 361,
   "metadata": {},
   "outputs": [
    {
     "data": {
      "text/html": [
       "<div>\n",
       "<style scoped>\n",
       "    .dataframe tbody tr th:only-of-type {\n",
       "        vertical-align: middle;\n",
       "    }\n",
       "\n",
       "    .dataframe tbody tr th {\n",
       "        vertical-align: top;\n",
       "    }\n",
       "\n",
       "    .dataframe thead th {\n",
       "        text-align: right;\n",
       "    }\n",
       "</style>\n",
       "<table border=\"1\" class=\"dataframe\">\n",
       "  <thead>\n",
       "    <tr style=\"text-align: right;\">\n",
       "      <th></th>\n",
       "      <th>ccy_CNY</th>\n",
       "      <th>ccy_EUR</th>\n",
       "      <th>ccy_GBP</th>\n",
       "      <th>ccy_HKD</th>\n",
       "      <th>ccy_INR</th>\n",
       "      <th>ccy_JPY</th>\n",
       "      <th>ccy_SGD</th>\n",
       "      <th>ccy_USD</th>\n",
       "      <th>type_DIVIDEND</th>\n",
       "      <th>type_INTEREST</th>\n",
       "      <th>...</th>\n",
       "      <th>count_country_HK</th>\n",
       "      <th>count_country_IN</th>\n",
       "      <th>count_country_JP</th>\n",
       "      <th>count_country_SG</th>\n",
       "      <th>count_country_UK</th>\n",
       "      <th>count_country_USA</th>\n",
       "      <th>cust_country_UK</th>\n",
       "      <th>cust_country_US</th>\n",
       "      <th>fraud_flag</th>\n",
       "      <th>amount</th>\n",
       "    </tr>\n",
       "  </thead>\n",
       "  <tbody>\n",
       "    <tr>\n",
       "      <th>0</th>\n",
       "      <td>0</td>\n",
       "      <td>0</td>\n",
       "      <td>0</td>\n",
       "      <td>0</td>\n",
       "      <td>0</td>\n",
       "      <td>1</td>\n",
       "      <td>0</td>\n",
       "      <td>0</td>\n",
       "      <td>0</td>\n",
       "      <td>0</td>\n",
       "      <td>...</td>\n",
       "      <td>0</td>\n",
       "      <td>0</td>\n",
       "      <td>0</td>\n",
       "      <td>0</td>\n",
       "      <td>0</td>\n",
       "      <td>0</td>\n",
       "      <td>1</td>\n",
       "      <td>0</td>\n",
       "      <td>0</td>\n",
       "      <td>0.003799</td>\n",
       "    </tr>\n",
       "    <tr>\n",
       "      <th>1</th>\n",
       "      <td>0</td>\n",
       "      <td>0</td>\n",
       "      <td>1</td>\n",
       "      <td>0</td>\n",
       "      <td>0</td>\n",
       "      <td>0</td>\n",
       "      <td>0</td>\n",
       "      <td>0</td>\n",
       "      <td>0</td>\n",
       "      <td>0</td>\n",
       "      <td>...</td>\n",
       "      <td>0</td>\n",
       "      <td>0</td>\n",
       "      <td>0</td>\n",
       "      <td>0</td>\n",
       "      <td>0</td>\n",
       "      <td>0</td>\n",
       "      <td>1</td>\n",
       "      <td>0</td>\n",
       "      <td>0</td>\n",
       "      <td>0.001608</td>\n",
       "    </tr>\n",
       "    <tr>\n",
       "      <th>2</th>\n",
       "      <td>0</td>\n",
       "      <td>0</td>\n",
       "      <td>1</td>\n",
       "      <td>0</td>\n",
       "      <td>0</td>\n",
       "      <td>0</td>\n",
       "      <td>0</td>\n",
       "      <td>0</td>\n",
       "      <td>0</td>\n",
       "      <td>0</td>\n",
       "      <td>...</td>\n",
       "      <td>0</td>\n",
       "      <td>0</td>\n",
       "      <td>0</td>\n",
       "      <td>0</td>\n",
       "      <td>0</td>\n",
       "      <td>0</td>\n",
       "      <td>1</td>\n",
       "      <td>0</td>\n",
       "      <td>0</td>\n",
       "      <td>0.002885</td>\n",
       "    </tr>\n",
       "    <tr>\n",
       "      <th>3</th>\n",
       "      <td>1</td>\n",
       "      <td>0</td>\n",
       "      <td>0</td>\n",
       "      <td>0</td>\n",
       "      <td>0</td>\n",
       "      <td>0</td>\n",
       "      <td>0</td>\n",
       "      <td>0</td>\n",
       "      <td>0</td>\n",
       "      <td>0</td>\n",
       "      <td>...</td>\n",
       "      <td>0</td>\n",
       "      <td>0</td>\n",
       "      <td>0</td>\n",
       "      <td>0</td>\n",
       "      <td>0</td>\n",
       "      <td>0</td>\n",
       "      <td>1</td>\n",
       "      <td>0</td>\n",
       "      <td>0</td>\n",
       "      <td>0.003802</td>\n",
       "    </tr>\n",
       "    <tr>\n",
       "      <th>4</th>\n",
       "      <td>1</td>\n",
       "      <td>0</td>\n",
       "      <td>0</td>\n",
       "      <td>0</td>\n",
       "      <td>0</td>\n",
       "      <td>0</td>\n",
       "      <td>0</td>\n",
       "      <td>0</td>\n",
       "      <td>0</td>\n",
       "      <td>0</td>\n",
       "      <td>...</td>\n",
       "      <td>0</td>\n",
       "      <td>0</td>\n",
       "      <td>0</td>\n",
       "      <td>0</td>\n",
       "      <td>0</td>\n",
       "      <td>0</td>\n",
       "      <td>1</td>\n",
       "      <td>0</td>\n",
       "      <td>0</td>\n",
       "      <td>0.003810</td>\n",
       "    </tr>\n",
       "  </tbody>\n",
       "</table>\n",
       "<p>5 rows × 28 columns</p>\n",
       "</div>"
      ],
      "text/plain": [
       "   ccy_CNY  ccy_EUR  ccy_GBP  ccy_HKD  ccy_INR  ccy_JPY  ccy_SGD  ccy_USD  \\\n",
       "0        0        0        0        0        0        1        0        0   \n",
       "1        0        0        1        0        0        0        0        0   \n",
       "2        0        0        1        0        0        0        0        0   \n",
       "3        1        0        0        0        0        0        0        0   \n",
       "4        1        0        0        0        0        0        0        0   \n",
       "\n",
       "   type_DIVIDEND  type_INTEREST  ...  count_country_HK  count_country_IN  \\\n",
       "0              0              0  ...                 0                 0   \n",
       "1              0              0  ...                 0                 0   \n",
       "2              0              0  ...                 0                 0   \n",
       "3              0              0  ...                 0                 0   \n",
       "4              0              0  ...                 0                 0   \n",
       "\n",
       "   count_country_JP  count_country_SG  count_country_UK  count_country_USA  \\\n",
       "0                 0                 0                 0                  0   \n",
       "1                 0                 0                 0                  0   \n",
       "2                 0                 0                 0                  0   \n",
       "3                 0                 0                 0                  0   \n",
       "4                 0                 0                 0                  0   \n",
       "\n",
       "   cust_country_UK  cust_country_US  fraud_flag    amount  \n",
       "0                1                0           0  0.003799  \n",
       "1                1                0           0  0.001608  \n",
       "2                1                0           0  0.002885  \n",
       "3                1                0           0  0.003802  \n",
       "4                1                0           0  0.003810  \n",
       "\n",
       "[5 rows x 28 columns]"
      ]
     },
     "execution_count": 361,
     "metadata": {},
     "output_type": "execute_result"
    }
   ],
   "source": [
    "## use MinMaxScaler to handle the large values of amount, \n",
    "## since machine learning algorithms will give more importance to variables on a larger scale\n",
    "\n",
    "# Scale only columns that have values greater than 1\n",
    "to_scale = [col for col in data_model.columns if data_model[col].max() > 1]\n",
    "mms = MinMaxScaler()\n",
    "scaled = mms.fit_transform(merged_df[to_scale])\n",
    "scaled = pd.DataFrame(scaled, columns=to_scale)\n",
    "\n",
    "# Replace original columns with scaled ones\n",
    "for col in scaled:\n",
    "    merged_df[col] = scaled[col]\n",
    "    \n",
    "merged_df.head()"
   ]
  },
  {
   "cell_type": "code",
   "execution_count": 362,
   "metadata": {},
   "outputs": [
    {
     "name": "stdout",
     "output_type": "stream",
     "text": [
      "% Positive class in Train = 1.69\n",
      "% Positive class in Test  = 1.67\n"
     ]
    }
   ],
   "source": [
    "## create model using SMOTE to oversample minority class\n",
    "\n",
    "## Naive Approach\n",
    "\n",
    "X = merged_df.drop('fraud_flag', axis=1)\n",
    "y = merged_df['fraud_flag']\n",
    "\n",
    "X_train, X_test, y_train, y_test = train_test_split(\n",
    "    X, y, test_size=0.25, random_state=42\n",
    ")\n",
    "\n",
    "print(f'''% Positive class in Train = {np.round(y_train.value_counts(normalize=True)[1] * 100, 2)}\n",
    "% Positive class in Test  = {np.round(y_test.value_counts(normalize=True)[1] * 100, 2)}''')"
   ]
  },
  {
   "attachments": {},
   "cell_type": "markdown",
   "metadata": {},
   "source": [
    "##### We will start off with a simple Random Forest model, not accounting for class imbalance\n",
    "\n",
    "##### Since we are focusing on fraudulent transactions, we want to ensure we identify all True positives accurately, hence we want to minimise our fall negative (FN) count.\n",
    "\n",
    "##### Main metric of evaluation should therefore be Recall = (TP/TP+FN)"
   ]
  },
  {
   "cell_type": "code",
   "execution_count": 363,
   "metadata": {},
   "outputs": [
    {
     "name": "stdout",
     "output_type": "stream",
     "text": [
      "Accuracy = 0.99\n",
      "Recall = 0.40\n",
      "Precision = 1.00\n",
      "\n"
     ]
    },
    {
     "data": {
      "image/png": "[encoded data removed]",
      "text/plain": [
       "<Figure size 800x600 with 2 Axes>"
      ]
     },
     "metadata": {},
     "output_type": "display_data"
    }
   ],
   "source": [
    "# Train\n",
    "model = RandomForestClassifier(random_state=42)\n",
    "model.fit(X_train, y_train)\n",
    "preds = model.predict(X_test)\n",
    "\n",
    "# Evaluate\n",
    "print(f'Accuracy = {accuracy_score(y_test, preds):.2f}\\nRecall = {recall_score(y_test, preds):.2f}\\nPrecision = {precision_score(y_test, preds):.2f}\\n')\n",
    "cm = confusion_matrix(y_test, preds)\n",
    "plt.figure(figsize=(8, 6))\n",
    "plt.title('Confusion Matrix (without SMOTE)', size=16)\n",
    "sns.heatmap(cm, annot=True, cmap='Blues');"
   ]
  },
  {
   "attachments": {},
   "cell_type": "markdown",
   "metadata": {},
   "source": [
    "##### As we can see for the simple random forest model, the model is being overfitted and is predicting the majority class, which is Y=0. Hence,there is a need to handle class imbalance for our minority class."
   ]
  },
  {
   "cell_type": "code",
   "execution_count": 364,
   "metadata": {},
   "outputs": [
    {
     "name": "stdout",
     "output_type": "stream",
     "text": [
      "Shape of X before SMOTE: (4803, 27)\n",
      "Shape of X after SMOTE: (9444, 27)\n",
      "\n",
      "Balance of positive and negative classes (%):\n"
     ]
    },
    {
     "data": {
      "text/plain": [
       "0    50.0\n",
       "1    50.0\n",
       "Name: fraud_flag, dtype: float64"
      ]
     },
     "execution_count": 364,
     "metadata": {},
     "output_type": "execute_result"
    }
   ],
   "source": [
    "## handle class imbalance\n",
    "\n",
    "sm = SMOTE(random_state=42)\n",
    "\n",
    "X_sm, y_sm = sm.fit_resample(X, y)\n",
    "\n",
    "print(f'''Shape of X before SMOTE: {X.shape}\n",
    "Shape of X after SMOTE: {X_sm.shape}''')\n",
    "\n",
    "print('\\nBalance of positive and negative classes (%):')\n",
    "y_sm.value_counts(normalize=True) * 100"
   ]
  },
  {
   "cell_type": "code",
   "execution_count": 365,
   "metadata": {},
   "outputs": [
    {
     "name": "stdout",
     "output_type": "stream",
     "text": [
      "Accuracy = 0.99\n",
      "Recall = 0.99\n",
      "Precision = 0.99\n",
      "\n"
     ]
    },
    {
     "data": {
      "image/png": "[encoded data removed]",
      "text/plain": [
       "<Figure size 800x600 with 2 Axes>"
      ]
     },
     "metadata": {},
     "output_type": "display_data"
    }
   ],
   "source": [
    "## random forest model with balanced dataset\n",
    "\n",
    "X_train, X_test, y_train, y_test = train_test_split(\n",
    "    X_sm, y_sm, test_size=0.25, random_state=42\n",
    ")\n",
    "\n",
    "model = RandomForestClassifier(random_state=42)\n",
    "model.fit(X_train, y_train)\n",
    "preds = model.predict(X_test)\n",
    "\n",
    "print(f'Accuracy = {accuracy_score(y_test, preds):.2f}\\nRecall = {recall_score(y_test, preds):.2f}\\nPrecision = {precision_score(y_test, preds):.2f}\\n')\n",
    "cm = confusion_matrix(y_test, preds)\n",
    "plt.figure(figsize=(8, 6))\n",
    "plt.title('Confusion Matrix (with SMOTE)', size=16)\n",
    "sns.heatmap(cm, annot=True, cmap='Blues');"
   ]
  },
  {
   "cell_type": "code",
   "execution_count": 366,
   "metadata": {},
   "outputs": [
    {
     "data": {
      "image/png": "[encoded data removed]",
      "text/plain": [
       "<Figure size 640x480 with 1 Axes>"
      ]
     },
     "metadata": {},
     "output_type": "display_data"
    }
   ],
   "source": [
    "# plot auc-roc curve\n",
    "ax = plt.gca()\n",
    "rfc_disp = RocCurveDisplay.from_estimator(model, X_test, y_test, ax=ax, alpha=0.8)"
   ]
  },
  {
   "attachments": {},
   "cell_type": "markdown",
   "metadata": {},
   "source": [
    "##### After handling class imbalance, the model performs better with a recall of 0.99."
   ]
  },
  {
   "cell_type": "code",
   "execution_count": 367,
   "metadata": {},
   "outputs": [
    {
     "name": "stdout",
     "output_type": "stream",
     "text": [
      " 1) amount                         0.259184\n",
      " 2) type_PAYMENT                   0.065186\n",
      " 3) cust_country_UK                0.054732\n",
      " 4) count_country_JP               0.047096\n",
      " 5) type_DIVIDEND                  0.047005\n",
      " 6) type_INTEREST                  0.043502\n",
      " 7) ccy_CNY                        0.038917\n",
      " 8) ccy_USD                        0.037231\n",
      " 9) cust_country_US                0.035012\n",
      "10) type_INVESTMENT                0.027202\n",
      "11) type_OTHER                     0.026739\n",
      "12) ccy_GBP                        0.026045\n",
      "13) count_country_CN               0.025877\n",
      "14) ccy_HKD                        0.023911\n",
      "15) type_TRANSFER                  0.023700\n",
      "16) ccy_SGD                        0.022445\n",
      "17) type_TT                        0.021074\n",
      "18) count_country_IN               0.020616\n",
      "19) ccy_JPY                        0.020093\n",
      "20) count_country_DE               0.019620\n",
      "21) count_country_SG               0.019530\n",
      "22) count_country_UK               0.019375\n",
      "23) count_country_HK               0.018831\n",
      "24) ccy_EUR                        0.018822\n",
      "25) count_country_FR               0.016524\n",
      "26) count_country_USA              0.012281\n",
      "27) ccy_INR                        0.009452\n"
     ]
    }
   ],
   "source": [
    "## feature importance scores\n",
    "\n",
    "importances = model.feature_importances_\n",
    "#\n",
    "# Sort the feature importance in descending order\n",
    "#\n",
    "sorted_indices = np.argsort(importances)[::-1]\n",
    " \n",
    "feat_labels = X.columns\n",
    " \n",
    "for f in range(X_train.shape[1]):\n",
    "    print(\"%2d) %-*s %f\" % (f + 1, 30,\n",
    "                            feat_labels[sorted_indices[f]],\n",
    "                            importances[sorted_indices[f]]))"
   ]
  },
  {
   "cell_type": "code",
   "execution_count": 368,
   "metadata": {},
   "outputs": [
    {
     "data": {
      "image/png": "[encoded data removed]",
      "text/plain": [
       "<Figure size 640x480 with 1 Axes>"
      ]
     },
     "metadata": {},
     "output_type": "display_data"
    }
   ],
   "source": [
    "## Visualise feature importance scores\n",
    "plt.title('Feature Importance')\n",
    "plt.bar(range(X_train.shape[1]), importances[sorted_indices], align='center')\n",
    "plt.xticks(range(X_train.shape[1]), X_train.columns[sorted_indices], rotation=90)\n",
    "plt.tight_layout()\n",
    "plt.show()"
   ]
  },
  {
   "attachments": {},
   "cell_type": "markdown",
   "metadata": {},
   "source": [
    "##### We can see from the feature importance scores that the **amount** column plays a key role in identifying fraudulent transactions.\n",
    "##### However, based from our EDA, we notice that is difficult to identify fraudulent transactions just from the **amount** column given the large overlap in values from our boxplot.\n",
    "\n",
    "##### Showcased below is the boxplot of the relationship between **fraud_flag** and **amount**."
   ]
  },
  {
   "cell_type": "code",
   "execution_count": 369,
   "metadata": {},
   "outputs": [
    {
     "data": {
      "text/plain": [
       "<AxesSubplot: title={'center': 'amount'}, xlabel='fraud_flag'>"
      ]
     },
     "execution_count": 369,
     "metadata": {},
     "output_type": "execute_result"
    },
    {
     "data": {
      "image/png": "[encoded data removed]",
      "text/plain": [
       "<Figure size 500x600 with 1 Axes>"
      ]
     },
     "metadata": {},
     "output_type": "display_data"
    }
   ],
   "source": [
    "#box plot of relationship between fraud_flag and amount\n",
    "data.boxplot(column='amount', by='fraud_flag', figsize=(5,6))"
   ]
  },
  {
   "attachments": {},
   "cell_type": "markdown",
   "metadata": {},
   "source": [
    "## Model 2\n",
    "### Add in new features"
   ]
  },
  {
   "attachments": {},
   "cell_type": "markdown",
   "metadata": {},
   "source": [
    "##### I will be adding two new columns, based on the customer's and counterparty's history of having fraudulent transactions before.\n",
    "##### I will be taking the **mean** of the fraud_flag for each customer and counterparty respectively. \n",
    "\n",
    "##### I will also remove the counterparty column, hence the 499 rows will be kept."
   ]
  },
  {
   "cell_type": "code",
   "execution_count": 370,
   "metadata": {},
   "outputs": [
    {
     "data": {
      "text/html": [
       "<div>\n",
       "<style scoped>\n",
       "    .dataframe tbody tr th:only-of-type {\n",
       "        vertical-align: middle;\n",
       "    }\n",
       "\n",
       "    .dataframe tbody tr th {\n",
       "        vertical-align: top;\n",
       "    }\n",
       "\n",
       "    .dataframe thead th {\n",
       "        text-align: right;\n",
       "    }\n",
       "</style>\n",
       "<table border=\"1\" class=\"dataframe\">\n",
       "  <thead>\n",
       "    <tr style=\"text-align: right;\">\n",
       "      <th></th>\n",
       "      <th>customer</th>\n",
       "      <th>fraud_past_cust</th>\n",
       "    </tr>\n",
       "  </thead>\n",
       "  <tbody>\n",
       "    <tr>\n",
       "      <th>0</th>\n",
       "      <td>R35322123754253</td>\n",
       "      <td>0.230769</td>\n",
       "    </tr>\n",
       "    <tr>\n",
       "      <th>1</th>\n",
       "      <td>P52769772532121</td>\n",
       "      <td>0.207317</td>\n",
       "    </tr>\n",
       "    <tr>\n",
       "      <th>2</th>\n",
       "      <td>K65138125882614</td>\n",
       "      <td>0.176471</td>\n",
       "    </tr>\n",
       "    <tr>\n",
       "      <th>3</th>\n",
       "      <td>P45766486597685</td>\n",
       "      <td>0.152941</td>\n",
       "    </tr>\n",
       "    <tr>\n",
       "      <th>4</th>\n",
       "      <td>P68755181269737</td>\n",
       "      <td>0.109890</td>\n",
       "    </tr>\n",
       "  </tbody>\n",
       "</table>\n",
       "</div>"
      ],
      "text/plain": [
       "          customer  fraud_past_cust\n",
       "0  R35322123754253         0.230769\n",
       "1  P52769772532121         0.207317\n",
       "2  K65138125882614         0.176471\n",
       "3  P45766486597685         0.152941\n",
       "4  P68755181269737         0.109890"
      ]
     },
     "execution_count": 370,
     "metadata": {},
     "output_type": "execute_result"
    }
   ],
   "source": [
    "## identify mean of customer's fraudulent transactions history\n",
    "customer_past_fraud = data.groupby('customer')['fraud_flag'].mean().to_frame().reset_index()\n",
    "customer_past_fraud.columns = ['customer', 'fraud_past_cust']\n",
    "\n",
    "customer_past_fraud.sort_values(by='fraud_past_cust',ascending=False).reset_index(drop=True).head()"
   ]
  },
  {
   "cell_type": "code",
   "execution_count": 371,
   "metadata": {},
   "outputs": [
    {
     "data": {
      "text/html": [
       "<div>\n",
       "<style scoped>\n",
       "    .dataframe tbody tr th:only-of-type {\n",
       "        vertical-align: middle;\n",
       "    }\n",
       "\n",
       "    .dataframe tbody tr th {\n",
       "        vertical-align: top;\n",
       "    }\n",
       "\n",
       "    .dataframe thead th {\n",
       "        text-align: right;\n",
       "    }\n",
       "</style>\n",
       "<table border=\"1\" class=\"dataframe\">\n",
       "  <thead>\n",
       "    <tr style=\"text-align: right;\">\n",
       "      <th></th>\n",
       "      <th>counterparty</th>\n",
       "      <th>fraud_past_counter</th>\n",
       "    </tr>\n",
       "  </thead>\n",
       "  <tbody>\n",
       "    <tr>\n",
       "      <th>0</th>\n",
       "      <td>11361375457751</td>\n",
       "      <td>1.0</td>\n",
       "    </tr>\n",
       "    <tr>\n",
       "      <th>1</th>\n",
       "      <td>19119499953466</td>\n",
       "      <td>1.0</td>\n",
       "    </tr>\n",
       "    <tr>\n",
       "      <th>2</th>\n",
       "      <td>21197982847468</td>\n",
       "      <td>1.0</td>\n",
       "    </tr>\n",
       "    <tr>\n",
       "      <th>3</th>\n",
       "      <td>21246979492915</td>\n",
       "      <td>1.0</td>\n",
       "    </tr>\n",
       "    <tr>\n",
       "      <th>4</th>\n",
       "      <td>21691185267134</td>\n",
       "      <td>1.0</td>\n",
       "    </tr>\n",
       "  </tbody>\n",
       "</table>\n",
       "</div>"
      ],
      "text/plain": [
       "     counterparty  fraud_past_counter\n",
       "0  11361375457751                 1.0\n",
       "1  19119499953466                 1.0\n",
       "2  21197982847468                 1.0\n",
       "3  21246979492915                 1.0\n",
       "4  21691185267134                 1.0"
      ]
     },
     "execution_count": 371,
     "metadata": {},
     "output_type": "execute_result"
    }
   ],
   "source": [
    "## identify mean of counterparty's fraudulent transactions history\n",
    "counterparty_past_fraud = data.groupby('counterparty')['fraud_flag'].mean().to_frame().reset_index()\n",
    "counterparty_past_fraud.columns = ['counterparty', 'fraud_past_counter']\n",
    "\n",
    "counterparty_past_fraud.sort_values(by='fraud_past_counter',ascending=False).reset_index(drop=True).head()"
   ]
  },
  {
   "cell_type": "code",
   "execution_count": 372,
   "metadata": {},
   "outputs": [],
   "source": [
    "## merge the two newly created dfs to data df\n",
    "data = pd.merge(data, customer_past_fraud, on=\"customer\")\n",
    "data = pd.merge(data, counterparty_past_fraud, on = \"counterparty\")"
   ]
  },
  {
   "cell_type": "code",
   "execution_count": 373,
   "metadata": {},
   "outputs": [
    {
     "data": {
      "text/html": [
       "<div>\n",
       "<style scoped>\n",
       "    .dataframe tbody tr th:only-of-type {\n",
       "        vertical-align: middle;\n",
       "    }\n",
       "\n",
       "    .dataframe tbody tr th {\n",
       "        vertical-align: top;\n",
       "    }\n",
       "\n",
       "    .dataframe thead th {\n",
       "        text-align: right;\n",
       "    }\n",
       "</style>\n",
       "<table border=\"1\" class=\"dataframe\">\n",
       "  <thead>\n",
       "    <tr style=\"text-align: right;\">\n",
       "      <th></th>\n",
       "      <th>customer</th>\n",
       "      <th>customer_country</th>\n",
       "      <th>fraud_flag</th>\n",
       "      <th>timestamp</th>\n",
       "      <th>counterparty</th>\n",
       "      <th>type</th>\n",
       "      <th>ccy</th>\n",
       "      <th>amount</th>\n",
       "      <th>month_year</th>\n",
       "      <th>time</th>\n",
       "      <th>fraud_past_cust</th>\n",
       "      <th>fraud_past_counter</th>\n",
       "    </tr>\n",
       "  </thead>\n",
       "  <tbody>\n",
       "    <tr>\n",
       "      <th>0</th>\n",
       "      <td>C12976926337644</td>\n",
       "      <td>UK</td>\n",
       "      <td>0</td>\n",
       "      <td>2021-03-20 05:59:25</td>\n",
       "      <td>77697395249488</td>\n",
       "      <td>OTHER</td>\n",
       "      <td>JPY</td>\n",
       "      <td>48625.25</td>\n",
       "      <td>2021-03</td>\n",
       "      <td>night</td>\n",
       "      <td>0.0</td>\n",
       "      <td>0.0</td>\n",
       "    </tr>\n",
       "    <tr>\n",
       "      <th>1</th>\n",
       "      <td>C12976926337644</td>\n",
       "      <td>UK</td>\n",
       "      <td>0</td>\n",
       "      <td>2021-05-02 03:00:38</td>\n",
       "      <td>77697395249488</td>\n",
       "      <td>PAYMENT</td>\n",
       "      <td>GBP</td>\n",
       "      <td>20637.21</td>\n",
       "      <td>2021-05</td>\n",
       "      <td>night</td>\n",
       "      <td>0.0</td>\n",
       "      <td>0.0</td>\n",
       "    </tr>\n",
       "    <tr>\n",
       "      <th>2</th>\n",
       "      <td>C12976926337644</td>\n",
       "      <td>UK</td>\n",
       "      <td>0</td>\n",
       "      <td>2021-05-23 22:15:15</td>\n",
       "      <td>77697395249488</td>\n",
       "      <td>PAYMENT</td>\n",
       "      <td>USD</td>\n",
       "      <td>56691.27</td>\n",
       "      <td>2021-05</td>\n",
       "      <td>evening</td>\n",
       "      <td>0.0</td>\n",
       "      <td>0.0</td>\n",
       "    </tr>\n",
       "    <tr>\n",
       "      <th>3</th>\n",
       "      <td>C12976926337644</td>\n",
       "      <td>UK</td>\n",
       "      <td>0</td>\n",
       "      <td>2021-07-07 21:36:50</td>\n",
       "      <td>77697395249488</td>\n",
       "      <td>PAYMENT</td>\n",
       "      <td>CNY</td>\n",
       "      <td>343864.71</td>\n",
       "      <td>2021-07</td>\n",
       "      <td>evening</td>\n",
       "      <td>0.0</td>\n",
       "      <td>0.0</td>\n",
       "    </tr>\n",
       "    <tr>\n",
       "      <th>4</th>\n",
       "      <td>C12976926337644</td>\n",
       "      <td>UK</td>\n",
       "      <td>0</td>\n",
       "      <td>2021-09-02 00:14:03</td>\n",
       "      <td>77697395249488</td>\n",
       "      <td>PAYMENT</td>\n",
       "      <td>USD</td>\n",
       "      <td>57247.35</td>\n",
       "      <td>2021-09</td>\n",
       "      <td>night</td>\n",
       "      <td>0.0</td>\n",
       "      <td>0.0</td>\n",
       "    </tr>\n",
       "  </tbody>\n",
       "</table>\n",
       "</div>"
      ],
      "text/plain": [
       "          customer customer_country  fraud_flag           timestamp  \\\n",
       "0  C12976926337644               UK           0 2021-03-20 05:59:25   \n",
       "1  C12976926337644               UK           0 2021-05-02 03:00:38   \n",
       "2  C12976926337644               UK           0 2021-05-23 22:15:15   \n",
       "3  C12976926337644               UK           0 2021-07-07 21:36:50   \n",
       "4  C12976926337644               UK           0 2021-09-02 00:14:03   \n",
       "\n",
       "     counterparty     type  ccy     amount month_year     time  \\\n",
       "0  77697395249488    OTHER  JPY   48625.25    2021-03    night   \n",
       "1  77697395249488  PAYMENT  GBP   20637.21    2021-05    night   \n",
       "2  77697395249488  PAYMENT  USD   56691.27    2021-05  evening   \n",
       "3  77697395249488  PAYMENT  CNY  343864.71    2021-07  evening   \n",
       "4  77697395249488  PAYMENT  USD   57247.35    2021-09    night   \n",
       "\n",
       "   fraud_past_cust  fraud_past_counter  \n",
       "0              0.0                 0.0  \n",
       "1              0.0                 0.0  \n",
       "2              0.0                 0.0  \n",
       "3              0.0                 0.0  \n",
       "4              0.0                 0.0  "
      ]
     },
     "execution_count": 373,
     "metadata": {},
     "output_type": "execute_result"
    }
   ],
   "source": [
    "## drop counterparty column so that we do not need to drop any na values\n",
    "data_model_2 = data.drop(['counterparty_country'],axis=1)\n",
    "data_model_2.head()"
   ]
  },
  {
   "cell_type": "code",
   "execution_count": 374,
   "metadata": {},
   "outputs": [
    {
     "name": "stderr",
     "output_type": "stream",
     "text": [
      "/var/folders/fp/chskv2v95k13ldv_jpwqql9c0000gn/T/ipykernel_13821/3897801111.py:3: FutureWarning: The default value of numeric_only in DataFrame.corr is deprecated. In a future version, it will default to False. Select only valid columns or specify the value of numeric_only to silence this warning.\n",
      "  data_model_2.corr()\n"
     ]
    },
    {
     "data": {
      "text/html": [
       "<div>\n",
       "<style scoped>\n",
       "    .dataframe tbody tr th:only-of-type {\n",
       "        vertical-align: middle;\n",
       "    }\n",
       "\n",
       "    .dataframe tbody tr th {\n",
       "        vertical-align: top;\n",
       "    }\n",
       "\n",
       "    .dataframe thead th {\n",
       "        text-align: right;\n",
       "    }\n",
       "</style>\n",
       "<table border=\"1\" class=\"dataframe\">\n",
       "  <thead>\n",
       "    <tr style=\"text-align: right;\">\n",
       "      <th></th>\n",
       "      <th>fraud_flag</th>\n",
       "      <th>counterparty</th>\n",
       "      <th>amount</th>\n",
       "      <th>fraud_past_cust</th>\n",
       "      <th>fraud_past_counter</th>\n",
       "    </tr>\n",
       "  </thead>\n",
       "  <tbody>\n",
       "    <tr>\n",
       "      <th>fraud_flag</th>\n",
       "      <td>1.000000</td>\n",
       "      <td>0.016388</td>\n",
       "      <td>0.010768</td>\n",
       "      <td>0.317809</td>\n",
       "      <td>0.779866</td>\n",
       "    </tr>\n",
       "    <tr>\n",
       "      <th>counterparty</th>\n",
       "      <td>0.016388</td>\n",
       "      <td>1.000000</td>\n",
       "      <td>-0.037123</td>\n",
       "      <td>-0.035168</td>\n",
       "      <td>0.021014</td>\n",
       "    </tr>\n",
       "    <tr>\n",
       "      <th>amount</th>\n",
       "      <td>0.010768</td>\n",
       "      <td>-0.037123</td>\n",
       "      <td>1.000000</td>\n",
       "      <td>-0.057128</td>\n",
       "      <td>0.004364</td>\n",
       "    </tr>\n",
       "    <tr>\n",
       "      <th>fraud_past_cust</th>\n",
       "      <td>0.317809</td>\n",
       "      <td>-0.035168</td>\n",
       "      <td>-0.057128</td>\n",
       "      <td>1.000000</td>\n",
       "      <td>0.407518</td>\n",
       "    </tr>\n",
       "    <tr>\n",
       "      <th>fraud_past_counter</th>\n",
       "      <td>0.779866</td>\n",
       "      <td>0.021014</td>\n",
       "      <td>0.004364</td>\n",
       "      <td>0.407518</td>\n",
       "      <td>1.000000</td>\n",
       "    </tr>\n",
       "  </tbody>\n",
       "</table>\n",
       "</div>"
      ],
      "text/plain": [
       "                    fraud_flag  counterparty    amount  fraud_past_cust  \\\n",
       "fraud_flag            1.000000      0.016388  0.010768         0.317809   \n",
       "counterparty          0.016388      1.000000 -0.037123        -0.035168   \n",
       "amount                0.010768     -0.037123  1.000000        -0.057128   \n",
       "fraud_past_cust       0.317809     -0.035168 -0.057128         1.000000   \n",
       "fraud_past_counter    0.779866      0.021014  0.004364         0.407518   \n",
       "\n",
       "                    fraud_past_counter  \n",
       "fraud_flag                    0.779866  \n",
       "counterparty                  0.021014  \n",
       "amount                        0.004364  \n",
       "fraud_past_cust               0.407518  \n",
       "fraud_past_counter            1.000000  "
      ]
     },
     "execution_count": 374,
     "metadata": {},
     "output_type": "execute_result"
    }
   ],
   "source": [
    "## get correlation of features in data_model_2\n",
    "## we ignore counterparty since that is the counterparty id\n",
    "data_model_2.corr()"
   ]
  },
  {
   "cell_type": "code",
   "execution_count": 375,
   "metadata": {},
   "outputs": [
    {
     "name": "stdout",
     "output_type": "stream",
     "text": [
      "              feature       VIF\n",
      "0              amount  1.005609\n",
      "1     fraud_past_cust  1.236617\n",
      "2  fraud_past_counter  1.234601\n"
     ]
    }
   ],
   "source": [
    "## Check multicollinearity amongst independent features using VIF\n",
    "\n",
    "# VIF dataframe\n",
    "vif_data = pd.DataFrame()\n",
    "cols = data_model_2[[\"amount\",\"fraud_past_cust\",\"fraud_past_counter\"]]\n",
    "vif_data[\"feature\"] = cols.columns\n",
    "  \n",
    "# calculating VIF for each feature\n",
    "vif_data[\"VIF\"] = [variance_inflation_factor(cols.values, i)\n",
    "                          for i in range(len(cols.columns))]\n",
    "  \n",
    "print(vif_data)\n",
    "\n",
    "## since there is low multicollinearity amongst features, we can use the 2 new features for our model (fraud_past_cust and fraud_past_counter)"
   ]
  },
  {
   "cell_type": "code",
   "execution_count": 376,
   "metadata": {},
   "outputs": [],
   "source": [
    "# Create dummy variables (same preprocessing as model 1, excluding counterparty_country column)\n",
    "# Since there are 499 new rows included as compared to model 1, the creation of dummy variables will be done again for analysis\n",
    "dummy_customer_country_2 = pd.get_dummies(data_model_2['customer_country'], prefix='cust_country', drop_first=True)\n",
    "dummy_type_2 = pd.get_dummies(data_model_2['type'], prefix='type', drop_first=True)\n",
    "dummy_ccy_2 = pd.get_dummies(data_model_2['ccy'], prefix='ccy', drop_first=True) "
   ]
  },
  {
   "cell_type": "code",
   "execution_count": 377,
   "metadata": {},
   "outputs": [],
   "source": [
    "# Drop unnecessary columns\n",
    "to_drop = ['customer','customer_country', 'timestamp', 'counterparty', 'type', 'ccy','month_year','time']\n",
    "data_model_2.drop(to_drop, axis=1, inplace=True)"
   ]
  },
  {
   "cell_type": "code",
   "execution_count": 378,
   "metadata": {},
   "outputs": [
    {
     "data": {
      "text/html": [
       "<div>\n",
       "<style scoped>\n",
       "    .dataframe tbody tr th:only-of-type {\n",
       "        vertical-align: middle;\n",
       "    }\n",
       "\n",
       "    .dataframe tbody tr th {\n",
       "        vertical-align: top;\n",
       "    }\n",
       "\n",
       "    .dataframe thead th {\n",
       "        text-align: right;\n",
       "    }\n",
       "</style>\n",
       "<table border=\"1\" class=\"dataframe\">\n",
       "  <thead>\n",
       "    <tr style=\"text-align: right;\">\n",
       "      <th></th>\n",
       "      <th>fraud_flag</th>\n",
       "      <th>amount</th>\n",
       "      <th>fraud_past_cust</th>\n",
       "      <th>fraud_past_counter</th>\n",
       "    </tr>\n",
       "  </thead>\n",
       "  <tbody>\n",
       "    <tr>\n",
       "      <th>0</th>\n",
       "      <td>0</td>\n",
       "      <td>48625.25</td>\n",
       "      <td>0.0</td>\n",
       "      <td>0.0</td>\n",
       "    </tr>\n",
       "    <tr>\n",
       "      <th>1</th>\n",
       "      <td>0</td>\n",
       "      <td>20637.21</td>\n",
       "      <td>0.0</td>\n",
       "      <td>0.0</td>\n",
       "    </tr>\n",
       "    <tr>\n",
       "      <th>2</th>\n",
       "      <td>0</td>\n",
       "      <td>56691.27</td>\n",
       "      <td>0.0</td>\n",
       "      <td>0.0</td>\n",
       "    </tr>\n",
       "    <tr>\n",
       "      <th>3</th>\n",
       "      <td>0</td>\n",
       "      <td>343864.71</td>\n",
       "      <td>0.0</td>\n",
       "      <td>0.0</td>\n",
       "    </tr>\n",
       "    <tr>\n",
       "      <th>4</th>\n",
       "      <td>0</td>\n",
       "      <td>57247.35</td>\n",
       "      <td>0.0</td>\n",
       "      <td>0.0</td>\n",
       "    </tr>\n",
       "    <tr>\n",
       "      <th>...</th>\n",
       "      <td>...</td>\n",
       "      <td>...</td>\n",
       "      <td>...</td>\n",
       "      <td>...</td>\n",
       "    </tr>\n",
       "    <tr>\n",
       "      <th>5297</th>\n",
       "      <td>0</td>\n",
       "      <td>25774.25</td>\n",
       "      <td>0.0</td>\n",
       "      <td>0.0</td>\n",
       "    </tr>\n",
       "    <tr>\n",
       "      <th>5298</th>\n",
       "      <td>0</td>\n",
       "      <td>25660.33</td>\n",
       "      <td>0.0</td>\n",
       "      <td>0.0</td>\n",
       "    </tr>\n",
       "    <tr>\n",
       "      <th>5299</th>\n",
       "      <td>0</td>\n",
       "      <td>32242.92</td>\n",
       "      <td>0.0</td>\n",
       "      <td>0.0</td>\n",
       "    </tr>\n",
       "    <tr>\n",
       "      <th>5300</th>\n",
       "      <td>0</td>\n",
       "      <td>32139.62</td>\n",
       "      <td>0.0</td>\n",
       "      <td>0.0</td>\n",
       "    </tr>\n",
       "    <tr>\n",
       "      <th>5301</th>\n",
       "      <td>0</td>\n",
       "      <td>17784.71</td>\n",
       "      <td>0.0</td>\n",
       "      <td>0.0</td>\n",
       "    </tr>\n",
       "  </tbody>\n",
       "</table>\n",
       "<p>5302 rows × 4 columns</p>\n",
       "</div>"
      ],
      "text/plain": [
       "      fraud_flag     amount  fraud_past_cust  fraud_past_counter\n",
       "0              0   48625.25              0.0                 0.0\n",
       "1              0   20637.21              0.0                 0.0\n",
       "2              0   56691.27              0.0                 0.0\n",
       "3              0  343864.71              0.0                 0.0\n",
       "4              0   57247.35              0.0                 0.0\n",
       "...          ...        ...              ...                 ...\n",
       "5297           0   25774.25              0.0                 0.0\n",
       "5298           0   25660.33              0.0                 0.0\n",
       "5299           0   32242.92              0.0                 0.0\n",
       "5300           0   32139.62              0.0                 0.0\n",
       "5301           0   17784.71              0.0                 0.0\n",
       "\n",
       "[5302 rows x 4 columns]"
      ]
     },
     "execution_count": 378,
     "metadata": {},
     "output_type": "execute_result"
    }
   ],
   "source": [
    "data_model_2"
   ]
  },
  {
   "cell_type": "code",
   "execution_count": 379,
   "metadata": {},
   "outputs": [
    {
     "data": {
      "text/html": [
       "<div>\n",
       "<style scoped>\n",
       "    .dataframe tbody tr th:only-of-type {\n",
       "        vertical-align: middle;\n",
       "    }\n",
       "\n",
       "    .dataframe tbody tr th {\n",
       "        vertical-align: top;\n",
       "    }\n",
       "\n",
       "    .dataframe thead th {\n",
       "        text-align: right;\n",
       "    }\n",
       "</style>\n",
       "<table border=\"1\" class=\"dataframe\">\n",
       "  <thead>\n",
       "    <tr style=\"text-align: right;\">\n",
       "      <th></th>\n",
       "      <th>ccy_CNY</th>\n",
       "      <th>ccy_EUR</th>\n",
       "      <th>ccy_GBP</th>\n",
       "      <th>ccy_HKD</th>\n",
       "      <th>ccy_INR</th>\n",
       "      <th>ccy_JPY</th>\n",
       "      <th>ccy_SGD</th>\n",
       "      <th>ccy_USD</th>\n",
       "      <th>type_DIVIDEND</th>\n",
       "      <th>type_INTEREST</th>\n",
       "      <th>...</th>\n",
       "      <th>type_OTHER</th>\n",
       "      <th>type_PAYMENT</th>\n",
       "      <th>type_TRANSFER</th>\n",
       "      <th>type_TT</th>\n",
       "      <th>cust_country_UK</th>\n",
       "      <th>cust_country_US</th>\n",
       "      <th>fraud_flag</th>\n",
       "      <th>amount</th>\n",
       "      <th>fraud_past_cust</th>\n",
       "      <th>fraud_past_counter</th>\n",
       "    </tr>\n",
       "  </thead>\n",
       "  <tbody>\n",
       "    <tr>\n",
       "      <th>0</th>\n",
       "      <td>0</td>\n",
       "      <td>0</td>\n",
       "      <td>0</td>\n",
       "      <td>0</td>\n",
       "      <td>0</td>\n",
       "      <td>1</td>\n",
       "      <td>0</td>\n",
       "      <td>0</td>\n",
       "      <td>0</td>\n",
       "      <td>0</td>\n",
       "      <td>...</td>\n",
       "      <td>1</td>\n",
       "      <td>0</td>\n",
       "      <td>0</td>\n",
       "      <td>0</td>\n",
       "      <td>1</td>\n",
       "      <td>0</td>\n",
       "      <td>0</td>\n",
       "      <td>48625.25</td>\n",
       "      <td>0.0</td>\n",
       "      <td>0.0</td>\n",
       "    </tr>\n",
       "    <tr>\n",
       "      <th>1</th>\n",
       "      <td>0</td>\n",
       "      <td>0</td>\n",
       "      <td>1</td>\n",
       "      <td>0</td>\n",
       "      <td>0</td>\n",
       "      <td>0</td>\n",
       "      <td>0</td>\n",
       "      <td>0</td>\n",
       "      <td>0</td>\n",
       "      <td>0</td>\n",
       "      <td>...</td>\n",
       "      <td>0</td>\n",
       "      <td>1</td>\n",
       "      <td>0</td>\n",
       "      <td>0</td>\n",
       "      <td>1</td>\n",
       "      <td>0</td>\n",
       "      <td>0</td>\n",
       "      <td>20637.21</td>\n",
       "      <td>0.0</td>\n",
       "      <td>0.0</td>\n",
       "    </tr>\n",
       "    <tr>\n",
       "      <th>2</th>\n",
       "      <td>0</td>\n",
       "      <td>0</td>\n",
       "      <td>0</td>\n",
       "      <td>0</td>\n",
       "      <td>0</td>\n",
       "      <td>0</td>\n",
       "      <td>0</td>\n",
       "      <td>1</td>\n",
       "      <td>0</td>\n",
       "      <td>0</td>\n",
       "      <td>...</td>\n",
       "      <td>0</td>\n",
       "      <td>1</td>\n",
       "      <td>0</td>\n",
       "      <td>0</td>\n",
       "      <td>1</td>\n",
       "      <td>0</td>\n",
       "      <td>0</td>\n",
       "      <td>56691.27</td>\n",
       "      <td>0.0</td>\n",
       "      <td>0.0</td>\n",
       "    </tr>\n",
       "    <tr>\n",
       "      <th>3</th>\n",
       "      <td>1</td>\n",
       "      <td>0</td>\n",
       "      <td>0</td>\n",
       "      <td>0</td>\n",
       "      <td>0</td>\n",
       "      <td>0</td>\n",
       "      <td>0</td>\n",
       "      <td>0</td>\n",
       "      <td>0</td>\n",
       "      <td>0</td>\n",
       "      <td>...</td>\n",
       "      <td>0</td>\n",
       "      <td>1</td>\n",
       "      <td>0</td>\n",
       "      <td>0</td>\n",
       "      <td>1</td>\n",
       "      <td>0</td>\n",
       "      <td>0</td>\n",
       "      <td>343864.71</td>\n",
       "      <td>0.0</td>\n",
       "      <td>0.0</td>\n",
       "    </tr>\n",
       "    <tr>\n",
       "      <th>4</th>\n",
       "      <td>0</td>\n",
       "      <td>0</td>\n",
       "      <td>0</td>\n",
       "      <td>0</td>\n",
       "      <td>0</td>\n",
       "      <td>0</td>\n",
       "      <td>0</td>\n",
       "      <td>1</td>\n",
       "      <td>0</td>\n",
       "      <td>0</td>\n",
       "      <td>...</td>\n",
       "      <td>0</td>\n",
       "      <td>1</td>\n",
       "      <td>0</td>\n",
       "      <td>0</td>\n",
       "      <td>1</td>\n",
       "      <td>0</td>\n",
       "      <td>0</td>\n",
       "      <td>57247.35</td>\n",
       "      <td>0.0</td>\n",
       "      <td>0.0</td>\n",
       "    </tr>\n",
       "  </tbody>\n",
       "</table>\n",
       "<p>5 rows × 21 columns</p>\n",
       "</div>"
      ],
      "text/plain": [
       "   ccy_CNY  ccy_EUR  ccy_GBP  ccy_HKD  ccy_INR  ccy_JPY  ccy_SGD  ccy_USD  \\\n",
       "0        0        0        0        0        0        1        0        0   \n",
       "1        0        0        1        0        0        0        0        0   \n",
       "2        0        0        0        0        0        0        0        1   \n",
       "3        1        0        0        0        0        0        0        0   \n",
       "4        0        0        0        0        0        0        0        1   \n",
       "\n",
       "   type_DIVIDEND  type_INTEREST  ...  type_OTHER  type_PAYMENT  type_TRANSFER  \\\n",
       "0              0              0  ...           1             0              0   \n",
       "1              0              0  ...           0             1              0   \n",
       "2              0              0  ...           0             1              0   \n",
       "3              0              0  ...           0             1              0   \n",
       "4              0              0  ...           0             1              0   \n",
       "\n",
       "   type_TT  cust_country_UK  cust_country_US  fraud_flag     amount  \\\n",
       "0        0                1                0           0   48625.25   \n",
       "1        0                1                0           0   20637.21   \n",
       "2        0                1                0           0   56691.27   \n",
       "3        0                1                0           0  343864.71   \n",
       "4        0                1                0           0   57247.35   \n",
       "\n",
       "   fraud_past_cust  fraud_past_counter  \n",
       "0              0.0                 0.0  \n",
       "1              0.0                 0.0  \n",
       "2              0.0                 0.0  \n",
       "3              0.0                 0.0  \n",
       "4              0.0                 0.0  \n",
       "\n",
       "[5 rows x 21 columns]"
      ]
     },
     "execution_count": 379,
     "metadata": {},
     "output_type": "execute_result"
    }
   ],
   "source": [
    "# Merge dataframes into a single dataframe\n",
    "merged_df2 = pd.concat([dummy_ccy_2,dummy_type_2,dummy_customer_country_2,data_model_2], axis=1)\n",
    "merged_df2.head()"
   ]
  },
  {
   "cell_type": "code",
   "execution_count": 380,
   "metadata": {},
   "outputs": [
    {
     "data": {
      "text/html": [
       "<div>\n",
       "<style scoped>\n",
       "    .dataframe tbody tr th:only-of-type {\n",
       "        vertical-align: middle;\n",
       "    }\n",
       "\n",
       "    .dataframe tbody tr th {\n",
       "        vertical-align: top;\n",
       "    }\n",
       "\n",
       "    .dataframe thead th {\n",
       "        text-align: right;\n",
       "    }\n",
       "</style>\n",
       "<table border=\"1\" class=\"dataframe\">\n",
       "  <thead>\n",
       "    <tr style=\"text-align: right;\">\n",
       "      <th></th>\n",
       "      <th>ccy_CNY</th>\n",
       "      <th>ccy_EUR</th>\n",
       "      <th>ccy_GBP</th>\n",
       "      <th>ccy_HKD</th>\n",
       "      <th>ccy_INR</th>\n",
       "      <th>ccy_JPY</th>\n",
       "      <th>ccy_SGD</th>\n",
       "      <th>ccy_USD</th>\n",
       "      <th>type_DIVIDEND</th>\n",
       "      <th>type_INTEREST</th>\n",
       "      <th>...</th>\n",
       "      <th>type_OTHER</th>\n",
       "      <th>type_PAYMENT</th>\n",
       "      <th>type_TRANSFER</th>\n",
       "      <th>type_TT</th>\n",
       "      <th>cust_country_UK</th>\n",
       "      <th>cust_country_US</th>\n",
       "      <th>fraud_flag</th>\n",
       "      <th>amount</th>\n",
       "      <th>fraud_past_cust</th>\n",
       "      <th>fraud_past_counter</th>\n",
       "    </tr>\n",
       "  </thead>\n",
       "  <tbody>\n",
       "    <tr>\n",
       "      <th>0</th>\n",
       "      <td>0</td>\n",
       "      <td>0</td>\n",
       "      <td>0</td>\n",
       "      <td>0</td>\n",
       "      <td>0</td>\n",
       "      <td>1</td>\n",
       "      <td>0</td>\n",
       "      <td>0</td>\n",
       "      <td>0</td>\n",
       "      <td>0</td>\n",
       "      <td>...</td>\n",
       "      <td>1</td>\n",
       "      <td>0</td>\n",
       "      <td>0</td>\n",
       "      <td>0</td>\n",
       "      <td>1</td>\n",
       "      <td>0</td>\n",
       "      <td>0</td>\n",
       "      <td>0.003799</td>\n",
       "      <td>0.0</td>\n",
       "      <td>0.0</td>\n",
       "    </tr>\n",
       "    <tr>\n",
       "      <th>1</th>\n",
       "      <td>0</td>\n",
       "      <td>0</td>\n",
       "      <td>1</td>\n",
       "      <td>0</td>\n",
       "      <td>0</td>\n",
       "      <td>0</td>\n",
       "      <td>0</td>\n",
       "      <td>0</td>\n",
       "      <td>0</td>\n",
       "      <td>0</td>\n",
       "      <td>...</td>\n",
       "      <td>0</td>\n",
       "      <td>1</td>\n",
       "      <td>0</td>\n",
       "      <td>0</td>\n",
       "      <td>1</td>\n",
       "      <td>0</td>\n",
       "      <td>0</td>\n",
       "      <td>0.001608</td>\n",
       "      <td>0.0</td>\n",
       "      <td>0.0</td>\n",
       "    </tr>\n",
       "    <tr>\n",
       "      <th>2</th>\n",
       "      <td>0</td>\n",
       "      <td>0</td>\n",
       "      <td>0</td>\n",
       "      <td>0</td>\n",
       "      <td>0</td>\n",
       "      <td>0</td>\n",
       "      <td>0</td>\n",
       "      <td>1</td>\n",
       "      <td>0</td>\n",
       "      <td>0</td>\n",
       "      <td>...</td>\n",
       "      <td>0</td>\n",
       "      <td>1</td>\n",
       "      <td>0</td>\n",
       "      <td>0</td>\n",
       "      <td>1</td>\n",
       "      <td>0</td>\n",
       "      <td>0</td>\n",
       "      <td>0.004431</td>\n",
       "      <td>0.0</td>\n",
       "      <td>0.0</td>\n",
       "    </tr>\n",
       "    <tr>\n",
       "      <th>3</th>\n",
       "      <td>1</td>\n",
       "      <td>0</td>\n",
       "      <td>0</td>\n",
       "      <td>0</td>\n",
       "      <td>0</td>\n",
       "      <td>0</td>\n",
       "      <td>0</td>\n",
       "      <td>0</td>\n",
       "      <td>0</td>\n",
       "      <td>0</td>\n",
       "      <td>...</td>\n",
       "      <td>0</td>\n",
       "      <td>1</td>\n",
       "      <td>0</td>\n",
       "      <td>0</td>\n",
       "      <td>1</td>\n",
       "      <td>0</td>\n",
       "      <td>0</td>\n",
       "      <td>0.026915</td>\n",
       "      <td>0.0</td>\n",
       "      <td>0.0</td>\n",
       "    </tr>\n",
       "    <tr>\n",
       "      <th>4</th>\n",
       "      <td>0</td>\n",
       "      <td>0</td>\n",
       "      <td>0</td>\n",
       "      <td>0</td>\n",
       "      <td>0</td>\n",
       "      <td>0</td>\n",
       "      <td>0</td>\n",
       "      <td>1</td>\n",
       "      <td>0</td>\n",
       "      <td>0</td>\n",
       "      <td>...</td>\n",
       "      <td>0</td>\n",
       "      <td>1</td>\n",
       "      <td>0</td>\n",
       "      <td>0</td>\n",
       "      <td>1</td>\n",
       "      <td>0</td>\n",
       "      <td>0</td>\n",
       "      <td>0.004474</td>\n",
       "      <td>0.0</td>\n",
       "      <td>0.0</td>\n",
       "    </tr>\n",
       "  </tbody>\n",
       "</table>\n",
       "<p>5 rows × 21 columns</p>\n",
       "</div>"
      ],
      "text/plain": [
       "   ccy_CNY  ccy_EUR  ccy_GBP  ccy_HKD  ccy_INR  ccy_JPY  ccy_SGD  ccy_USD  \\\n",
       "0        0        0        0        0        0        1        0        0   \n",
       "1        0        0        1        0        0        0        0        0   \n",
       "2        0        0        0        0        0        0        0        1   \n",
       "3        1        0        0        0        0        0        0        0   \n",
       "4        0        0        0        0        0        0        0        1   \n",
       "\n",
       "   type_DIVIDEND  type_INTEREST  ...  type_OTHER  type_PAYMENT  type_TRANSFER  \\\n",
       "0              0              0  ...           1             0              0   \n",
       "1              0              0  ...           0             1              0   \n",
       "2              0              0  ...           0             1              0   \n",
       "3              0              0  ...           0             1              0   \n",
       "4              0              0  ...           0             1              0   \n",
       "\n",
       "   type_TT  cust_country_UK  cust_country_US  fraud_flag    amount  \\\n",
       "0        0                1                0           0  0.003799   \n",
       "1        0                1                0           0  0.001608   \n",
       "2        0                1                0           0  0.004431   \n",
       "3        0                1                0           0  0.026915   \n",
       "4        0                1                0           0  0.004474   \n",
       "\n",
       "   fraud_past_cust  fraud_past_counter  \n",
       "0              0.0                 0.0  \n",
       "1              0.0                 0.0  \n",
       "2              0.0                 0.0  \n",
       "3              0.0                 0.0  \n",
       "4              0.0                 0.0  \n",
       "\n",
       "[5 rows x 21 columns]"
      ]
     },
     "execution_count": 380,
     "metadata": {},
     "output_type": "execute_result"
    }
   ],
   "source": [
    "## use MinMaxScaler to handle the large values of amount, \n",
    "## since machine learning algorithms will give more importance to variables on a larger scale\n",
    "\n",
    "# Scale only columns that have values greater than 1\n",
    "to_scale = [col for col in data_model_2.columns if data_model_2[col].max() > 1]\n",
    "mms = MinMaxScaler()\n",
    "scaled = mms.fit_transform(merged_df2[to_scale])\n",
    "scaled = pd.DataFrame(scaled, columns=to_scale)\n",
    "\n",
    "# Replace original columns with scaled ones\n",
    "for col in scaled:\n",
    "    merged_df2[col] = scaled[col]\n",
    "    \n",
    "merged_df2.head()"
   ]
  },
  {
   "cell_type": "code",
   "execution_count": 381,
   "metadata": {},
   "outputs": [
    {
     "name": "stdout",
     "output_type": "stream",
     "text": [
      "% Positive class in Train = 1.79\n",
      "% Positive class in Test  = 1.51\n"
     ]
    }
   ],
   "source": [
    "## create model using SMOTE to oversample minority class\n",
    "\n",
    "## Naive Approach\n",
    "\n",
    "X = merged_df2.drop('fraud_flag', axis=1)\n",
    "y = merged_df2['fraud_flag']\n",
    "\n",
    "X_train, X_test, y_train, y_test = train_test_split(\n",
    "    X, y, test_size=0.25, random_state=42\n",
    ")\n",
    "\n",
    "print(f'''% Positive class in Train = {np.round(y_train.value_counts(normalize=True)[1] * 100, 2)}\n",
    "% Positive class in Test  = {np.round(y_test.value_counts(normalize=True)[1] * 100, 2)}''')"
   ]
  },
  {
   "cell_type": "code",
   "execution_count": 382,
   "metadata": {},
   "outputs": [
    {
     "name": "stdout",
     "output_type": "stream",
     "text": [
      "Shape of X before SMOTE: (5302, 20)\n",
      "Shape of X after SMOTE: (10422, 20)\n",
      "\n",
      "Balance of positive and negative classes (%):\n"
     ]
    },
    {
     "data": {
      "text/plain": [
       "0    50.0\n",
       "1    50.0\n",
       "Name: fraud_flag, dtype: float64"
      ]
     },
     "execution_count": 382,
     "metadata": {},
     "output_type": "execute_result"
    }
   ],
   "source": [
    "## handle class imbalance for Model 2\n",
    "\n",
    "sm = SMOTE(random_state=42)\n",
    "\n",
    "X_sm, y_sm = sm.fit_resample(X, y)\n",
    "\n",
    "print(f'''Shape of X before SMOTE: {X.shape}\n",
    "Shape of X after SMOTE: {X_sm.shape}''')\n",
    "\n",
    "print('\\nBalance of positive and negative classes (%):')\n",
    "y_sm.value_counts(normalize=True) * 100"
   ]
  },
  {
   "cell_type": "code",
   "execution_count": 383,
   "metadata": {},
   "outputs": [
    {
     "name": "stdout",
     "output_type": "stream",
     "text": [
      "Accuracy = 1.00\n",
      "Recall = 1.00\n",
      "Precision = 1.00\n",
      "\n"
     ]
    },
    {
     "data": {
      "image/png": "[encoded data removed]",
      "text/plain": [
       "<Figure size 800x600 with 2 Axes>"
      ]
     },
     "metadata": {},
     "output_type": "display_data"
    }
   ],
   "source": [
    "## random forest model with balanced dataset\n",
    "\n",
    "X_train, X_test, y_train, y_test = train_test_split(\n",
    "    X_sm, y_sm, test_size=0.25, random_state=42\n",
    ")\n",
    "\n",
    "model = RandomForestClassifier(random_state=42)\n",
    "model.fit(X_train, y_train)\n",
    "preds = model.predict(X_test)\n",
    "\n",
    "print(f'Accuracy = {accuracy_score(y_test, preds):.2f}\\nRecall = {recall_score(y_test, preds):.2f}\\nPrecision = {precision_score(y_test, preds):.2f}\\n')\n",
    "cm = confusion_matrix(y_test, preds)\n",
    "plt.figure(figsize=(8, 6))\n",
    "plt.title('Confusion Matrix (with SMOTE)', size=16)\n",
    "sns.heatmap(cm, annot=True, cmap='Blues');\n",
    "\n",
    "## We notice that the accuracy, recall and precision are all very high, which will be discussed later."
   ]
  },
  {
   "cell_type": "code",
   "execution_count": 384,
   "metadata": {},
   "outputs": [
    {
     "data": {
      "image/png": "[encoded data removed]",
      "text/plain": [
       "<Figure size 640x480 with 1 Axes>"
      ]
     },
     "metadata": {},
     "output_type": "display_data"
    }
   ],
   "source": [
    "# plot auc-roc curve\n",
    "ax = plt.gca()\n",
    "rfc_disp = RocCurveDisplay.from_estimator(model, X_test, y_test, ax=ax, alpha=0.8)"
   ]
  },
  {
   "cell_type": "code",
   "execution_count": 385,
   "metadata": {},
   "outputs": [
    {
     "name": "stdout",
     "output_type": "stream",
     "text": [
      " 1) fraud_past_counter             0.580362\n",
      " 2) fraud_past_cust                0.250093\n",
      " 3) amount                         0.043909\n",
      " 4) type_PAYMENT                   0.021835\n",
      " 5) type_INTEREST                  0.016618\n",
      " 6) ccy_CNY                        0.010431\n",
      " 7) type_DIVIDEND                  0.010169\n",
      " 8) cust_country_UK                0.009487\n",
      " 9) ccy_SGD                        0.006729\n",
      "10) ccy_HKD                        0.006720\n",
      "11) type_OTHER                     0.005787\n",
      "12) ccy_USD                        0.005687\n",
      "13) ccy_GBP                        0.005518\n",
      "14) cust_country_US                0.005369\n",
      "15) type_INVESTMENT                0.004713\n",
      "16) ccy_EUR                        0.004083\n",
      "17) type_TRANSFER                  0.003863\n",
      "18) type_TT                        0.003796\n",
      "19) ccy_JPY                        0.002848\n",
      "20) ccy_INR                        0.001984\n"
     ]
    }
   ],
   "source": [
    "## feature importance scores\n",
    "\n",
    "importances = model.feature_importances_\n",
    "#\n",
    "# Sort the feature importance in descending order\n",
    "#\n",
    "sorted_indices = np.argsort(importances)[::-1]\n",
    " \n",
    "feat_labels = X.columns\n",
    " \n",
    "for f in range(X_train.shape[1]):\n",
    "    print(\"%2d) %-*s %f\" % (f + 1, 30,\n",
    "                            feat_labels[sorted_indices[f]],\n",
    "                            importances[sorted_indices[f]]))"
   ]
  },
  {
   "cell_type": "code",
   "execution_count": 386,
   "metadata": {},
   "outputs": [
    {
     "data": {
      "image/png": "[encoded data removed]",
      "text/plain": [
       "<Figure size 640x480 with 1 Axes>"
      ]
     },
     "metadata": {},
     "output_type": "display_data"
    }
   ],
   "source": [
    "plt.title('Feature Importance')\n",
    "plt.bar(range(X_train.shape[1]), importances[sorted_indices], align='center')\n",
    "plt.xticks(range(X_train.shape[1]), X_train.columns[sorted_indices], rotation=90)\n",
    "plt.tight_layout()\n",
    "plt.show()"
   ]
  },
  {
   "attachments": {},
   "cell_type": "markdown",
   "metadata": {},
   "source": [
    "### Evaluation"
   ]
  },
  {
   "attachments": {},
   "cell_type": "markdown",
   "metadata": {},
   "source": [
    "##### Our main metric of evaluation is recall = (TP/TP+FN) given that we want to minimise the false negatives in terms of identifying fraudulent transactions. "
   ]
  },
  {
   "attachments": {},
   "cell_type": "markdown",
   "metadata": {},
   "source": [
    "##### For Model 1, we notice that the **amount** column is a key indicator with regards to predicting fraudulent transactions. However, based on our EDA, we know that it is difficult to get some actionable and insightful analysis, given the large overlap of values between *fraud_flag = 0* and *fraud_flag = 1*. "
   ]
  },
  {
   "cell_type": "code",
   "execution_count": 387,
   "metadata": {},
   "outputs": [
    {
     "data": {
      "text/plain": [
       "<AxesSubplot: title={'center': 'amount'}, xlabel='fraud_flag'>"
      ]
     },
     "execution_count": 387,
     "metadata": {},
     "output_type": "execute_result"
    },
    {
     "data": {
      "image/png": "[encoded data removed]",
      "text/plain": [
       "<Figure size 500x600 with 1 Axes>"
      ]
     },
     "metadata": {},
     "output_type": "display_data"
    }
   ],
   "source": [
    "#box plot of relationship between fraud_flag and amount\n",
    "data.boxplot(column='amount', by='fraud_flag', figsize=(5,6))"
   ]
  },
  {
   "attachments": {},
   "cell_type": "markdown",
   "metadata": {},
   "source": [
    "##### For Model 2, we created new columns based on the mean number of times each customer and counterparty had any fraudulent transactions respectively.\n",
    "##### We notice that the counterparty's fraudulent history played a key role with regards to identifying fraudulent transactions from the feature importance scores.\n",
    "##### The customer's fraudulent history also had a strong importance with regards to predicting the target output variable."
   ]
  },
  {
   "cell_type": "code",
   "execution_count": 388,
   "metadata": {},
   "outputs": [],
   "source": [
    "## we will plot the relationship between the customer's/counterparty's fraudulent history with our y variable (fraud_flag)\n",
    "## create df copy to plot distribution for past customer/counterparty fraudulent history\n",
    "data_model_vis = data_model_2.copy()"
   ]
  },
  {
   "cell_type": "code",
   "execution_count": 389,
   "metadata": {},
   "outputs": [],
   "source": [
    "## round mean values to 1 dp for visualisation purposes\n",
    "data_model_vis['fraud_past_cust_vis'] = data_model_vis['fraud_past_cust'].round(decimals = 1)\n",
    "data_model_vis['fraud_past_counter_vis'] = data_model_vis['fraud_past_counter'].round(decimals = 1)"
   ]
  },
  {
   "cell_type": "code",
   "execution_count": 390,
   "metadata": {},
   "outputs": [
    {
     "name": "stderr",
     "output_type": "stream",
     "text": [
      "/Users/bhaveshchainani/virtualenv/silent_eight/lib/python3.9/site-packages/dexplot/_common_plot.py:156: FutureWarning: The `inplace` parameter in pandas.Categorical.remove_unused_categories is deprecated and will be removed in a future version.\n",
      "  self.data[name].cat.remove_unused_categories(inplace=True)\n"
     ]
    },
    {
     "data": {
      "image/png": "[encoded data removed]",
      "text/plain": [
       "<Figure size 352.512x316.8 with 1 Axes>"
      ]
     },
     "execution_count": 390,
     "metadata": {},
     "output_type": "execute_result"
    }
   ],
   "source": [
    "## Plot Normalised distribution for mean of customer's fraudulent history\n",
    "dxp.count('fraud_past_cust_vis', data=data_model_vis, split='fraud_flag',normalize='fraud_past_cust_vis', title=\"Normalised distribution for mean of customer's fraudulent history\")"
   ]
  },
  {
   "cell_type": "code",
   "execution_count": 391,
   "metadata": {},
   "outputs": [
    {
     "name": "stderr",
     "output_type": "stream",
     "text": [
      "/Users/bhaveshchainani/virtualenv/silent_eight/lib/python3.9/site-packages/dexplot/_common_plot.py:156: FutureWarning: The `inplace` parameter in pandas.Categorical.remove_unused_categories is deprecated and will be removed in a future version.\n",
      "  self.data[name].cat.remove_unused_categories(inplace=True)\n"
     ]
    },
    {
     "data": {
      "image/png": "[encoded data removed]",
      "text/plain": [
       "<Figure size 497.664x316.8 with 1 Axes>"
      ]
     },
     "execution_count": 391,
     "metadata": {},
     "output_type": "execute_result"
    }
   ],
   "source": [
    "## Plot Normalised distribution for mean of counterparty's fraudulent history\n",
    "dxp.count('fraud_past_counter_vis', data=data_model_vis, split='fraud_flag',normalize='fraud_past_counter_vis',title=\"Normalised distribution for mean of counterparty's fraudulent history\")"
   ]
  },
  {
   "attachments": {},
   "cell_type": "markdown",
   "metadata": {},
   "source": [
    "##### From the above plots, we can see that if a customer or counterparty have had any past transaction history which is fraudulent, it plays a key role in predicting if any future transactions are fraudulent."
   ]
  },
  {
   "attachments": {},
   "cell_type": "markdown",
   "metadata": {},
   "source": [
    "### Room for Improvement"
   ]
  },
  {
   "attachments": {},
   "cell_type": "markdown",
   "metadata": {},
   "source": [
    "##### We notice that the metric values for model 2 are very high. (precision, recall, accuracy)\n",
    "##### This is because SMOTE has a disadvantage of:\n",
    "#####   1) Oversampling uninformative samples\n",
    "#####   2) Oversampling noisy samples\n",
    "\n",
    "##### This leads to the possibility of overfitting, given that oversampling consists of making copies of existing examples. Hence there is a possibility to try undersampling or other forms of techniques to handle class imbalance."
   ]
  },
  {
   "attachments": {},
   "cell_type": "markdown",
   "metadata": {},
   "source": [
    "##### Another room for improvement would be to try new features to incorporate into the model. Since we know that for past fraudulent history, we are incorporating the use of the dependent variable (fraud_flag), we could use other columns instead to prevent high collinearity between our columns and fraud_flag.\n",
    "\n",
    "##### For example, we could look at transaction histories that have been made by the same customer but in different countries on the same day(potentially through a money mule accessing the same account)\n",
    "\n",
    "##### We could also look at multiple transactions being done over a short period of time by the same customer/counterparty.\n",
    "\n",
    "##### This would help us to identify important features while making sure we do not solely use the dependent variable. Through adding more data, we would able to maximise our recall score without overfitting our model."
   ]
  },
  {
   "attachments": {},
   "cell_type": "markdown",
   "metadata": {},
   "source": [
    "### Bhavesh Chainani\n",
    "### Data Scientist"
   ]
  }
 ],
 "metadata": {
  "kernelspec": {
   "display_name": "silent_eight",
   "language": "python",
   "name": "python3"
  },
  "language_info": {
   "codemirror_mode": {
    "name": "ipython",
    "version": 3
   },
   "file_extension": ".py",
   "mimetype": "text/x-python",
   "name": "python",
   "nbconvert_exporter": "python",
   "pygments_lexer": "ipython3",
   "version": "3.9.12"
  },
  "orig_nbformat": 4,
  "vscode": {
   "interpreter": {
    "hash": "d70379ef1582d478820558281a4d4f2e117c844661c0ccd8a005a367cee01704"
   }
  }
 },
 "nbformat": 4,
 "nbformat_minor": 2
}

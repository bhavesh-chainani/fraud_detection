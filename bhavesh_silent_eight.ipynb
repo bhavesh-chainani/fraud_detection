{
 "cells": [
  {
   "attachments": {},
   "cell_type": "markdown",
   "metadata": {},
   "source": [
    "### Bhavesh Hiranand Chainani\n",
    "#### Silent Eight Data Science Assessment"
   ]
  },
  {
   "cell_type": "code",
   "execution_count": 74,
   "metadata": {},
   "outputs": [],
   "source": [
    "## Import all relevant python libraries\n",
    "\n",
    "import pandas as pd\n",
    "import numpy as np\n",
    "import matplotlib.pyplot as plt\n",
    "import seaborn as sns\n",
    "from sklearn.preprocessing import MinMaxScaler\n",
    "from sklearn.model_selection import train_test_split\n",
    "from sklearn.ensemble import RandomForestClassifier\n",
    "from sklearn.metrics import RocCurveDisplay\n",
    "from sklearn.metrics import accuracy_score, recall_score, confusion_matrix, precision_score\n",
    "from sklearn.metrics import precision_recall_curve\n",
    "from imblearn.over_sampling import SMOTE "
   ]
  },
  {
   "cell_type": "code",
   "execution_count": 2,
   "metadata": {},
   "outputs": [],
   "source": [
    "## Read in data\n",
    "data = pd.read_csv('data/all_trxns.csv')"
   ]
  },
  {
   "attachments": {},
   "cell_type": "markdown",
   "metadata": {},
   "source": [
    "### Exploratory Data Analysis (EDA)"
   ]
  },
  {
   "cell_type": "code",
   "execution_count": 3,
   "metadata": {},
   "outputs": [
    {
     "data": {
      "text/html": [
       "<div>\n",
       "<style scoped>\n",
       "    .dataframe tbody tr th:only-of-type {\n",
       "        vertical-align: middle;\n",
       "    }\n",
       "\n",
       "    .dataframe tbody tr th {\n",
       "        vertical-align: top;\n",
       "    }\n",
       "\n",
       "    .dataframe thead th {\n",
       "        text-align: right;\n",
       "    }\n",
       "</style>\n",
       "<table border=\"1\" class=\"dataframe\">\n",
       "  <thead>\n",
       "    <tr style=\"text-align: right;\">\n",
       "      <th></th>\n",
       "      <th>customer</th>\n",
       "      <th>customer_country</th>\n",
       "      <th>fraud_flag</th>\n",
       "      <th>timestamp</th>\n",
       "      <th>counterparty</th>\n",
       "      <th>counterparty_country</th>\n",
       "      <th>type</th>\n",
       "      <th>ccy</th>\n",
       "      <th>amount</th>\n",
       "    </tr>\n",
       "  </thead>\n",
       "  <tbody>\n",
       "    <tr>\n",
       "      <th>0</th>\n",
       "      <td>C12976926337644</td>\n",
       "      <td>UK</td>\n",
       "      <td>N</td>\n",
       "      <td>2021-03-20 05:59:25</td>\n",
       "      <td>77697395249488</td>\n",
       "      <td>CN</td>\n",
       "      <td>OTHER</td>\n",
       "      <td>JPY</td>\n",
       "      <td>48625.25</td>\n",
       "    </tr>\n",
       "    <tr>\n",
       "      <th>1</th>\n",
       "      <td>C12976926337644</td>\n",
       "      <td>UK</td>\n",
       "      <td>N</td>\n",
       "      <td>2021-05-02 03:00:38</td>\n",
       "      <td>77697395249488</td>\n",
       "      <td>CN</td>\n",
       "      <td>PAYMENT</td>\n",
       "      <td>GBP</td>\n",
       "      <td>20637.21</td>\n",
       "    </tr>\n",
       "    <tr>\n",
       "      <th>2</th>\n",
       "      <td>C12976926337644</td>\n",
       "      <td>UK</td>\n",
       "      <td>N</td>\n",
       "      <td>2021-05-23 22:15:15</td>\n",
       "      <td>77697395249488</td>\n",
       "      <td>NaN</td>\n",
       "      <td>PAYMENT</td>\n",
       "      <td>USD</td>\n",
       "      <td>56691.27</td>\n",
       "    </tr>\n",
       "    <tr>\n",
       "      <th>3</th>\n",
       "      <td>C12976926337644</td>\n",
       "      <td>UK</td>\n",
       "      <td>N</td>\n",
       "      <td>2021-07-07 21:36:50</td>\n",
       "      <td>77697395249488</td>\n",
       "      <td>NaN</td>\n",
       "      <td>PAYMENT</td>\n",
       "      <td>CNY</td>\n",
       "      <td>343864.71</td>\n",
       "    </tr>\n",
       "    <tr>\n",
       "      <th>4</th>\n",
       "      <td>C12976926337644</td>\n",
       "      <td>UK</td>\n",
       "      <td>N</td>\n",
       "      <td>2021-09-02 00:14:03</td>\n",
       "      <td>77697395249488</td>\n",
       "      <td>NaN</td>\n",
       "      <td>PAYMENT</td>\n",
       "      <td>USD</td>\n",
       "      <td>57247.35</td>\n",
       "    </tr>\n",
       "  </tbody>\n",
       "</table>\n",
       "</div>"
      ],
      "text/plain": [
       "          customer customer_country fraud_flag            timestamp  \\\n",
       "0  C12976926337644               UK          N  2021-03-20 05:59:25   \n",
       "1  C12976926337644               UK          N  2021-05-02 03:00:38   \n",
       "2  C12976926337644               UK          N  2021-05-23 22:15:15   \n",
       "3  C12976926337644               UK          N  2021-07-07 21:36:50   \n",
       "4  C12976926337644               UK          N  2021-09-02 00:14:03   \n",
       "\n",
       "     counterparty counterparty_country     type  ccy     amount  \n",
       "0  77697395249488                   CN    OTHER  JPY   48625.25  \n",
       "1  77697395249488                   CN  PAYMENT  GBP   20637.21  \n",
       "2  77697395249488                  NaN  PAYMENT  USD   56691.27  \n",
       "3  77697395249488                  NaN  PAYMENT  CNY  343864.71  \n",
       "4  77697395249488                  NaN  PAYMENT  USD   57247.35  "
      ]
     },
     "execution_count": 3,
     "metadata": {},
     "output_type": "execute_result"
    }
   ],
   "source": [
    "data.head()"
   ]
  },
  {
   "cell_type": "code",
   "execution_count": 4,
   "metadata": {},
   "outputs": [
    {
     "data": {
      "text/plain": [
       "(5302, 9)"
      ]
     },
     "execution_count": 4,
     "metadata": {},
     "output_type": "execute_result"
    }
   ],
   "source": [
    "data.shape\n",
    "# 5302 rows, 9 columns"
   ]
  },
  {
   "cell_type": "code",
   "execution_count": 5,
   "metadata": {},
   "outputs": [
    {
     "data": {
      "text/plain": [
       "customer                object\n",
       "customer_country        object\n",
       "fraud_flag              object\n",
       "timestamp               object\n",
       "counterparty             int64\n",
       "counterparty_country    object\n",
       "type                    object\n",
       "ccy                     object\n",
       "amount                  object\n",
       "dtype: object"
      ]
     },
     "execution_count": 5,
     "metadata": {},
     "output_type": "execute_result"
    }
   ],
   "source": [
    "data.dtypes"
   ]
  },
  {
   "cell_type": "code",
   "execution_count": 6,
   "metadata": {},
   "outputs": [
    {
     "data": {
      "text/html": [
       "<div>\n",
       "<style scoped>\n",
       "    .dataframe tbody tr th:only-of-type {\n",
       "        vertical-align: middle;\n",
       "    }\n",
       "\n",
       "    .dataframe tbody tr th {\n",
       "        vertical-align: top;\n",
       "    }\n",
       "\n",
       "    .dataframe thead th {\n",
       "        text-align: right;\n",
       "    }\n",
       "</style>\n",
       "<table border=\"1\" class=\"dataframe\">\n",
       "  <thead>\n",
       "    <tr style=\"text-align: right;\">\n",
       "      <th></th>\n",
       "      <th>counterparty</th>\n",
       "    </tr>\n",
       "  </thead>\n",
       "  <tbody>\n",
       "    <tr>\n",
       "      <th>count</th>\n",
       "      <td>5.302000e+03</td>\n",
       "    </tr>\n",
       "    <tr>\n",
       "      <th>mean</th>\n",
       "      <td>5.626952e+13</td>\n",
       "    </tr>\n",
       "    <tr>\n",
       "      <th>std</th>\n",
       "      <td>2.609480e+13</td>\n",
       "    </tr>\n",
       "    <tr>\n",
       "      <th>min</th>\n",
       "      <td>1.136138e+13</td>\n",
       "    </tr>\n",
       "    <tr>\n",
       "      <th>25%</th>\n",
       "      <td>3.259593e+13</td>\n",
       "    </tr>\n",
       "    <tr>\n",
       "      <th>50%</th>\n",
       "      <td>5.715527e+13</td>\n",
       "    </tr>\n",
       "    <tr>\n",
       "      <th>75%</th>\n",
       "      <td>7.748636e+13</td>\n",
       "    </tr>\n",
       "    <tr>\n",
       "      <th>max</th>\n",
       "      <td>9.972984e+13</td>\n",
       "    </tr>\n",
       "  </tbody>\n",
       "</table>\n",
       "</div>"
      ],
      "text/plain": [
       "       counterparty\n",
       "count  5.302000e+03\n",
       "mean   5.626952e+13\n",
       "std    2.609480e+13\n",
       "min    1.136138e+13\n",
       "25%    3.259593e+13\n",
       "50%    5.715527e+13\n",
       "75%    7.748636e+13\n",
       "max    9.972984e+13"
      ]
     },
     "execution_count": 6,
     "metadata": {},
     "output_type": "execute_result"
    }
   ],
   "source": [
    "data.describe()"
   ]
  },
  {
   "cell_type": "code",
   "execution_count": 7,
   "metadata": {},
   "outputs": [
    {
     "data": {
      "text/plain": [
       "str"
      ]
     },
     "execution_count": 7,
     "metadata": {},
     "output_type": "execute_result"
    }
   ],
   "source": [
    "## We notice that the timestamp column is a string, hence it is important to convert it to datetime format\n",
    "type(data['timestamp'][0])"
   ]
  },
  {
   "cell_type": "code",
   "execution_count": 8,
   "metadata": {},
   "outputs": [],
   "source": [
    "## convert timestamp column from string to datetime\n",
    "data['timestamp'] = pd.to_datetime(data['timestamp'])"
   ]
  },
  {
   "cell_type": "code",
   "execution_count": 9,
   "metadata": {},
   "outputs": [
    {
     "data": {
      "text/plain": [
       "customer                  0\n",
       "customer_country          0\n",
       "fraud_flag                0\n",
       "timestamp                 0\n",
       "counterparty              0\n",
       "counterparty_country    499\n",
       "type                      0\n",
       "ccy                       0\n",
       "amount                    0\n",
       "dtype: int64"
      ]
     },
     "execution_count": 9,
     "metadata": {},
     "output_type": "execute_result"
    }
   ],
   "source": [
    "## Identify any null values\n",
    "data.isna().sum()"
   ]
  },
  {
   "cell_type": "code",
   "execution_count": 10,
   "metadata": {},
   "outputs": [],
   "source": [
    "# We can see the counterparty_country is the only column with null values. \n",
    "# We will leave it for now as we do not want to remove any uneccessary rows, \n",
    "# given that the dataset is relatively small."
   ]
  },
  {
   "cell_type": "code",
   "execution_count": 11,
   "metadata": {},
   "outputs": [
    {
     "name": "stderr",
     "output_type": "stream",
     "text": [
      "/var/folders/fp/chskv2v95k13ldv_jpwqql9c0000gn/T/ipykernel_82985/656557539.py:2: FutureWarning: The default value of regex will change from True to False in a future version.\n",
      "  data['amount'] = data['amount'].str.replace('[,$£]','')\n"
     ]
    }
   ],
   "source": [
    "# remove unneccessary strings from amount column (e.g 1,712 to 1712) \n",
    "data['amount'] = data['amount'].str.replace('[,$£]','')\n",
    "# convert amount column to float\n",
    "data['amount'] = data['amount'].astype(float)"
   ]
  },
  {
   "cell_type": "code",
   "execution_count": 12,
   "metadata": {},
   "outputs": [
    {
     "data": {
      "text/plain": [
       "count    5.302000e+03\n",
       "mean     5.043384e+05\n",
       "std      1.546262e+06\n",
       "min      9.911000e+01\n",
       "25%      2.707183e+04\n",
       "50%      5.163731e+04\n",
       "75%      1.004043e+05\n",
       "max      1.277252e+07\n",
       "Name: amount, dtype: float64"
      ]
     },
     "execution_count": 12,
     "metadata": {},
     "output_type": "execute_result"
    }
   ],
   "source": [
    "data.amount.describe()"
   ]
  },
  {
   "attachments": {},
   "cell_type": "markdown",
   "metadata": {},
   "source": [
    "## Relevant Visualisations"
   ]
  },
  {
   "cell_type": "code",
   "execution_count": 13,
   "metadata": {},
   "outputs": [],
   "source": [
    "## We notice that customers are repeated, hence for visualisation purposes, \n",
    "# we will focus on distinct customers\n",
    "\n",
    "data_cust = data.drop_duplicates(subset=['customer', 'customer_country']).reset_index(drop=True)"
   ]
  },
  {
   "cell_type": "code",
   "execution_count": 14,
   "metadata": {},
   "outputs": [
    {
     "data": {
      "text/plain": [
       "(100, 9)"
      ]
     },
     "execution_count": 14,
     "metadata": {},
     "output_type": "execute_result"
    }
   ],
   "source": [
    "data_cust.shape\n",
    "## there are 100 distinct customers"
   ]
  },
  {
   "cell_type": "code",
   "execution_count": 15,
   "metadata": {},
   "outputs": [
    {
     "data": {
      "text/plain": [
       "<AxesSubplot: >"
      ]
     },
     "execution_count": 15,
     "metadata": {},
     "output_type": "execute_result"
    },
    {
     "data": {
      "image/png": "[encoded data removed]",
      "text/plain": [
       "<Figure size 640x480 with 1 Axes>"
      ]
     },
     "metadata": {},
     "output_type": "display_data"
    }
   ],
   "source": [
    "#plot customer country for the 100 customers (data_vis df)\n",
    "data_cust.customer_country.value_counts().plot(kind='bar', color='pink')"
   ]
  },
  {
   "cell_type": "code",
   "execution_count": 16,
   "metadata": {},
   "outputs": [
    {
     "data": {
      "text/html": [
       "<div>\n",
       "<style scoped>\n",
       "    .dataframe tbody tr th:only-of-type {\n",
       "        vertical-align: middle;\n",
       "    }\n",
       "\n",
       "    .dataframe tbody tr th {\n",
       "        vertical-align: top;\n",
       "    }\n",
       "\n",
       "    .dataframe thead th {\n",
       "        text-align: right;\n",
       "    }\n",
       "</style>\n",
       "<table border=\"1\" class=\"dataframe\">\n",
       "  <thead>\n",
       "    <tr style=\"text-align: right;\">\n",
       "      <th></th>\n",
       "      <th>counterparty_country</th>\n",
       "    </tr>\n",
       "  </thead>\n",
       "  <tbody>\n",
       "    <tr>\n",
       "      <th>CN</th>\n",
       "      <td>619</td>\n",
       "    </tr>\n",
       "    <tr>\n",
       "      <th>UK</th>\n",
       "      <td>614</td>\n",
       "    </tr>\n",
       "    <tr>\n",
       "      <th>JP</th>\n",
       "      <td>537</td>\n",
       "    </tr>\n",
       "    <tr>\n",
       "      <th>US</th>\n",
       "      <td>494</td>\n",
       "    </tr>\n",
       "    <tr>\n",
       "      <th>DE</th>\n",
       "      <td>484</td>\n",
       "    </tr>\n",
       "    <tr>\n",
       "      <th>FR</th>\n",
       "      <td>455</td>\n",
       "    </tr>\n",
       "    <tr>\n",
       "      <th>HK</th>\n",
       "      <td>453</td>\n",
       "    </tr>\n",
       "    <tr>\n",
       "      <th>BR</th>\n",
       "      <td>392</td>\n",
       "    </tr>\n",
       "    <tr>\n",
       "      <th>SG</th>\n",
       "      <td>375</td>\n",
       "    </tr>\n",
       "    <tr>\n",
       "      <th>IN</th>\n",
       "      <td>340</td>\n",
       "    </tr>\n",
       "    <tr>\n",
       "      <th>United States</th>\n",
       "      <td>23</td>\n",
       "    </tr>\n",
       "    <tr>\n",
       "      <th>USA</th>\n",
       "      <td>17</td>\n",
       "    </tr>\n",
       "  </tbody>\n",
       "</table>\n",
       "</div>"
      ],
      "text/plain": [
       "               counterparty_country\n",
       "CN                              619\n",
       "UK                              614\n",
       "JP                              537\n",
       "US                              494\n",
       "DE                              484\n",
       "FR                              455\n",
       "HK                              453\n",
       "BR                              392\n",
       "SG                              375\n",
       "IN                              340\n",
       "United States                    23\n",
       "USA                              17"
      ]
     },
     "execution_count": 16,
     "metadata": {},
     "output_type": "execute_result"
    }
   ],
   "source": [
    "## Counterparty Country\n",
    "\n",
    "data.counterparty_country.value_counts().to_frame()\n",
    "\n",
    "## We can see that United States, US and USA are included. \n",
    "## Hence, there is a need to change United States, US to USA"
   ]
  },
  {
   "cell_type": "code",
   "execution_count": 17,
   "metadata": {},
   "outputs": [],
   "source": [
    "data['counterparty_country'] = data['counterparty_country'].replace(['United States', 'US'], 'USA')"
   ]
  },
  {
   "cell_type": "code",
   "execution_count": 18,
   "metadata": {},
   "outputs": [
    {
     "data": {
      "text/plain": [
       "<AxesSubplot: title={'center': 'Total Number of Customers per Country'}>"
      ]
     },
     "execution_count": 18,
     "metadata": {},
     "output_type": "execute_result"
    },
    {
     "data": {
      "image/png": "[encoded data removed]",
      "text/plain": [
       "<Figure size 640x480 with 1 Axes>"
      ]
     },
     "metadata": {},
     "output_type": "display_data"
    }
   ],
   "source": [
    "#plot counterparty country based on unique counterparties\n",
    "data.drop_duplicates(subset=['counterparty','counterparty_country']).reset_index(drop=True).counterparty_country.value_counts().plot(kind='barh', color = 'green', title='Total Number of Customers per Country')"
   ]
  },
  {
   "cell_type": "code",
   "execution_count": 19,
   "metadata": {},
   "outputs": [
    {
     "data": {
      "text/plain": [
       "<AxesSubplot: >"
      ]
     },
     "execution_count": 19,
     "metadata": {},
     "output_type": "execute_result"
    },
    {
     "data": {
      "image/png": "[encoded data removed]",
      "text/plain": [
       "<Figure size 640x480 with 1 Axes>"
      ]
     },
     "metadata": {},
     "output_type": "display_data"
    }
   ],
   "source": [
    "#plot value counts of y label\n",
    "data.fraud_flag.value_counts().plot(kind='bar')"
   ]
  },
  {
   "cell_type": "code",
   "execution_count": 20,
   "metadata": {},
   "outputs": [
    {
     "data": {
      "text/plain": [
       "<AxesSubplot: >"
      ]
     },
     "execution_count": 20,
     "metadata": {},
     "output_type": "execute_result"
    },
    {
     "data": {
      "image/png": "[encoded data removed]",
      "text/plain": [
       "<Figure size 640x480 with 1 Axes>"
      ]
     },
     "metadata": {},
     "output_type": "display_data"
    }
   ],
   "source": [
    "#plot count of different transaction types\n",
    "data.type.value_counts().plot(kind='bar', color = 'purple')"
   ]
  },
  {
   "cell_type": "code",
   "execution_count": 21,
   "metadata": {},
   "outputs": [
    {
     "data": {
      "text/plain": [
       "<AxesSubplot: xlabel='type'>"
      ]
     },
     "execution_count": 21,
     "metadata": {},
     "output_type": "execute_result"
    },
    {
     "data": {
      "image/png": "[encoded data removed]",
      "text/plain": [
       "<Figure size 640x480 with 1 Axes>"
      ]
     },
     "metadata": {},
     "output_type": "display_data"
    }
   ],
   "source": [
    "## Visualise distribution of y value for each transaction type\n",
    "(data\n",
    " .groupby(['type', 'fraud_flag'])\n",
    " .size()\n",
    " .unstack()\n",
    " .plot.bar()\n",
    ")"
   ]
  },
  {
   "cell_type": "code",
   "execution_count": 22,
   "metadata": {},
   "outputs": [
    {
     "data": {
      "text/plain": [
       "<AxesSubplot: xlabel='ccy'>"
      ]
     },
     "execution_count": 22,
     "metadata": {},
     "output_type": "execute_result"
    },
    {
     "data": {
      "image/png": "[encoded data removed]",
      "text/plain": [
       "<Figure size 640x480 with 1 Axes>"
      ]
     },
     "metadata": {},
     "output_type": "display_data"
    }
   ],
   "source": [
    "#plot count of types of currency\n",
    "## Visualise distribution of y value for time of day\n",
    "(data\n",
    " .groupby(['ccy', 'fraud_flag'])\n",
    " .size()\n",
    " .unstack()\n",
    " .plot.bar(color=['orange','red'])\n",
    ")"
   ]
  },
  {
   "cell_type": "code",
   "execution_count": 23,
   "metadata": {},
   "outputs": [],
   "source": [
    "## Since y value is low, we can do oversampling on minority class to increase model performance"
   ]
  },
  {
   "cell_type": "code",
   "execution_count": 24,
   "metadata": {},
   "outputs": [
    {
     "data": {
      "text/plain": [
       "<AxesSubplot: title={'center': 'amount'}, xlabel='fraud_flag'>"
      ]
     },
     "execution_count": 24,
     "metadata": {},
     "output_type": "execute_result"
    },
    {
     "data": {
      "image/png": "[encoded data removed]",
      "text/plain": [
       "<Figure size 500x600 with 1 Axes>"
      ]
     },
     "metadata": {},
     "output_type": "display_data"
    }
   ],
   "source": [
    "#box plot of relationship between fraud_flag and amount\n",
    "data.boxplot(column='amount', by='fraud_flag', figsize=(5,6))"
   ]
  },
  {
   "cell_type": "code",
   "execution_count": 25,
   "metadata": {},
   "outputs": [
    {
     "data": {
      "text/html": [
       "<div>\n",
       "<style scoped>\n",
       "    .dataframe tbody tr th:only-of-type {\n",
       "        vertical-align: middle;\n",
       "    }\n",
       "\n",
       "    .dataframe tbody tr th {\n",
       "        vertical-align: top;\n",
       "    }\n",
       "\n",
       "    .dataframe thead th {\n",
       "        text-align: right;\n",
       "    }\n",
       "</style>\n",
       "<table border=\"1\" class=\"dataframe\">\n",
       "  <thead>\n",
       "    <tr style=\"text-align: right;\">\n",
       "      <th></th>\n",
       "      <th>customer</th>\n",
       "      <th>customer_country</th>\n",
       "      <th>fraud_flag</th>\n",
       "      <th>timestamp</th>\n",
       "      <th>counterparty</th>\n",
       "      <th>counterparty_country</th>\n",
       "      <th>type</th>\n",
       "      <th>ccy</th>\n",
       "      <th>amount</th>\n",
       "      <th>month_year</th>\n",
       "    </tr>\n",
       "  </thead>\n",
       "  <tbody>\n",
       "    <tr>\n",
       "      <th>0</th>\n",
       "      <td>C12976926337644</td>\n",
       "      <td>UK</td>\n",
       "      <td>N</td>\n",
       "      <td>2021-03-20 05:59:25</td>\n",
       "      <td>77697395249488</td>\n",
       "      <td>CN</td>\n",
       "      <td>OTHER</td>\n",
       "      <td>JPY</td>\n",
       "      <td>48625.25</td>\n",
       "      <td>2021-03</td>\n",
       "    </tr>\n",
       "    <tr>\n",
       "      <th>1</th>\n",
       "      <td>C12976926337644</td>\n",
       "      <td>UK</td>\n",
       "      <td>N</td>\n",
       "      <td>2021-05-02 03:00:38</td>\n",
       "      <td>77697395249488</td>\n",
       "      <td>CN</td>\n",
       "      <td>PAYMENT</td>\n",
       "      <td>GBP</td>\n",
       "      <td>20637.21</td>\n",
       "      <td>2021-05</td>\n",
       "    </tr>\n",
       "    <tr>\n",
       "      <th>2</th>\n",
       "      <td>C12976926337644</td>\n",
       "      <td>UK</td>\n",
       "      <td>N</td>\n",
       "      <td>2021-05-23 22:15:15</td>\n",
       "      <td>77697395249488</td>\n",
       "      <td>NaN</td>\n",
       "      <td>PAYMENT</td>\n",
       "      <td>USD</td>\n",
       "      <td>56691.27</td>\n",
       "      <td>2021-05</td>\n",
       "    </tr>\n",
       "    <tr>\n",
       "      <th>3</th>\n",
       "      <td>C12976926337644</td>\n",
       "      <td>UK</td>\n",
       "      <td>N</td>\n",
       "      <td>2021-07-07 21:36:50</td>\n",
       "      <td>77697395249488</td>\n",
       "      <td>NaN</td>\n",
       "      <td>PAYMENT</td>\n",
       "      <td>CNY</td>\n",
       "      <td>343864.71</td>\n",
       "      <td>2021-07</td>\n",
       "    </tr>\n",
       "    <tr>\n",
       "      <th>4</th>\n",
       "      <td>C12976926337644</td>\n",
       "      <td>UK</td>\n",
       "      <td>N</td>\n",
       "      <td>2021-09-02 00:14:03</td>\n",
       "      <td>77697395249488</td>\n",
       "      <td>NaN</td>\n",
       "      <td>PAYMENT</td>\n",
       "      <td>USD</td>\n",
       "      <td>57247.35</td>\n",
       "      <td>2021-09</td>\n",
       "    </tr>\n",
       "  </tbody>\n",
       "</table>\n",
       "</div>"
      ],
      "text/plain": [
       "          customer customer_country fraud_flag           timestamp  \\\n",
       "0  C12976926337644               UK          N 2021-03-20 05:59:25   \n",
       "1  C12976926337644               UK          N 2021-05-02 03:00:38   \n",
       "2  C12976926337644               UK          N 2021-05-23 22:15:15   \n",
       "3  C12976926337644               UK          N 2021-07-07 21:36:50   \n",
       "4  C12976926337644               UK          N 2021-09-02 00:14:03   \n",
       "\n",
       "     counterparty counterparty_country     type  ccy     amount month_year  \n",
       "0  77697395249488                   CN    OTHER  JPY   48625.25    2021-03  \n",
       "1  77697395249488                   CN  PAYMENT  GBP   20637.21    2021-05  \n",
       "2  77697395249488                  NaN  PAYMENT  USD   56691.27    2021-05  \n",
       "3  77697395249488                  NaN  PAYMENT  CNY  343864.71    2021-07  \n",
       "4  77697395249488                  NaN  PAYMENT  USD   57247.35    2021-09  "
      ]
     },
     "execution_count": 25,
     "metadata": {},
     "output_type": "execute_result"
    }
   ],
   "source": [
    "## create new column for month year\n",
    "data['month_year'] = pd.to_datetime(data['timestamp']).dt.to_period('M')\n",
    "data.head()"
   ]
  },
  {
   "cell_type": "code",
   "execution_count": 26,
   "metadata": {},
   "outputs": [],
   "source": [
    "## create new column for time of day\n",
    "def timeofday(x):\n",
    "    if (x>=0) & (x<6):\n",
    "        tod = 'night'\n",
    "    elif (x>=6) & (x<12):\n",
    "        tod = 'morning'\n",
    "    elif (x>=12) & (x<18):\n",
    "        tod = 'afternoon'\n",
    "    else:\n",
    "        tod = 'evening'\n",
    "    return tod"
   ]
  },
  {
   "cell_type": "code",
   "execution_count": 27,
   "metadata": {},
   "outputs": [],
   "source": [
    "data['time'] = data.timestamp.dt.hour.map(timeofday) "
   ]
  },
  {
   "cell_type": "code",
   "execution_count": 28,
   "metadata": {},
   "outputs": [
    {
     "data": {
      "text/html": [
       "<div>\n",
       "<style scoped>\n",
       "    .dataframe tbody tr th:only-of-type {\n",
       "        vertical-align: middle;\n",
       "    }\n",
       "\n",
       "    .dataframe tbody tr th {\n",
       "        vertical-align: top;\n",
       "    }\n",
       "\n",
       "    .dataframe thead th {\n",
       "        text-align: right;\n",
       "    }\n",
       "</style>\n",
       "<table border=\"1\" class=\"dataframe\">\n",
       "  <thead>\n",
       "    <tr style=\"text-align: right;\">\n",
       "      <th></th>\n",
       "      <th>customer</th>\n",
       "      <th>customer_country</th>\n",
       "      <th>fraud_flag</th>\n",
       "      <th>timestamp</th>\n",
       "      <th>counterparty</th>\n",
       "      <th>counterparty_country</th>\n",
       "      <th>type</th>\n",
       "      <th>ccy</th>\n",
       "      <th>amount</th>\n",
       "      <th>month_year</th>\n",
       "      <th>time</th>\n",
       "    </tr>\n",
       "  </thead>\n",
       "  <tbody>\n",
       "    <tr>\n",
       "      <th>0</th>\n",
       "      <td>C12976926337644</td>\n",
       "      <td>UK</td>\n",
       "      <td>N</td>\n",
       "      <td>2021-03-20 05:59:25</td>\n",
       "      <td>77697395249488</td>\n",
       "      <td>CN</td>\n",
       "      <td>OTHER</td>\n",
       "      <td>JPY</td>\n",
       "      <td>48625.25</td>\n",
       "      <td>2021-03</td>\n",
       "      <td>night</td>\n",
       "    </tr>\n",
       "    <tr>\n",
       "      <th>1</th>\n",
       "      <td>C12976926337644</td>\n",
       "      <td>UK</td>\n",
       "      <td>N</td>\n",
       "      <td>2021-05-02 03:00:38</td>\n",
       "      <td>77697395249488</td>\n",
       "      <td>CN</td>\n",
       "      <td>PAYMENT</td>\n",
       "      <td>GBP</td>\n",
       "      <td>20637.21</td>\n",
       "      <td>2021-05</td>\n",
       "      <td>night</td>\n",
       "    </tr>\n",
       "    <tr>\n",
       "      <th>2</th>\n",
       "      <td>C12976926337644</td>\n",
       "      <td>UK</td>\n",
       "      <td>N</td>\n",
       "      <td>2021-05-23 22:15:15</td>\n",
       "      <td>77697395249488</td>\n",
       "      <td>NaN</td>\n",
       "      <td>PAYMENT</td>\n",
       "      <td>USD</td>\n",
       "      <td>56691.27</td>\n",
       "      <td>2021-05</td>\n",
       "      <td>evening</td>\n",
       "    </tr>\n",
       "    <tr>\n",
       "      <th>3</th>\n",
       "      <td>C12976926337644</td>\n",
       "      <td>UK</td>\n",
       "      <td>N</td>\n",
       "      <td>2021-07-07 21:36:50</td>\n",
       "      <td>77697395249488</td>\n",
       "      <td>NaN</td>\n",
       "      <td>PAYMENT</td>\n",
       "      <td>CNY</td>\n",
       "      <td>343864.71</td>\n",
       "      <td>2021-07</td>\n",
       "      <td>evening</td>\n",
       "    </tr>\n",
       "    <tr>\n",
       "      <th>4</th>\n",
       "      <td>C12976926337644</td>\n",
       "      <td>UK</td>\n",
       "      <td>N</td>\n",
       "      <td>2021-09-02 00:14:03</td>\n",
       "      <td>77697395249488</td>\n",
       "      <td>NaN</td>\n",
       "      <td>PAYMENT</td>\n",
       "      <td>USD</td>\n",
       "      <td>57247.35</td>\n",
       "      <td>2021-09</td>\n",
       "      <td>night</td>\n",
       "    </tr>\n",
       "    <tr>\n",
       "      <th>...</th>\n",
       "      <td>...</td>\n",
       "      <td>...</td>\n",
       "      <td>...</td>\n",
       "      <td>...</td>\n",
       "      <td>...</td>\n",
       "      <td>...</td>\n",
       "      <td>...</td>\n",
       "      <td>...</td>\n",
       "      <td>...</td>\n",
       "      <td>...</td>\n",
       "      <td>...</td>\n",
       "    </tr>\n",
       "    <tr>\n",
       "      <th>5297</th>\n",
       "      <td>R85394663171656</td>\n",
       "      <td>UK</td>\n",
       "      <td>N</td>\n",
       "      <td>2021-12-20 00:34:56</td>\n",
       "      <td>88635938895767</td>\n",
       "      <td>UK</td>\n",
       "      <td>INTEREST</td>\n",
       "      <td>GBP</td>\n",
       "      <td>25774.25</td>\n",
       "      <td>2021-12</td>\n",
       "      <td>night</td>\n",
       "    </tr>\n",
       "    <tr>\n",
       "      <th>5298</th>\n",
       "      <td>R85394663171656</td>\n",
       "      <td>UK</td>\n",
       "      <td>N</td>\n",
       "      <td>2021-12-23 17:49:44</td>\n",
       "      <td>88635938895767</td>\n",
       "      <td>UK</td>\n",
       "      <td>INTEREST</td>\n",
       "      <td>GBP</td>\n",
       "      <td>25660.33</td>\n",
       "      <td>2021-12</td>\n",
       "      <td>afternoon</td>\n",
       "    </tr>\n",
       "    <tr>\n",
       "      <th>5299</th>\n",
       "      <td>R85394663171656</td>\n",
       "      <td>UK</td>\n",
       "      <td>N</td>\n",
       "      <td>2021-01-18 15:14:34</td>\n",
       "      <td>88635938895767</td>\n",
       "      <td>UK</td>\n",
       "      <td>OTHER</td>\n",
       "      <td>GBP</td>\n",
       "      <td>32242.92</td>\n",
       "      <td>2021-01</td>\n",
       "      <td>afternoon</td>\n",
       "    </tr>\n",
       "    <tr>\n",
       "      <th>5300</th>\n",
       "      <td>R85394663171656</td>\n",
       "      <td>UK</td>\n",
       "      <td>N</td>\n",
       "      <td>2021-04-03 00:13:03</td>\n",
       "      <td>88635938895767</td>\n",
       "      <td>UK</td>\n",
       "      <td>OTHER</td>\n",
       "      <td>GBP</td>\n",
       "      <td>32139.62</td>\n",
       "      <td>2021-04</td>\n",
       "      <td>night</td>\n",
       "    </tr>\n",
       "    <tr>\n",
       "      <th>5301</th>\n",
       "      <td>R85394663171656</td>\n",
       "      <td>UK</td>\n",
       "      <td>N</td>\n",
       "      <td>2021-09-03 18:32:38</td>\n",
       "      <td>88635938895767</td>\n",
       "      <td>NaN</td>\n",
       "      <td>OTHER</td>\n",
       "      <td>CNY</td>\n",
       "      <td>17784.71</td>\n",
       "      <td>2021-09</td>\n",
       "      <td>evening</td>\n",
       "    </tr>\n",
       "  </tbody>\n",
       "</table>\n",
       "<p>5302 rows × 11 columns</p>\n",
       "</div>"
      ],
      "text/plain": [
       "             customer customer_country fraud_flag           timestamp  \\\n",
       "0     C12976926337644               UK          N 2021-03-20 05:59:25   \n",
       "1     C12976926337644               UK          N 2021-05-02 03:00:38   \n",
       "2     C12976926337644               UK          N 2021-05-23 22:15:15   \n",
       "3     C12976926337644               UK          N 2021-07-07 21:36:50   \n",
       "4     C12976926337644               UK          N 2021-09-02 00:14:03   \n",
       "...               ...              ...        ...                 ...   \n",
       "5297  R85394663171656               UK          N 2021-12-20 00:34:56   \n",
       "5298  R85394663171656               UK          N 2021-12-23 17:49:44   \n",
       "5299  R85394663171656               UK          N 2021-01-18 15:14:34   \n",
       "5300  R85394663171656               UK          N 2021-04-03 00:13:03   \n",
       "5301  R85394663171656               UK          N 2021-09-03 18:32:38   \n",
       "\n",
       "        counterparty counterparty_country      type  ccy     amount  \\\n",
       "0     77697395249488                   CN     OTHER  JPY   48625.25   \n",
       "1     77697395249488                   CN   PAYMENT  GBP   20637.21   \n",
       "2     77697395249488                  NaN   PAYMENT  USD   56691.27   \n",
       "3     77697395249488                  NaN   PAYMENT  CNY  343864.71   \n",
       "4     77697395249488                  NaN   PAYMENT  USD   57247.35   \n",
       "...              ...                  ...       ...  ...        ...   \n",
       "5297  88635938895767                   UK  INTEREST  GBP   25774.25   \n",
       "5298  88635938895767                   UK  INTEREST  GBP   25660.33   \n",
       "5299  88635938895767                   UK     OTHER  GBP   32242.92   \n",
       "5300  88635938895767                   UK     OTHER  GBP   32139.62   \n",
       "5301  88635938895767                  NaN     OTHER  CNY   17784.71   \n",
       "\n",
       "     month_year       time  \n",
       "0       2021-03      night  \n",
       "1       2021-05      night  \n",
       "2       2021-05    evening  \n",
       "3       2021-07    evening  \n",
       "4       2021-09      night  \n",
       "...         ...        ...  \n",
       "5297    2021-12      night  \n",
       "5298    2021-12  afternoon  \n",
       "5299    2021-01  afternoon  \n",
       "5300    2021-04      night  \n",
       "5301    2021-09    evening  \n",
       "\n",
       "[5302 rows x 11 columns]"
      ]
     },
     "execution_count": 28,
     "metadata": {},
     "output_type": "execute_result"
    }
   ],
   "source": [
    "data"
   ]
  },
  {
   "cell_type": "code",
   "execution_count": 29,
   "metadata": {},
   "outputs": [
    {
     "data": {
      "text/plain": [
       "<AxesSubplot: xlabel='month_year'>"
      ]
     },
     "execution_count": 29,
     "metadata": {},
     "output_type": "execute_result"
    },
    {
     "data": {
      "image/png": "[encoded data removed]",
      "text/plain": [
       "<Figure size 640x480 with 1 Axes>"
      ]
     },
     "metadata": {},
     "output_type": "display_data"
    }
   ],
   "source": [
    "## Visualise distribution of y value for each month\n",
    "(data\n",
    " .groupby(['month_year', 'fraud_flag'])\n",
    " .size()\n",
    " .unstack()\n",
    " .plot.bar()\n",
    ")"
   ]
  },
  {
   "cell_type": "code",
   "execution_count": 30,
   "metadata": {},
   "outputs": [
    {
     "data": {
      "text/plain": [
       "<AxesSubplot: xlabel='time'>"
      ]
     },
     "execution_count": 30,
     "metadata": {},
     "output_type": "execute_result"
    },
    {
     "data": {
      "image/png": "[encoded data removed]",
      "text/plain": [
       "<Figure size 640x480 with 1 Axes>"
      ]
     },
     "metadata": {},
     "output_type": "display_data"
    }
   ],
   "source": [
    "## Visualise distribution of y value for time of day\n",
    "(data\n",
    " .groupby(['time', 'fraud_flag'])\n",
    " .size()\n",
    " .unstack()\n",
    " .plot.bar()\n",
    ")"
   ]
  },
  {
   "cell_type": "code",
   "execution_count": 31,
   "metadata": {},
   "outputs": [],
   "source": [
    "## focus on customers with high fraud_flag cases\n",
    "data_fraud = data[data.fraud_flag=='Y'].reset_index(drop=True)"
   ]
  },
  {
   "cell_type": "code",
   "execution_count": 32,
   "metadata": {},
   "outputs": [
    {
     "data": {
      "text/html": [
       "<div>\n",
       "<style scoped>\n",
       "    .dataframe tbody tr th:only-of-type {\n",
       "        vertical-align: middle;\n",
       "    }\n",
       "\n",
       "    .dataframe tbody tr th {\n",
       "        vertical-align: top;\n",
       "    }\n",
       "\n",
       "    .dataframe thead th {\n",
       "        text-align: right;\n",
       "    }\n",
       "</style>\n",
       "<table border=\"1\" class=\"dataframe\">\n",
       "  <thead>\n",
       "    <tr style=\"text-align: right;\">\n",
       "      <th></th>\n",
       "      <th>customer</th>\n",
       "    </tr>\n",
       "  </thead>\n",
       "  <tbody>\n",
       "    <tr>\n",
       "      <th>P52769772532121</th>\n",
       "      <td>17</td>\n",
       "    </tr>\n",
       "    <tr>\n",
       "      <th>P45766486597685</th>\n",
       "      <td>13</td>\n",
       "    </tr>\n",
       "    <tr>\n",
       "      <th>P68755181269737</th>\n",
       "      <td>10</td>\n",
       "    </tr>\n",
       "    <tr>\n",
       "      <th>R35322123754253</th>\n",
       "      <td>6</td>\n",
       "    </tr>\n",
       "    <tr>\n",
       "      <th>K65138125882614</th>\n",
       "      <td>6</td>\n",
       "    </tr>\n",
       "  </tbody>\n",
       "</table>\n",
       "</div>"
      ],
      "text/plain": [
       "                 customer\n",
       "P52769772532121        17\n",
       "P45766486597685        13\n",
       "P68755181269737        10\n",
       "R35322123754253         6\n",
       "K65138125882614         6"
      ]
     },
     "execution_count": 32,
     "metadata": {},
     "output_type": "execute_result"
    }
   ],
   "source": [
    "data_fraud.customer.value_counts().to_frame().head()"
   ]
  },
  {
   "attachments": {},
   "cell_type": "markdown",
   "metadata": {},
   "source": [
    "### Modelling"
   ]
  },
  {
   "cell_type": "code",
   "execution_count": 33,
   "metadata": {},
   "outputs": [],
   "source": [
    "## Model 1: use counterparty_country and drop NaN values"
   ]
  },
  {
   "cell_type": "code",
   "execution_count": 34,
   "metadata": {},
   "outputs": [],
   "source": [
    "## Model 1\n",
    "\n",
    "## We keep the counterparty_country as one of our features in the model. Hence we remove the NaN values\n",
    "## and therefore remove the 499 missing values"
   ]
  },
  {
   "cell_type": "code",
   "execution_count": 35,
   "metadata": {},
   "outputs": [],
   "source": [
    "data_model = data.dropna().reset_index(drop=True)"
   ]
  },
  {
   "cell_type": "code",
   "execution_count": 36,
   "metadata": {},
   "outputs": [
    {
     "name": "stderr",
     "output_type": "stream",
     "text": [
      "/var/folders/fp/chskv2v95k13ldv_jpwqql9c0000gn/T/ipykernel_82985/2127472397.py:1: FutureWarning: The default value of numeric_only in DataFrame.corr is deprecated. In a future version, it will default to False. Select only valid columns or specify the value of numeric_only to silence this warning.\n",
      "  data_model.corr()\n"
     ]
    },
    {
     "data": {
      "text/html": [
       "<div>\n",
       "<style scoped>\n",
       "    .dataframe tbody tr th:only-of-type {\n",
       "        vertical-align: middle;\n",
       "    }\n",
       "\n",
       "    .dataframe tbody tr th {\n",
       "        vertical-align: top;\n",
       "    }\n",
       "\n",
       "    .dataframe thead th {\n",
       "        text-align: right;\n",
       "    }\n",
       "</style>\n",
       "<table border=\"1\" class=\"dataframe\">\n",
       "  <thead>\n",
       "    <tr style=\"text-align: right;\">\n",
       "      <th></th>\n",
       "      <th>counterparty</th>\n",
       "      <th>amount</th>\n",
       "    </tr>\n",
       "  </thead>\n",
       "  <tbody>\n",
       "    <tr>\n",
       "      <th>counterparty</th>\n",
       "      <td>1.000000</td>\n",
       "      <td>-0.035139</td>\n",
       "    </tr>\n",
       "    <tr>\n",
       "      <th>amount</th>\n",
       "      <td>-0.035139</td>\n",
       "      <td>1.000000</td>\n",
       "    </tr>\n",
       "  </tbody>\n",
       "</table>\n",
       "</div>"
      ],
      "text/plain": [
       "              counterparty    amount\n",
       "counterparty      1.000000 -0.035139\n",
       "amount           -0.035139  1.000000"
      ]
     },
     "execution_count": 36,
     "metadata": {},
     "output_type": "execute_result"
    }
   ],
   "source": [
    "data_model.corr()"
   ]
  },
  {
   "cell_type": "code",
   "execution_count": 37,
   "metadata": {},
   "outputs": [],
   "source": [
    "## For further data cleaning, we will do remapping of our binary features and creating dummy variables for our categorical features\n",
    "## We will follow up with oversampling the minority class using SMOTE"
   ]
  },
  {
   "cell_type": "code",
   "execution_count": 38,
   "metadata": {},
   "outputs": [],
   "source": [
    "## REMAP y value to integers (0,1)\n",
    "data_model['fraud_flag'] = [0 if x == 'N' else 1 for x in data_model['fraud_flag']]"
   ]
  },
  {
   "cell_type": "code",
   "execution_count": 39,
   "metadata": {},
   "outputs": [],
   "source": [
    "# Create dummy variables\n",
    "dummy_customer_country = pd.get_dummies(data_model['customer_country'], prefix='cust_country', drop_first=True)\n",
    "dummy_counterparty_country = pd.get_dummies(data_model['counterparty_country'], prefix='count_country', drop_first=True)\n",
    "dummy_type = pd.get_dummies(data_model['type'], prefix='type', drop_first=True)\n",
    "dummy_ccy = pd.get_dummies(data_model['ccy'], prefix='ccy', drop_first=True) "
   ]
  },
  {
   "cell_type": "code",
   "execution_count": 40,
   "metadata": {},
   "outputs": [],
   "source": [
    "# Drop unnecessary columns\n",
    "to_drop = ['customer', 'customer_country', 'timestamp', 'counterparty',\n",
    "           'counterparty_country', 'type', 'ccy','month_year','time']\n",
    "data_model.drop(to_drop, axis=1, inplace=True)"
   ]
  },
  {
   "cell_type": "code",
   "execution_count": 41,
   "metadata": {},
   "outputs": [
    {
     "data": {
      "text/html": [
       "<div>\n",
       "<style scoped>\n",
       "    .dataframe tbody tr th:only-of-type {\n",
       "        vertical-align: middle;\n",
       "    }\n",
       "\n",
       "    .dataframe tbody tr th {\n",
       "        vertical-align: top;\n",
       "    }\n",
       "\n",
       "    .dataframe thead th {\n",
       "        text-align: right;\n",
       "    }\n",
       "</style>\n",
       "<table border=\"1\" class=\"dataframe\">\n",
       "  <thead>\n",
       "    <tr style=\"text-align: right;\">\n",
       "      <th></th>\n",
       "      <th>fraud_flag</th>\n",
       "      <th>amount</th>\n",
       "    </tr>\n",
       "  </thead>\n",
       "  <tbody>\n",
       "    <tr>\n",
       "      <th>0</th>\n",
       "      <td>0</td>\n",
       "      <td>48625.25</td>\n",
       "    </tr>\n",
       "    <tr>\n",
       "      <th>1</th>\n",
       "      <td>0</td>\n",
       "      <td>20637.21</td>\n",
       "    </tr>\n",
       "    <tr>\n",
       "      <th>2</th>\n",
       "      <td>0</td>\n",
       "      <td>36944.25</td>\n",
       "    </tr>\n",
       "    <tr>\n",
       "      <th>3</th>\n",
       "      <td>0</td>\n",
       "      <td>48653.70</td>\n",
       "    </tr>\n",
       "    <tr>\n",
       "      <th>4</th>\n",
       "      <td>0</td>\n",
       "      <td>48765.81</td>\n",
       "    </tr>\n",
       "    <tr>\n",
       "      <th>...</th>\n",
       "      <td>...</td>\n",
       "      <td>...</td>\n",
       "    </tr>\n",
       "    <tr>\n",
       "      <th>4798</th>\n",
       "      <td>0</td>\n",
       "      <td>25451.05</td>\n",
       "    </tr>\n",
       "    <tr>\n",
       "      <th>4799</th>\n",
       "      <td>0</td>\n",
       "      <td>25774.25</td>\n",
       "    </tr>\n",
       "    <tr>\n",
       "      <th>4800</th>\n",
       "      <td>0</td>\n",
       "      <td>25660.33</td>\n",
       "    </tr>\n",
       "    <tr>\n",
       "      <th>4801</th>\n",
       "      <td>0</td>\n",
       "      <td>32242.92</td>\n",
       "    </tr>\n",
       "    <tr>\n",
       "      <th>4802</th>\n",
       "      <td>0</td>\n",
       "      <td>32139.62</td>\n",
       "    </tr>\n",
       "  </tbody>\n",
       "</table>\n",
       "<p>4803 rows × 2 columns</p>\n",
       "</div>"
      ],
      "text/plain": [
       "      fraud_flag    amount\n",
       "0              0  48625.25\n",
       "1              0  20637.21\n",
       "2              0  36944.25\n",
       "3              0  48653.70\n",
       "4              0  48765.81\n",
       "...          ...       ...\n",
       "4798           0  25451.05\n",
       "4799           0  25774.25\n",
       "4800           0  25660.33\n",
       "4801           0  32242.92\n",
       "4802           0  32139.62\n",
       "\n",
       "[4803 rows x 2 columns]"
      ]
     },
     "execution_count": 41,
     "metadata": {},
     "output_type": "execute_result"
    }
   ],
   "source": [
    "data_model"
   ]
  },
  {
   "cell_type": "code",
   "execution_count": 42,
   "metadata": {},
   "outputs": [
    {
     "data": {
      "text/html": [
       "<div>\n",
       "<style scoped>\n",
       "    .dataframe tbody tr th:only-of-type {\n",
       "        vertical-align: middle;\n",
       "    }\n",
       "\n",
       "    .dataframe tbody tr th {\n",
       "        vertical-align: top;\n",
       "    }\n",
       "\n",
       "    .dataframe thead th {\n",
       "        text-align: right;\n",
       "    }\n",
       "</style>\n",
       "<table border=\"1\" class=\"dataframe\">\n",
       "  <thead>\n",
       "    <tr style=\"text-align: right;\">\n",
       "      <th></th>\n",
       "      <th>ccy_CNY</th>\n",
       "      <th>ccy_EUR</th>\n",
       "      <th>ccy_GBP</th>\n",
       "      <th>ccy_HKD</th>\n",
       "      <th>ccy_INR</th>\n",
       "      <th>ccy_JPY</th>\n",
       "      <th>ccy_SGD</th>\n",
       "      <th>ccy_USD</th>\n",
       "      <th>type_DIVIDEND</th>\n",
       "      <th>type_INTEREST</th>\n",
       "      <th>...</th>\n",
       "      <th>count_country_HK</th>\n",
       "      <th>count_country_IN</th>\n",
       "      <th>count_country_JP</th>\n",
       "      <th>count_country_SG</th>\n",
       "      <th>count_country_UK</th>\n",
       "      <th>count_country_USA</th>\n",
       "      <th>cust_country_UK</th>\n",
       "      <th>cust_country_US</th>\n",
       "      <th>fraud_flag</th>\n",
       "      <th>amount</th>\n",
       "    </tr>\n",
       "  </thead>\n",
       "  <tbody>\n",
       "    <tr>\n",
       "      <th>0</th>\n",
       "      <td>0</td>\n",
       "      <td>0</td>\n",
       "      <td>0</td>\n",
       "      <td>0</td>\n",
       "      <td>0</td>\n",
       "      <td>1</td>\n",
       "      <td>0</td>\n",
       "      <td>0</td>\n",
       "      <td>0</td>\n",
       "      <td>0</td>\n",
       "      <td>...</td>\n",
       "      <td>0</td>\n",
       "      <td>0</td>\n",
       "      <td>0</td>\n",
       "      <td>0</td>\n",
       "      <td>0</td>\n",
       "      <td>0</td>\n",
       "      <td>1</td>\n",
       "      <td>0</td>\n",
       "      <td>0</td>\n",
       "      <td>48625.25</td>\n",
       "    </tr>\n",
       "    <tr>\n",
       "      <th>1</th>\n",
       "      <td>0</td>\n",
       "      <td>0</td>\n",
       "      <td>1</td>\n",
       "      <td>0</td>\n",
       "      <td>0</td>\n",
       "      <td>0</td>\n",
       "      <td>0</td>\n",
       "      <td>0</td>\n",
       "      <td>0</td>\n",
       "      <td>0</td>\n",
       "      <td>...</td>\n",
       "      <td>0</td>\n",
       "      <td>0</td>\n",
       "      <td>0</td>\n",
       "      <td>0</td>\n",
       "      <td>0</td>\n",
       "      <td>0</td>\n",
       "      <td>1</td>\n",
       "      <td>0</td>\n",
       "      <td>0</td>\n",
       "      <td>20637.21</td>\n",
       "    </tr>\n",
       "    <tr>\n",
       "      <th>2</th>\n",
       "      <td>0</td>\n",
       "      <td>0</td>\n",
       "      <td>1</td>\n",
       "      <td>0</td>\n",
       "      <td>0</td>\n",
       "      <td>0</td>\n",
       "      <td>0</td>\n",
       "      <td>0</td>\n",
       "      <td>0</td>\n",
       "      <td>0</td>\n",
       "      <td>...</td>\n",
       "      <td>0</td>\n",
       "      <td>0</td>\n",
       "      <td>0</td>\n",
       "      <td>0</td>\n",
       "      <td>0</td>\n",
       "      <td>0</td>\n",
       "      <td>1</td>\n",
       "      <td>0</td>\n",
       "      <td>0</td>\n",
       "      <td>36944.25</td>\n",
       "    </tr>\n",
       "    <tr>\n",
       "      <th>3</th>\n",
       "      <td>1</td>\n",
       "      <td>0</td>\n",
       "      <td>0</td>\n",
       "      <td>0</td>\n",
       "      <td>0</td>\n",
       "      <td>0</td>\n",
       "      <td>0</td>\n",
       "      <td>0</td>\n",
       "      <td>0</td>\n",
       "      <td>0</td>\n",
       "      <td>...</td>\n",
       "      <td>0</td>\n",
       "      <td>0</td>\n",
       "      <td>0</td>\n",
       "      <td>0</td>\n",
       "      <td>0</td>\n",
       "      <td>0</td>\n",
       "      <td>1</td>\n",
       "      <td>0</td>\n",
       "      <td>0</td>\n",
       "      <td>48653.70</td>\n",
       "    </tr>\n",
       "    <tr>\n",
       "      <th>4</th>\n",
       "      <td>1</td>\n",
       "      <td>0</td>\n",
       "      <td>0</td>\n",
       "      <td>0</td>\n",
       "      <td>0</td>\n",
       "      <td>0</td>\n",
       "      <td>0</td>\n",
       "      <td>0</td>\n",
       "      <td>0</td>\n",
       "      <td>0</td>\n",
       "      <td>...</td>\n",
       "      <td>0</td>\n",
       "      <td>0</td>\n",
       "      <td>0</td>\n",
       "      <td>0</td>\n",
       "      <td>0</td>\n",
       "      <td>0</td>\n",
       "      <td>1</td>\n",
       "      <td>0</td>\n",
       "      <td>0</td>\n",
       "      <td>48765.81</td>\n",
       "    </tr>\n",
       "  </tbody>\n",
       "</table>\n",
       "<p>5 rows × 28 columns</p>\n",
       "</div>"
      ],
      "text/plain": [
       "   ccy_CNY  ccy_EUR  ccy_GBP  ccy_HKD  ccy_INR  ccy_JPY  ccy_SGD  ccy_USD  \\\n",
       "0        0        0        0        0        0        1        0        0   \n",
       "1        0        0        1        0        0        0        0        0   \n",
       "2        0        0        1        0        0        0        0        0   \n",
       "3        1        0        0        0        0        0        0        0   \n",
       "4        1        0        0        0        0        0        0        0   \n",
       "\n",
       "   type_DIVIDEND  type_INTEREST  ...  count_country_HK  count_country_IN  \\\n",
       "0              0              0  ...                 0                 0   \n",
       "1              0              0  ...                 0                 0   \n",
       "2              0              0  ...                 0                 0   \n",
       "3              0              0  ...                 0                 0   \n",
       "4              0              0  ...                 0                 0   \n",
       "\n",
       "   count_country_JP  count_country_SG  count_country_UK  count_country_USA  \\\n",
       "0                 0                 0                 0                  0   \n",
       "1                 0                 0                 0                  0   \n",
       "2                 0                 0                 0                  0   \n",
       "3                 0                 0                 0                  0   \n",
       "4                 0                 0                 0                  0   \n",
       "\n",
       "   cust_country_UK  cust_country_US  fraud_flag    amount  \n",
       "0                1                0           0  48625.25  \n",
       "1                1                0           0  20637.21  \n",
       "2                1                0           0  36944.25  \n",
       "3                1                0           0  48653.70  \n",
       "4                1                0           0  48765.81  \n",
       "\n",
       "[5 rows x 28 columns]"
      ]
     },
     "execution_count": 42,
     "metadata": {},
     "output_type": "execute_result"
    }
   ],
   "source": [
    "# Merge dataframes into a single dataframe\n",
    "merged_df = pd.concat([dummy_ccy,dummy_type,dummy_counterparty_country,dummy_customer_country,data_model], axis=1)\n",
    "merged_df.head()"
   ]
  },
  {
   "cell_type": "code",
   "execution_count": 43,
   "metadata": {},
   "outputs": [
    {
     "data": {
      "text/html": [
       "<div>\n",
       "<style scoped>\n",
       "    .dataframe tbody tr th:only-of-type {\n",
       "        vertical-align: middle;\n",
       "    }\n",
       "\n",
       "    .dataframe tbody tr th {\n",
       "        vertical-align: top;\n",
       "    }\n",
       "\n",
       "    .dataframe thead th {\n",
       "        text-align: right;\n",
       "    }\n",
       "</style>\n",
       "<table border=\"1\" class=\"dataframe\">\n",
       "  <thead>\n",
       "    <tr style=\"text-align: right;\">\n",
       "      <th></th>\n",
       "      <th>ccy_CNY</th>\n",
       "      <th>ccy_EUR</th>\n",
       "      <th>ccy_GBP</th>\n",
       "      <th>ccy_HKD</th>\n",
       "      <th>ccy_INR</th>\n",
       "      <th>ccy_JPY</th>\n",
       "      <th>ccy_SGD</th>\n",
       "      <th>ccy_USD</th>\n",
       "      <th>type_DIVIDEND</th>\n",
       "      <th>type_INTEREST</th>\n",
       "      <th>...</th>\n",
       "      <th>count_country_HK</th>\n",
       "      <th>count_country_IN</th>\n",
       "      <th>count_country_JP</th>\n",
       "      <th>count_country_SG</th>\n",
       "      <th>count_country_UK</th>\n",
       "      <th>count_country_USA</th>\n",
       "      <th>cust_country_UK</th>\n",
       "      <th>cust_country_US</th>\n",
       "      <th>fraud_flag</th>\n",
       "      <th>amount</th>\n",
       "    </tr>\n",
       "  </thead>\n",
       "  <tbody>\n",
       "    <tr>\n",
       "      <th>0</th>\n",
       "      <td>0</td>\n",
       "      <td>0</td>\n",
       "      <td>0</td>\n",
       "      <td>0</td>\n",
       "      <td>0</td>\n",
       "      <td>1</td>\n",
       "      <td>0</td>\n",
       "      <td>0</td>\n",
       "      <td>0</td>\n",
       "      <td>0</td>\n",
       "      <td>...</td>\n",
       "      <td>0</td>\n",
       "      <td>0</td>\n",
       "      <td>0</td>\n",
       "      <td>0</td>\n",
       "      <td>0</td>\n",
       "      <td>0</td>\n",
       "      <td>1</td>\n",
       "      <td>0</td>\n",
       "      <td>0</td>\n",
       "      <td>0.003799</td>\n",
       "    </tr>\n",
       "    <tr>\n",
       "      <th>1</th>\n",
       "      <td>0</td>\n",
       "      <td>0</td>\n",
       "      <td>1</td>\n",
       "      <td>0</td>\n",
       "      <td>0</td>\n",
       "      <td>0</td>\n",
       "      <td>0</td>\n",
       "      <td>0</td>\n",
       "      <td>0</td>\n",
       "      <td>0</td>\n",
       "      <td>...</td>\n",
       "      <td>0</td>\n",
       "      <td>0</td>\n",
       "      <td>0</td>\n",
       "      <td>0</td>\n",
       "      <td>0</td>\n",
       "      <td>0</td>\n",
       "      <td>1</td>\n",
       "      <td>0</td>\n",
       "      <td>0</td>\n",
       "      <td>0.001608</td>\n",
       "    </tr>\n",
       "    <tr>\n",
       "      <th>2</th>\n",
       "      <td>0</td>\n",
       "      <td>0</td>\n",
       "      <td>1</td>\n",
       "      <td>0</td>\n",
       "      <td>0</td>\n",
       "      <td>0</td>\n",
       "      <td>0</td>\n",
       "      <td>0</td>\n",
       "      <td>0</td>\n",
       "      <td>0</td>\n",
       "      <td>...</td>\n",
       "      <td>0</td>\n",
       "      <td>0</td>\n",
       "      <td>0</td>\n",
       "      <td>0</td>\n",
       "      <td>0</td>\n",
       "      <td>0</td>\n",
       "      <td>1</td>\n",
       "      <td>0</td>\n",
       "      <td>0</td>\n",
       "      <td>0.002885</td>\n",
       "    </tr>\n",
       "    <tr>\n",
       "      <th>3</th>\n",
       "      <td>1</td>\n",
       "      <td>0</td>\n",
       "      <td>0</td>\n",
       "      <td>0</td>\n",
       "      <td>0</td>\n",
       "      <td>0</td>\n",
       "      <td>0</td>\n",
       "      <td>0</td>\n",
       "      <td>0</td>\n",
       "      <td>0</td>\n",
       "      <td>...</td>\n",
       "      <td>0</td>\n",
       "      <td>0</td>\n",
       "      <td>0</td>\n",
       "      <td>0</td>\n",
       "      <td>0</td>\n",
       "      <td>0</td>\n",
       "      <td>1</td>\n",
       "      <td>0</td>\n",
       "      <td>0</td>\n",
       "      <td>0.003802</td>\n",
       "    </tr>\n",
       "    <tr>\n",
       "      <th>4</th>\n",
       "      <td>1</td>\n",
       "      <td>0</td>\n",
       "      <td>0</td>\n",
       "      <td>0</td>\n",
       "      <td>0</td>\n",
       "      <td>0</td>\n",
       "      <td>0</td>\n",
       "      <td>0</td>\n",
       "      <td>0</td>\n",
       "      <td>0</td>\n",
       "      <td>...</td>\n",
       "      <td>0</td>\n",
       "      <td>0</td>\n",
       "      <td>0</td>\n",
       "      <td>0</td>\n",
       "      <td>0</td>\n",
       "      <td>0</td>\n",
       "      <td>1</td>\n",
       "      <td>0</td>\n",
       "      <td>0</td>\n",
       "      <td>0.003810</td>\n",
       "    </tr>\n",
       "  </tbody>\n",
       "</table>\n",
       "<p>5 rows × 28 columns</p>\n",
       "</div>"
      ],
      "text/plain": [
       "   ccy_CNY  ccy_EUR  ccy_GBP  ccy_HKD  ccy_INR  ccy_JPY  ccy_SGD  ccy_USD  \\\n",
       "0        0        0        0        0        0        1        0        0   \n",
       "1        0        0        1        0        0        0        0        0   \n",
       "2        0        0        1        0        0        0        0        0   \n",
       "3        1        0        0        0        0        0        0        0   \n",
       "4        1        0        0        0        0        0        0        0   \n",
       "\n",
       "   type_DIVIDEND  type_INTEREST  ...  count_country_HK  count_country_IN  \\\n",
       "0              0              0  ...                 0                 0   \n",
       "1              0              0  ...                 0                 0   \n",
       "2              0              0  ...                 0                 0   \n",
       "3              0              0  ...                 0                 0   \n",
       "4              0              0  ...                 0                 0   \n",
       "\n",
       "   count_country_JP  count_country_SG  count_country_UK  count_country_USA  \\\n",
       "0                 0                 0                 0                  0   \n",
       "1                 0                 0                 0                  0   \n",
       "2                 0                 0                 0                  0   \n",
       "3                 0                 0                 0                  0   \n",
       "4                 0                 0                 0                  0   \n",
       "\n",
       "   cust_country_UK  cust_country_US  fraud_flag    amount  \n",
       "0                1                0           0  0.003799  \n",
       "1                1                0           0  0.001608  \n",
       "2                1                0           0  0.002885  \n",
       "3                1                0           0  0.003802  \n",
       "4                1                0           0  0.003810  \n",
       "\n",
       "[5 rows x 28 columns]"
      ]
     },
     "execution_count": 43,
     "metadata": {},
     "output_type": "execute_result"
    }
   ],
   "source": [
    "## use MinMaxScaler to handle the large values of amount, \n",
    "## since machine learning algorithms will give more importance to variables on a larger scale\n",
    "\n",
    "# Scale only columns that have values greater than 1\n",
    "to_scale = [col for col in data_model.columns if data_model[col].max() > 1]\n",
    "mms = MinMaxScaler()\n",
    "scaled = mms.fit_transform(merged_df[to_scale])\n",
    "scaled = pd.DataFrame(scaled, columns=to_scale)\n",
    "\n",
    "# Replace original columns with scaled ones\n",
    "for col in scaled:\n",
    "    merged_df[col] = scaled[col]\n",
    "    \n",
    "merged_df.head()"
   ]
  },
  {
   "cell_type": "code",
   "execution_count": 44,
   "metadata": {},
   "outputs": [
    {
     "data": {
      "text/plain": [
       "<AxesSubplot: title={'center': 'amount'}, xlabel='fraud_flag'>"
      ]
     },
     "execution_count": 44,
     "metadata": {},
     "output_type": "execute_result"
    },
    {
     "data": {
      "image/png": "[encoded data removed]",
      "text/plain": [
       "<Figure size 500x600 with 1 Axes>"
      ]
     },
     "metadata": {},
     "output_type": "display_data"
    }
   ],
   "source": [
    "#box plot of relationship between fraud_flag and NORMALISED amount\n",
    "merged_df.boxplot(column='amount', by='fraud_flag', figsize=(5,6))"
   ]
  },
  {
   "cell_type": "code",
   "execution_count": 45,
   "metadata": {},
   "outputs": [
    {
     "name": "stdout",
     "output_type": "stream",
     "text": [
      "% Positive class in Train = 1.69\n",
      "% Positive class in Test  = 1.67\n"
     ]
    }
   ],
   "source": [
    "## create model using SMOTE to oversample minority class\n",
    "\n",
    "## Naive Approach\n",
    "\n",
    "X = merged_df.drop('fraud_flag', axis=1)\n",
    "y = merged_df['fraud_flag']\n",
    "\n",
    "X_train, X_test, y_train, y_test = train_test_split(\n",
    "    X, y, test_size=0.25, random_state=42\n",
    ")\n",
    "\n",
    "print(f'''% Positive class in Train = {np.round(y_train.value_counts(normalize=True)[1] * 100, 2)}\n",
    "% Positive class in Test  = {np.round(y_test.value_counts(normalize=True)[1] * 100, 2)}''')"
   ]
  },
  {
   "attachments": {},
   "cell_type": "markdown",
   "metadata": {},
   "source": [
    "##### We will start off with a simple Random Forest model, not accounting for class imbalance\n",
    "\n",
    "##### Since we are focusing on fraudulent transactions, we want to ensure we identify all True positives accurately, hence we want to minimise our fall negative (FN) count\n",
    "\n",
    "##### Main metric of evaluation should be Recall =  (TP/TP+FN)"
   ]
  },
  {
   "cell_type": "code",
   "execution_count": 75,
   "metadata": {},
   "outputs": [
    {
     "name": "stdout",
     "output_type": "stream",
     "text": [
      "Accuracy = 0.97\n",
      "Recall = 0.97\n",
      "Precision = 0.96\n",
      "\n"
     ]
    },
    {
     "data": {
      "image/png": "[encoded data removed]",
      "text/plain": [
       "<Figure size 800x600 with 2 Axes>"
      ]
     },
     "metadata": {},
     "output_type": "display_data"
    }
   ],
   "source": [
    "# Train\n",
    "model = RandomForestClassifier(random_state=42)\n",
    "model.fit(X_train, y_train)\n",
    "preds = model.predict(X_test)\n",
    "\n",
    "# Evaluate\n",
    "print(f'Accuracy = {accuracy_score(y_test, preds):.2f}\\nRecall = {recall_score(y_test, preds):.2f}\\nPrecision = {precision_score(y_test, preds):.2f}\\n')\n",
    "cm = confusion_matrix(y_test, preds)\n",
    "plt.figure(figsize=(8, 6))\n",
    "plt.title('Confusion Matrix (without SMOTE)', size=16)\n",
    "sns.heatmap(cm, annot=True, cmap='Blues');"
   ]
  },
  {
   "cell_type": "code",
   "execution_count": 47,
   "metadata": {},
   "outputs": [],
   "source": [
    "## as we can see for the simple random forest model, the model is being overfitted and is predicting the majority class, which is Y=0\n",
    "## there is a need to handle class imbalance for our minority class"
   ]
  },
  {
   "cell_type": "code",
   "execution_count": 48,
   "metadata": {},
   "outputs": [
    {
     "name": "stdout",
     "output_type": "stream",
     "text": [
      "Shape of X before SMOTE: (4803, 27)\n",
      "Shape of X after SMOTE: (9444, 27)\n",
      "\n",
      "Balance of positive and negative classes (%):\n"
     ]
    },
    {
     "data": {
      "text/plain": [
       "0    50.0\n",
       "1    50.0\n",
       "Name: fraud_flag, dtype: float64"
      ]
     },
     "execution_count": 48,
     "metadata": {},
     "output_type": "execute_result"
    }
   ],
   "source": [
    "## handle class imbalance\n",
    "\n",
    "sm = SMOTE(random_state=42)\n",
    "\n",
    "X_sm, y_sm = sm.fit_resample(X, y)\n",
    "\n",
    "print(f'''Shape of X before SMOTE: {X.shape}\n",
    "Shape of X after SMOTE: {X_sm.shape}''')\n",
    "\n",
    "print('\\nBalance of positive and negative classes (%):')\n",
    "y_sm.value_counts(normalize=True) * 100"
   ]
  },
  {
   "cell_type": "code",
   "execution_count": 76,
   "metadata": {},
   "outputs": [
    {
     "name": "stdout",
     "output_type": "stream",
     "text": [
      "Accuracy = 0.97\n",
      "Recall = 0.97\n",
      "Precision = 0.96\n",
      "\n"
     ]
    },
    {
     "data": {
      "image/png": "[encoded data removed]",
      "text/plain": [
       "<Figure size 800x600 with 2 Axes>"
      ]
     },
     "metadata": {},
     "output_type": "display_data"
    }
   ],
   "source": [
    "## random forest model with balanced dataset\n",
    "\n",
    "X_train, X_test, y_train, y_test = train_test_split(\n",
    "    X_sm, y_sm, test_size=0.25, random_state=42\n",
    ")\n",
    "\n",
    "model = RandomForestClassifier(random_state=42)\n",
    "model.fit(X_train, y_train)\n",
    "preds = model.predict(X_test)\n",
    "\n",
    "print(f'Accuracy = {accuracy_score(y_test, preds):.2f}\\nRecall = {recall_score(y_test, preds):.2f}\\nPrecision = {precision_score(y_test, preds):.2f}\\n')\n",
    "cm = confusion_matrix(y_test, preds)\n",
    "plt.figure(figsize=(8, 6))\n",
    "plt.title('Confusion Matrix (with SMOTE)', size=16)\n",
    "sns.heatmap(cm, annot=True, cmap='Blues');"
   ]
  },
  {
   "cell_type": "code",
   "execution_count": 50,
   "metadata": {},
   "outputs": [
    {
     "data": {
      "image/png": "[encoded data removed]",
      "text/plain": [
       "<Figure size 640x480 with 1 Axes>"
      ]
     },
     "metadata": {},
     "output_type": "display_data"
    }
   ],
   "source": [
    "# plot auc-roc curve\n",
    "ax = plt.gca()\n",
    "rfc_disp = RocCurveDisplay.from_estimator(model, X_test, y_test, ax=ax, alpha=0.8)"
   ]
  },
  {
   "cell_type": "code",
   "execution_count": 51,
   "metadata": {},
   "outputs": [
    {
     "name": "stdout",
     "output_type": "stream",
     "text": [
      " 1) amount                         0.259184\n",
      " 2) type_PAYMENT                   0.065186\n",
      " 3) cust_country_UK                0.054732\n",
      " 4) count_country_JP               0.047096\n",
      " 5) type_DIVIDEND                  0.047005\n",
      " 6) type_INTEREST                  0.043502\n",
      " 7) ccy_CNY                        0.038917\n",
      " 8) ccy_USD                        0.037231\n",
      " 9) cust_country_US                0.035012\n",
      "10) type_INVESTMENT                0.027202\n",
      "11) type_OTHER                     0.026739\n",
      "12) ccy_GBP                        0.026045\n",
      "13) count_country_CN               0.025877\n",
      "14) ccy_HKD                        0.023911\n",
      "15) type_TRANSFER                  0.023700\n",
      "16) ccy_SGD                        0.022445\n",
      "17) type_TT                        0.021074\n",
      "18) count_country_IN               0.020616\n",
      "19) ccy_JPY                        0.020093\n",
      "20) count_country_DE               0.019620\n",
      "21) count_country_SG               0.019530\n",
      "22) count_country_UK               0.019375\n",
      "23) count_country_HK               0.018831\n",
      "24) ccy_EUR                        0.018822\n",
      "25) count_country_FR               0.016524\n",
      "26) count_country_USA              0.012281\n",
      "27) ccy_INR                        0.009452\n"
     ]
    }
   ],
   "source": [
    "## feature importance scores\n",
    "\n",
    "importances = model.feature_importances_\n",
    "#\n",
    "# Sort the feature importance in descending order\n",
    "#\n",
    "sorted_indices = np.argsort(importances)[::-1]\n",
    " \n",
    "feat_labels = X.columns\n",
    " \n",
    "for f in range(X_train.shape[1]):\n",
    "    print(\"%2d) %-*s %f\" % (f + 1, 30,\n",
    "                            feat_labels[sorted_indices[f]],\n",
    "                            importances[sorted_indices[f]]))"
   ]
  },
  {
   "cell_type": "code",
   "execution_count": 52,
   "metadata": {},
   "outputs": [
    {
     "data": {
      "image/png": "[encoded data removed]",
      "text/plain": [
       "<Figure size 640x480 with 1 Axes>"
      ]
     },
     "metadata": {},
     "output_type": "display_data"
    }
   ],
   "source": [
    "plt.title('Feature Importance')\n",
    "plt.bar(range(X_train.shape[1]), importances[sorted_indices], align='center')\n",
    "plt.xticks(range(X_train.shape[1]), X_train.columns[sorted_indices], rotation=90)\n",
    "plt.tight_layout()\n",
    "plt.show()"
   ]
  },
  {
   "cell_type": "code",
   "execution_count": 53,
   "metadata": {},
   "outputs": [],
   "source": [
    "## Model 2 (drop counter_country column)"
   ]
  },
  {
   "cell_type": "code",
   "execution_count": 54,
   "metadata": {},
   "outputs": [],
   "source": [
    "data_model_2 = data.drop(['counterparty_country'],axis=1)"
   ]
  },
  {
   "cell_type": "code",
   "execution_count": 55,
   "metadata": {},
   "outputs": [
    {
     "data": {
      "text/html": [
       "<div>\n",
       "<style scoped>\n",
       "    .dataframe tbody tr th:only-of-type {\n",
       "        vertical-align: middle;\n",
       "    }\n",
       "\n",
       "    .dataframe tbody tr th {\n",
       "        vertical-align: top;\n",
       "    }\n",
       "\n",
       "    .dataframe thead th {\n",
       "        text-align: right;\n",
       "    }\n",
       "</style>\n",
       "<table border=\"1\" class=\"dataframe\">\n",
       "  <thead>\n",
       "    <tr style=\"text-align: right;\">\n",
       "      <th></th>\n",
       "      <th>customer</th>\n",
       "      <th>customer_country</th>\n",
       "      <th>fraud_flag</th>\n",
       "      <th>timestamp</th>\n",
       "      <th>counterparty</th>\n",
       "      <th>type</th>\n",
       "      <th>ccy</th>\n",
       "      <th>amount</th>\n",
       "      <th>month_year</th>\n",
       "      <th>time</th>\n",
       "    </tr>\n",
       "  </thead>\n",
       "  <tbody>\n",
       "    <tr>\n",
       "      <th>0</th>\n",
       "      <td>C12976926337644</td>\n",
       "      <td>UK</td>\n",
       "      <td>N</td>\n",
       "      <td>2021-03-20 05:59:25</td>\n",
       "      <td>77697395249488</td>\n",
       "      <td>OTHER</td>\n",
       "      <td>JPY</td>\n",
       "      <td>48625.25</td>\n",
       "      <td>2021-03</td>\n",
       "      <td>night</td>\n",
       "    </tr>\n",
       "    <tr>\n",
       "      <th>1</th>\n",
       "      <td>C12976926337644</td>\n",
       "      <td>UK</td>\n",
       "      <td>N</td>\n",
       "      <td>2021-05-02 03:00:38</td>\n",
       "      <td>77697395249488</td>\n",
       "      <td>PAYMENT</td>\n",
       "      <td>GBP</td>\n",
       "      <td>20637.21</td>\n",
       "      <td>2021-05</td>\n",
       "      <td>night</td>\n",
       "    </tr>\n",
       "    <tr>\n",
       "      <th>2</th>\n",
       "      <td>C12976926337644</td>\n",
       "      <td>UK</td>\n",
       "      <td>N</td>\n",
       "      <td>2021-05-23 22:15:15</td>\n",
       "      <td>77697395249488</td>\n",
       "      <td>PAYMENT</td>\n",
       "      <td>USD</td>\n",
       "      <td>56691.27</td>\n",
       "      <td>2021-05</td>\n",
       "      <td>evening</td>\n",
       "    </tr>\n",
       "    <tr>\n",
       "      <th>3</th>\n",
       "      <td>C12976926337644</td>\n",
       "      <td>UK</td>\n",
       "      <td>N</td>\n",
       "      <td>2021-07-07 21:36:50</td>\n",
       "      <td>77697395249488</td>\n",
       "      <td>PAYMENT</td>\n",
       "      <td>CNY</td>\n",
       "      <td>343864.71</td>\n",
       "      <td>2021-07</td>\n",
       "      <td>evening</td>\n",
       "    </tr>\n",
       "    <tr>\n",
       "      <th>4</th>\n",
       "      <td>C12976926337644</td>\n",
       "      <td>UK</td>\n",
       "      <td>N</td>\n",
       "      <td>2021-09-02 00:14:03</td>\n",
       "      <td>77697395249488</td>\n",
       "      <td>PAYMENT</td>\n",
       "      <td>USD</td>\n",
       "      <td>57247.35</td>\n",
       "      <td>2021-09</td>\n",
       "      <td>night</td>\n",
       "    </tr>\n",
       "    <tr>\n",
       "      <th>...</th>\n",
       "      <td>...</td>\n",
       "      <td>...</td>\n",
       "      <td>...</td>\n",
       "      <td>...</td>\n",
       "      <td>...</td>\n",
       "      <td>...</td>\n",
       "      <td>...</td>\n",
       "      <td>...</td>\n",
       "      <td>...</td>\n",
       "      <td>...</td>\n",
       "    </tr>\n",
       "    <tr>\n",
       "      <th>5297</th>\n",
       "      <td>R85394663171656</td>\n",
       "      <td>UK</td>\n",
       "      <td>N</td>\n",
       "      <td>2021-12-20 00:34:56</td>\n",
       "      <td>88635938895767</td>\n",
       "      <td>INTEREST</td>\n",
       "      <td>GBP</td>\n",
       "      <td>25774.25</td>\n",
       "      <td>2021-12</td>\n",
       "      <td>night</td>\n",
       "    </tr>\n",
       "    <tr>\n",
       "      <th>5298</th>\n",
       "      <td>R85394663171656</td>\n",
       "      <td>UK</td>\n",
       "      <td>N</td>\n",
       "      <td>2021-12-23 17:49:44</td>\n",
       "      <td>88635938895767</td>\n",
       "      <td>INTEREST</td>\n",
       "      <td>GBP</td>\n",
       "      <td>25660.33</td>\n",
       "      <td>2021-12</td>\n",
       "      <td>afternoon</td>\n",
       "    </tr>\n",
       "    <tr>\n",
       "      <th>5299</th>\n",
       "      <td>R85394663171656</td>\n",
       "      <td>UK</td>\n",
       "      <td>N</td>\n",
       "      <td>2021-01-18 15:14:34</td>\n",
       "      <td>88635938895767</td>\n",
       "      <td>OTHER</td>\n",
       "      <td>GBP</td>\n",
       "      <td>32242.92</td>\n",
       "      <td>2021-01</td>\n",
       "      <td>afternoon</td>\n",
       "    </tr>\n",
       "    <tr>\n",
       "      <th>5300</th>\n",
       "      <td>R85394663171656</td>\n",
       "      <td>UK</td>\n",
       "      <td>N</td>\n",
       "      <td>2021-04-03 00:13:03</td>\n",
       "      <td>88635938895767</td>\n",
       "      <td>OTHER</td>\n",
       "      <td>GBP</td>\n",
       "      <td>32139.62</td>\n",
       "      <td>2021-04</td>\n",
       "      <td>night</td>\n",
       "    </tr>\n",
       "    <tr>\n",
       "      <th>5301</th>\n",
       "      <td>R85394663171656</td>\n",
       "      <td>UK</td>\n",
       "      <td>N</td>\n",
       "      <td>2021-09-03 18:32:38</td>\n",
       "      <td>88635938895767</td>\n",
       "      <td>OTHER</td>\n",
       "      <td>CNY</td>\n",
       "      <td>17784.71</td>\n",
       "      <td>2021-09</td>\n",
       "      <td>evening</td>\n",
       "    </tr>\n",
       "  </tbody>\n",
       "</table>\n",
       "<p>5302 rows × 10 columns</p>\n",
       "</div>"
      ],
      "text/plain": [
       "             customer customer_country fraud_flag           timestamp  \\\n",
       "0     C12976926337644               UK          N 2021-03-20 05:59:25   \n",
       "1     C12976926337644               UK          N 2021-05-02 03:00:38   \n",
       "2     C12976926337644               UK          N 2021-05-23 22:15:15   \n",
       "3     C12976926337644               UK          N 2021-07-07 21:36:50   \n",
       "4     C12976926337644               UK          N 2021-09-02 00:14:03   \n",
       "...               ...              ...        ...                 ...   \n",
       "5297  R85394663171656               UK          N 2021-12-20 00:34:56   \n",
       "5298  R85394663171656               UK          N 2021-12-23 17:49:44   \n",
       "5299  R85394663171656               UK          N 2021-01-18 15:14:34   \n",
       "5300  R85394663171656               UK          N 2021-04-03 00:13:03   \n",
       "5301  R85394663171656               UK          N 2021-09-03 18:32:38   \n",
       "\n",
       "        counterparty      type  ccy     amount month_year       time  \n",
       "0     77697395249488     OTHER  JPY   48625.25    2021-03      night  \n",
       "1     77697395249488   PAYMENT  GBP   20637.21    2021-05      night  \n",
       "2     77697395249488   PAYMENT  USD   56691.27    2021-05    evening  \n",
       "3     77697395249488   PAYMENT  CNY  343864.71    2021-07    evening  \n",
       "4     77697395249488   PAYMENT  USD   57247.35    2021-09      night  \n",
       "...              ...       ...  ...        ...        ...        ...  \n",
       "5297  88635938895767  INTEREST  GBP   25774.25    2021-12      night  \n",
       "5298  88635938895767  INTEREST  GBP   25660.33    2021-12  afternoon  \n",
       "5299  88635938895767     OTHER  GBP   32242.92    2021-01  afternoon  \n",
       "5300  88635938895767     OTHER  GBP   32139.62    2021-04      night  \n",
       "5301  88635938895767     OTHER  CNY   17784.71    2021-09    evening  \n",
       "\n",
       "[5302 rows x 10 columns]"
      ]
     },
     "execution_count": 55,
     "metadata": {},
     "output_type": "execute_result"
    }
   ],
   "source": [
    "data_model_2"
   ]
  },
  {
   "cell_type": "code",
   "execution_count": 56,
   "metadata": {},
   "outputs": [],
   "source": [
    "## For further data cleaning, we will do remapping of our binary features and creating dummy variables for our categorical features\n",
    "## We will follow up with oversampling the minority class using SMOTE"
   ]
  },
  {
   "cell_type": "code",
   "execution_count": 57,
   "metadata": {},
   "outputs": [],
   "source": [
    "## REMAP y value to integers (0,1)\n",
    "data_model_2['fraud_flag'] = [0 if x == 'N' else 1 for x in data_model_2['fraud_flag']]"
   ]
  },
  {
   "cell_type": "code",
   "execution_count": 58,
   "metadata": {},
   "outputs": [],
   "source": [
    "# Create dummy variables\n",
    "dummy_customer_country_2 = pd.get_dummies(data_model_2['customer_country'], prefix='cust_country', drop_first=True)\n",
    "dummy_type_2 = pd.get_dummies(data_model_2['type'], prefix='type', drop_first=True)\n",
    "dummy_ccy_2 = pd.get_dummies(data_model_2['ccy'], prefix='ccy', drop_first=True) "
   ]
  },
  {
   "cell_type": "code",
   "execution_count": 59,
   "metadata": {},
   "outputs": [],
   "source": [
    "# Drop unnecessary columns\n",
    "to_drop = ['customer', 'customer_country', 'timestamp', 'counterparty', 'type', 'ccy','month_year','time']\n",
    "data_model_2.drop(to_drop, axis=1, inplace=True)"
   ]
  },
  {
   "cell_type": "code",
   "execution_count": 60,
   "metadata": {},
   "outputs": [
    {
     "data": {
      "text/html": [
       "<div>\n",
       "<style scoped>\n",
       "    .dataframe tbody tr th:only-of-type {\n",
       "        vertical-align: middle;\n",
       "    }\n",
       "\n",
       "    .dataframe tbody tr th {\n",
       "        vertical-align: top;\n",
       "    }\n",
       "\n",
       "    .dataframe thead th {\n",
       "        text-align: right;\n",
       "    }\n",
       "</style>\n",
       "<table border=\"1\" class=\"dataframe\">\n",
       "  <thead>\n",
       "    <tr style=\"text-align: right;\">\n",
       "      <th></th>\n",
       "      <th>fraud_flag</th>\n",
       "      <th>amount</th>\n",
       "    </tr>\n",
       "  </thead>\n",
       "  <tbody>\n",
       "    <tr>\n",
       "      <th>0</th>\n",
       "      <td>0</td>\n",
       "      <td>48625.25</td>\n",
       "    </tr>\n",
       "    <tr>\n",
       "      <th>1</th>\n",
       "      <td>0</td>\n",
       "      <td>20637.21</td>\n",
       "    </tr>\n",
       "    <tr>\n",
       "      <th>2</th>\n",
       "      <td>0</td>\n",
       "      <td>56691.27</td>\n",
       "    </tr>\n",
       "    <tr>\n",
       "      <th>3</th>\n",
       "      <td>0</td>\n",
       "      <td>343864.71</td>\n",
       "    </tr>\n",
       "    <tr>\n",
       "      <th>4</th>\n",
       "      <td>0</td>\n",
       "      <td>57247.35</td>\n",
       "    </tr>\n",
       "    <tr>\n",
       "      <th>...</th>\n",
       "      <td>...</td>\n",
       "      <td>...</td>\n",
       "    </tr>\n",
       "    <tr>\n",
       "      <th>5297</th>\n",
       "      <td>0</td>\n",
       "      <td>25774.25</td>\n",
       "    </tr>\n",
       "    <tr>\n",
       "      <th>5298</th>\n",
       "      <td>0</td>\n",
       "      <td>25660.33</td>\n",
       "    </tr>\n",
       "    <tr>\n",
       "      <th>5299</th>\n",
       "      <td>0</td>\n",
       "      <td>32242.92</td>\n",
       "    </tr>\n",
       "    <tr>\n",
       "      <th>5300</th>\n",
       "      <td>0</td>\n",
       "      <td>32139.62</td>\n",
       "    </tr>\n",
       "    <tr>\n",
       "      <th>5301</th>\n",
       "      <td>0</td>\n",
       "      <td>17784.71</td>\n",
       "    </tr>\n",
       "  </tbody>\n",
       "</table>\n",
       "<p>5302 rows × 2 columns</p>\n",
       "</div>"
      ],
      "text/plain": [
       "      fraud_flag     amount\n",
       "0              0   48625.25\n",
       "1              0   20637.21\n",
       "2              0   56691.27\n",
       "3              0  343864.71\n",
       "4              0   57247.35\n",
       "...          ...        ...\n",
       "5297           0   25774.25\n",
       "5298           0   25660.33\n",
       "5299           0   32242.92\n",
       "5300           0   32139.62\n",
       "5301           0   17784.71\n",
       "\n",
       "[5302 rows x 2 columns]"
      ]
     },
     "execution_count": 60,
     "metadata": {},
     "output_type": "execute_result"
    }
   ],
   "source": [
    "data_model_2"
   ]
  },
  {
   "cell_type": "code",
   "execution_count": 61,
   "metadata": {},
   "outputs": [
    {
     "data": {
      "text/html": [
       "<div>\n",
       "<style scoped>\n",
       "    .dataframe tbody tr th:only-of-type {\n",
       "        vertical-align: middle;\n",
       "    }\n",
       "\n",
       "    .dataframe tbody tr th {\n",
       "        vertical-align: top;\n",
       "    }\n",
       "\n",
       "    .dataframe thead th {\n",
       "        text-align: right;\n",
       "    }\n",
       "</style>\n",
       "<table border=\"1\" class=\"dataframe\">\n",
       "  <thead>\n",
       "    <tr style=\"text-align: right;\">\n",
       "      <th></th>\n",
       "      <th>ccy_CNY</th>\n",
       "      <th>ccy_EUR</th>\n",
       "      <th>ccy_GBP</th>\n",
       "      <th>ccy_HKD</th>\n",
       "      <th>ccy_INR</th>\n",
       "      <th>ccy_JPY</th>\n",
       "      <th>ccy_SGD</th>\n",
       "      <th>ccy_USD</th>\n",
       "      <th>type_DIVIDEND</th>\n",
       "      <th>type_INTEREST</th>\n",
       "      <th>type_INVESTMENT</th>\n",
       "      <th>type_OTHER</th>\n",
       "      <th>type_PAYMENT</th>\n",
       "      <th>type_TRANSFER</th>\n",
       "      <th>type_TT</th>\n",
       "      <th>cust_country_UK</th>\n",
       "      <th>cust_country_US</th>\n",
       "      <th>fraud_flag</th>\n",
       "      <th>amount</th>\n",
       "    </tr>\n",
       "  </thead>\n",
       "  <tbody>\n",
       "    <tr>\n",
       "      <th>0</th>\n",
       "      <td>0</td>\n",
       "      <td>0</td>\n",
       "      <td>0</td>\n",
       "      <td>0</td>\n",
       "      <td>0</td>\n",
       "      <td>1</td>\n",
       "      <td>0</td>\n",
       "      <td>0</td>\n",
       "      <td>0</td>\n",
       "      <td>0</td>\n",
       "      <td>0</td>\n",
       "      <td>1</td>\n",
       "      <td>0</td>\n",
       "      <td>0</td>\n",
       "      <td>0</td>\n",
       "      <td>1</td>\n",
       "      <td>0</td>\n",
       "      <td>0</td>\n",
       "      <td>48625.25</td>\n",
       "    </tr>\n",
       "    <tr>\n",
       "      <th>1</th>\n",
       "      <td>0</td>\n",
       "      <td>0</td>\n",
       "      <td>1</td>\n",
       "      <td>0</td>\n",
       "      <td>0</td>\n",
       "      <td>0</td>\n",
       "      <td>0</td>\n",
       "      <td>0</td>\n",
       "      <td>0</td>\n",
       "      <td>0</td>\n",
       "      <td>0</td>\n",
       "      <td>0</td>\n",
       "      <td>1</td>\n",
       "      <td>0</td>\n",
       "      <td>0</td>\n",
       "      <td>1</td>\n",
       "      <td>0</td>\n",
       "      <td>0</td>\n",
       "      <td>20637.21</td>\n",
       "    </tr>\n",
       "    <tr>\n",
       "      <th>2</th>\n",
       "      <td>0</td>\n",
       "      <td>0</td>\n",
       "      <td>0</td>\n",
       "      <td>0</td>\n",
       "      <td>0</td>\n",
       "      <td>0</td>\n",
       "      <td>0</td>\n",
       "      <td>1</td>\n",
       "      <td>0</td>\n",
       "      <td>0</td>\n",
       "      <td>0</td>\n",
       "      <td>0</td>\n",
       "      <td>1</td>\n",
       "      <td>0</td>\n",
       "      <td>0</td>\n",
       "      <td>1</td>\n",
       "      <td>0</td>\n",
       "      <td>0</td>\n",
       "      <td>56691.27</td>\n",
       "    </tr>\n",
       "    <tr>\n",
       "      <th>3</th>\n",
       "      <td>1</td>\n",
       "      <td>0</td>\n",
       "      <td>0</td>\n",
       "      <td>0</td>\n",
       "      <td>0</td>\n",
       "      <td>0</td>\n",
       "      <td>0</td>\n",
       "      <td>0</td>\n",
       "      <td>0</td>\n",
       "      <td>0</td>\n",
       "      <td>0</td>\n",
       "      <td>0</td>\n",
       "      <td>1</td>\n",
       "      <td>0</td>\n",
       "      <td>0</td>\n",
       "      <td>1</td>\n",
       "      <td>0</td>\n",
       "      <td>0</td>\n",
       "      <td>343864.71</td>\n",
       "    </tr>\n",
       "    <tr>\n",
       "      <th>4</th>\n",
       "      <td>0</td>\n",
       "      <td>0</td>\n",
       "      <td>0</td>\n",
       "      <td>0</td>\n",
       "      <td>0</td>\n",
       "      <td>0</td>\n",
       "      <td>0</td>\n",
       "      <td>1</td>\n",
       "      <td>0</td>\n",
       "      <td>0</td>\n",
       "      <td>0</td>\n",
       "      <td>0</td>\n",
       "      <td>1</td>\n",
       "      <td>0</td>\n",
       "      <td>0</td>\n",
       "      <td>1</td>\n",
       "      <td>0</td>\n",
       "      <td>0</td>\n",
       "      <td>57247.35</td>\n",
       "    </tr>\n",
       "  </tbody>\n",
       "</table>\n",
       "</div>"
      ],
      "text/plain": [
       "   ccy_CNY  ccy_EUR  ccy_GBP  ccy_HKD  ccy_INR  ccy_JPY  ccy_SGD  ccy_USD  \\\n",
       "0        0        0        0        0        0        1        0        0   \n",
       "1        0        0        1        0        0        0        0        0   \n",
       "2        0        0        0        0        0        0        0        1   \n",
       "3        1        0        0        0        0        0        0        0   \n",
       "4        0        0        0        0        0        0        0        1   \n",
       "\n",
       "   type_DIVIDEND  type_INTEREST  type_INVESTMENT  type_OTHER  type_PAYMENT  \\\n",
       "0              0              0                0           1             0   \n",
       "1              0              0                0           0             1   \n",
       "2              0              0                0           0             1   \n",
       "3              0              0                0           0             1   \n",
       "4              0              0                0           0             1   \n",
       "\n",
       "   type_TRANSFER  type_TT  cust_country_UK  cust_country_US  fraud_flag  \\\n",
       "0              0        0                1                0           0   \n",
       "1              0        0                1                0           0   \n",
       "2              0        0                1                0           0   \n",
       "3              0        0                1                0           0   \n",
       "4              0        0                1                0           0   \n",
       "\n",
       "      amount  \n",
       "0   48625.25  \n",
       "1   20637.21  \n",
       "2   56691.27  \n",
       "3  343864.71  \n",
       "4   57247.35  "
      ]
     },
     "execution_count": 61,
     "metadata": {},
     "output_type": "execute_result"
    }
   ],
   "source": [
    "# Merge dataframes into a single dataframe\n",
    "merged_df2 = pd.concat([dummy_ccy_2,dummy_type_2,dummy_customer_country_2,data_model_2], axis=1)\n",
    "merged_df2.head()"
   ]
  },
  {
   "cell_type": "code",
   "execution_count": 62,
   "metadata": {},
   "outputs": [
    {
     "data": {
      "text/html": [
       "<div>\n",
       "<style scoped>\n",
       "    .dataframe tbody tr th:only-of-type {\n",
       "        vertical-align: middle;\n",
       "    }\n",
       "\n",
       "    .dataframe tbody tr th {\n",
       "        vertical-align: top;\n",
       "    }\n",
       "\n",
       "    .dataframe thead th {\n",
       "        text-align: right;\n",
       "    }\n",
       "</style>\n",
       "<table border=\"1\" class=\"dataframe\">\n",
       "  <thead>\n",
       "    <tr style=\"text-align: right;\">\n",
       "      <th></th>\n",
       "      <th>ccy_CNY</th>\n",
       "      <th>ccy_EUR</th>\n",
       "      <th>ccy_GBP</th>\n",
       "      <th>ccy_HKD</th>\n",
       "      <th>ccy_INR</th>\n",
       "      <th>ccy_JPY</th>\n",
       "      <th>ccy_SGD</th>\n",
       "      <th>ccy_USD</th>\n",
       "      <th>type_DIVIDEND</th>\n",
       "      <th>type_INTEREST</th>\n",
       "      <th>type_INVESTMENT</th>\n",
       "      <th>type_OTHER</th>\n",
       "      <th>type_PAYMENT</th>\n",
       "      <th>type_TRANSFER</th>\n",
       "      <th>type_TT</th>\n",
       "      <th>cust_country_UK</th>\n",
       "      <th>cust_country_US</th>\n",
       "      <th>fraud_flag</th>\n",
       "      <th>amount</th>\n",
       "    </tr>\n",
       "  </thead>\n",
       "  <tbody>\n",
       "    <tr>\n",
       "      <th>0</th>\n",
       "      <td>0</td>\n",
       "      <td>0</td>\n",
       "      <td>0</td>\n",
       "      <td>0</td>\n",
       "      <td>0</td>\n",
       "      <td>1</td>\n",
       "      <td>0</td>\n",
       "      <td>0</td>\n",
       "      <td>0</td>\n",
       "      <td>0</td>\n",
       "      <td>0</td>\n",
       "      <td>1</td>\n",
       "      <td>0</td>\n",
       "      <td>0</td>\n",
       "      <td>0</td>\n",
       "      <td>1</td>\n",
       "      <td>0</td>\n",
       "      <td>0</td>\n",
       "      <td>0.003799</td>\n",
       "    </tr>\n",
       "    <tr>\n",
       "      <th>1</th>\n",
       "      <td>0</td>\n",
       "      <td>0</td>\n",
       "      <td>1</td>\n",
       "      <td>0</td>\n",
       "      <td>0</td>\n",
       "      <td>0</td>\n",
       "      <td>0</td>\n",
       "      <td>0</td>\n",
       "      <td>0</td>\n",
       "      <td>0</td>\n",
       "      <td>0</td>\n",
       "      <td>0</td>\n",
       "      <td>1</td>\n",
       "      <td>0</td>\n",
       "      <td>0</td>\n",
       "      <td>1</td>\n",
       "      <td>0</td>\n",
       "      <td>0</td>\n",
       "      <td>0.001608</td>\n",
       "    </tr>\n",
       "    <tr>\n",
       "      <th>2</th>\n",
       "      <td>0</td>\n",
       "      <td>0</td>\n",
       "      <td>0</td>\n",
       "      <td>0</td>\n",
       "      <td>0</td>\n",
       "      <td>0</td>\n",
       "      <td>0</td>\n",
       "      <td>1</td>\n",
       "      <td>0</td>\n",
       "      <td>0</td>\n",
       "      <td>0</td>\n",
       "      <td>0</td>\n",
       "      <td>1</td>\n",
       "      <td>0</td>\n",
       "      <td>0</td>\n",
       "      <td>1</td>\n",
       "      <td>0</td>\n",
       "      <td>0</td>\n",
       "      <td>0.004431</td>\n",
       "    </tr>\n",
       "    <tr>\n",
       "      <th>3</th>\n",
       "      <td>1</td>\n",
       "      <td>0</td>\n",
       "      <td>0</td>\n",
       "      <td>0</td>\n",
       "      <td>0</td>\n",
       "      <td>0</td>\n",
       "      <td>0</td>\n",
       "      <td>0</td>\n",
       "      <td>0</td>\n",
       "      <td>0</td>\n",
       "      <td>0</td>\n",
       "      <td>0</td>\n",
       "      <td>1</td>\n",
       "      <td>0</td>\n",
       "      <td>0</td>\n",
       "      <td>1</td>\n",
       "      <td>0</td>\n",
       "      <td>0</td>\n",
       "      <td>0.026915</td>\n",
       "    </tr>\n",
       "    <tr>\n",
       "      <th>4</th>\n",
       "      <td>0</td>\n",
       "      <td>0</td>\n",
       "      <td>0</td>\n",
       "      <td>0</td>\n",
       "      <td>0</td>\n",
       "      <td>0</td>\n",
       "      <td>0</td>\n",
       "      <td>1</td>\n",
       "      <td>0</td>\n",
       "      <td>0</td>\n",
       "      <td>0</td>\n",
       "      <td>0</td>\n",
       "      <td>1</td>\n",
       "      <td>0</td>\n",
       "      <td>0</td>\n",
       "      <td>1</td>\n",
       "      <td>0</td>\n",
       "      <td>0</td>\n",
       "      <td>0.004474</td>\n",
       "    </tr>\n",
       "  </tbody>\n",
       "</table>\n",
       "</div>"
      ],
      "text/plain": [
       "   ccy_CNY  ccy_EUR  ccy_GBP  ccy_HKD  ccy_INR  ccy_JPY  ccy_SGD  ccy_USD  \\\n",
       "0        0        0        0        0        0        1        0        0   \n",
       "1        0        0        1        0        0        0        0        0   \n",
       "2        0        0        0        0        0        0        0        1   \n",
       "3        1        0        0        0        0        0        0        0   \n",
       "4        0        0        0        0        0        0        0        1   \n",
       "\n",
       "   type_DIVIDEND  type_INTEREST  type_INVESTMENT  type_OTHER  type_PAYMENT  \\\n",
       "0              0              0                0           1             0   \n",
       "1              0              0                0           0             1   \n",
       "2              0              0                0           0             1   \n",
       "3              0              0                0           0             1   \n",
       "4              0              0                0           0             1   \n",
       "\n",
       "   type_TRANSFER  type_TT  cust_country_UK  cust_country_US  fraud_flag  \\\n",
       "0              0        0                1                0           0   \n",
       "1              0        0                1                0           0   \n",
       "2              0        0                1                0           0   \n",
       "3              0        0                1                0           0   \n",
       "4              0        0                1                0           0   \n",
       "\n",
       "     amount  \n",
       "0  0.003799  \n",
       "1  0.001608  \n",
       "2  0.004431  \n",
       "3  0.026915  \n",
       "4  0.004474  "
      ]
     },
     "execution_count": 62,
     "metadata": {},
     "output_type": "execute_result"
    }
   ],
   "source": [
    "## use MinMaxScaler to handle the large values of amount, \n",
    "## since machine learning algorithms will give more importance to variables on a larger scale\n",
    "\n",
    "# Scale only columns that have values greater than 1\n",
    "to_scale = [col for col in data_model_2.columns if data_model_2[col].max() > 1]\n",
    "mms = MinMaxScaler()\n",
    "scaled = mms.fit_transform(merged_df2[to_scale])\n",
    "scaled = pd.DataFrame(scaled, columns=to_scale)\n",
    "\n",
    "# Replace original columns with scaled ones\n",
    "for col in scaled:\n",
    "    merged_df2[col] = scaled[col]\n",
    "    \n",
    "merged_df2.head()"
   ]
  },
  {
   "cell_type": "code",
   "execution_count": 63,
   "metadata": {},
   "outputs": [
    {
     "name": "stdout",
     "output_type": "stream",
     "text": [
      "% Positive class in Train = 1.71\n",
      "% Positive class in Test  = 1.73\n"
     ]
    }
   ],
   "source": [
    "## create model using SMOTE to oversample minority class\n",
    "\n",
    "## Naive Approach\n",
    "\n",
    "X = merged_df2.drop('fraud_flag', axis=1)\n",
    "y = merged_df2['fraud_flag']\n",
    "\n",
    "X_train, X_test, y_train, y_test = train_test_split(\n",
    "    X, y, test_size=0.25, random_state=42\n",
    ")\n",
    "\n",
    "print(f'''% Positive class in Train = {np.round(y_train.value_counts(normalize=True)[1] * 100, 2)}\n",
    "% Positive class in Test  = {np.round(y_test.value_counts(normalize=True)[1] * 100, 2)}''')"
   ]
  },
  {
   "attachments": {},
   "cell_type": "markdown",
   "metadata": {},
   "source": [
    "##### We will start off with a simple Random Forest model, not accounting for class imbalance\n",
    "\n",
    "##### Since we are focusing on fraudulent transactions, we want to ensure we identify all True positives accurately, hence we want to minimise our fall negative (FN) count\n",
    "\n",
    "##### Main metric of evaluation should be Recall =  (TP/TP+FN)"
   ]
  },
  {
   "cell_type": "code",
   "execution_count": 64,
   "metadata": {},
   "outputs": [
    {
     "name": "stdout",
     "output_type": "stream",
     "text": [
      "Accuracy = 0.99\n",
      "Recall = 0.57\n",
      "\n"
     ]
    },
    {
     "data": {
      "image/png": "[encoded data removed]",
      "text/plain": [
       "<Figure size 800x600 with 2 Axes>"
      ]
     },
     "metadata": {},
     "output_type": "display_data"
    }
   ],
   "source": [
    "# Train\n",
    "model = RandomForestClassifier(random_state=42)\n",
    "model.fit(X_train, y_train)\n",
    "preds = model.predict(X_test)\n",
    "\n",
    "# Evaluate\n",
    "print(f'Accuracy = {accuracy_score(y_test, preds):.2f}\\nRecall = {recall_score(y_test, preds):.2f}\\nPrecision = {precision_score(y_test, preds):.2f}\\n')\n",
    "cm = confusion_matrix(y_test, preds)\n",
    "plt.figure(figsize=(8, 6))\n",
    "plt.title('Confusion Matrix (without SMOTE)', size=16)\n",
    "sns.heatmap(cm, annot=True, cmap='Blues');"
   ]
  },
  {
   "cell_type": "code",
   "execution_count": 65,
   "metadata": {},
   "outputs": [],
   "source": [
    "## as we can see for the simple random forest model, the model is being overfitted and is predicting the majority class, which is Y=0\n",
    "## there is a need to handle class imbalance for our minority class"
   ]
  },
  {
   "cell_type": "code",
   "execution_count": 66,
   "metadata": {},
   "outputs": [
    {
     "name": "stdout",
     "output_type": "stream",
     "text": [
      "Shape of X before SMOTE: (5302, 18)\n",
      "Shape of X after SMOTE: (10422, 18)\n",
      "\n",
      "Balance of positive and negative classes (%):\n"
     ]
    },
    {
     "data": {
      "text/plain": [
       "0    50.0\n",
       "1    50.0\n",
       "Name: fraud_flag, dtype: float64"
      ]
     },
     "execution_count": 66,
     "metadata": {},
     "output_type": "execute_result"
    }
   ],
   "source": [
    "## handle class imbalance\n",
    "\n",
    "sm = SMOTE(random_state=42)\n",
    "\n",
    "X_sm, y_sm = sm.fit_resample(X, y)\n",
    "\n",
    "print(f'''Shape of X before SMOTE: {X.shape}\n",
    "Shape of X after SMOTE: {X_sm.shape}''')\n",
    "\n",
    "print('\\nBalance of positive and negative classes (%):')\n",
    "y_sm.value_counts(normalize=True) * 100"
   ]
  },
  {
   "cell_type": "code",
   "execution_count": 67,
   "metadata": {},
   "outputs": [
    {
     "name": "stdout",
     "output_type": "stream",
     "text": [
      "Accuracy = 0.97\n",
      "Recall = 0.97\n",
      "\n"
     ]
    },
    {
     "data": {
      "image/png": "[encoded data removed]",
      "text/plain": [
       "<Figure size 800x600 with 2 Axes>"
      ]
     },
     "metadata": {},
     "output_type": "display_data"
    }
   ],
   "source": [
    "## random forest model with balanced dataset\n",
    "\n",
    "X_train, X_test, y_train, y_test = train_test_split(\n",
    "    X_sm, y_sm, test_size=0.25, random_state=42\n",
    ")\n",
    "\n",
    "model = RandomForestClassifier(random_state=42)\n",
    "model.fit(X_train, y_train)\n",
    "preds = model.predict(X_test)\n",
    "\n",
    "print(f'Accuracy = {accuracy_score(y_test, preds):.2f}\\nRecall = {recall_score(y_test, preds):.2f}\\nPrecision = {precision_score(y_test, preds):.2f}\\n')\n",
    "cm = confusion_matrix(y_test, preds)\n",
    "plt.figure(figsize=(8, 6))\n",
    "plt.title('Confusion Matrix (with SMOTE)', size=16)\n",
    "sns.heatmap(cm, annot=True, cmap='Blues');"
   ]
  },
  {
   "cell_type": "code",
   "execution_count": 68,
   "metadata": {},
   "outputs": [
    {
     "data": {
      "image/png": "[encoded data removed]",
      "text/plain": [
       "<Figure size 640x480 with 1 Axes>"
      ]
     },
     "metadata": {},
     "output_type": "display_data"
    }
   ],
   "source": [
    "# plot auc-roc curve\n",
    "ax = plt.gca()\n",
    "rfc_disp = RocCurveDisplay.from_estimator(model, X_test, y_test, ax=ax, alpha=0.8)"
   ]
  },
  {
   "cell_type": "code",
   "execution_count": 69,
   "metadata": {},
   "outputs": [
    {
     "name": "stdout",
     "output_type": "stream",
     "text": [
      " 1) amount                         0.364964\n",
      " 2) cust_country_UK                0.070837\n",
      " 3) type_PAYMENT                   0.061500\n",
      " 4) type_INTEREST                  0.048874\n",
      " 5) ccy_CNY                        0.046542\n",
      " 6) type_DIVIDEND                  0.044049\n",
      " 7) ccy_USD                        0.039602\n",
      " 8) cust_country_US                0.039190\n",
      " 9) ccy_SGD                        0.039187\n",
      "10) ccy_GBP                        0.039059\n",
      "11) ccy_HKD                        0.034340\n",
      "12) ccy_EUR                        0.030534\n",
      "13) type_TRANSFER                  0.030174\n",
      "14) type_INVESTMENT                0.028597\n",
      "15) type_OTHER                     0.024460\n",
      "16) type_TT                        0.022675\n",
      "17) ccy_INR                        0.018899\n",
      "18) ccy_JPY                        0.016517\n"
     ]
    }
   ],
   "source": [
    "## feature importance scores\n",
    "\n",
    "importances = model.feature_importances_\n",
    "#\n",
    "# Sort the feature importance in descending order\n",
    "#\n",
    "sorted_indices = np.argsort(importances)[::-1]\n",
    " \n",
    "feat_labels = X.columns\n",
    " \n",
    "for f in range(X_train.shape[1]):\n",
    "    print(\"%2d) %-*s %f\" % (f + 1, 30,\n",
    "                            feat_labels[sorted_indices[f]],\n",
    "                            importances[sorted_indices[f]]))"
   ]
  },
  {
   "cell_type": "code",
   "execution_count": 70,
   "metadata": {},
   "outputs": [
    {
     "data": {
      "image/png": "[encoded data removed]",
      "text/plain": [
       "<Figure size 640x480 with 1 Axes>"
      ]
     },
     "metadata": {},
     "output_type": "display_data"
    }
   ],
   "source": [
    "plt.title('Feature Importance')\n",
    "plt.bar(range(X_train.shape[1]), importances[sorted_indices], align='center')\n",
    "plt.xticks(range(X_train.shape[1]), X_train.columns[sorted_indices], rotation=90)\n",
    "plt.tight_layout()\n",
    "plt.show()"
   ]
  },
  {
   "attachments": {},
   "cell_type": "markdown",
   "metadata": {},
   "source": [
    "### Evaluation"
   ]
  },
  {
   "cell_type": "code",
   "execution_count": 71,
   "metadata": {},
   "outputs": [],
   "source": [
    "## We notice that amount is a key feature with regards to predicting whether a transaction is fraudulent for both models, \n",
    "# with a relatively large feature importance score."
   ]
  },
  {
   "cell_type": "code",
   "execution_count": 72,
   "metadata": {},
   "outputs": [],
   "source": [
    "## Our main metric of evaluation is recall"
   ]
  },
  {
   "cell_type": "code",
   "execution_count": 73,
   "metadata": {},
   "outputs": [],
   "source": [
    "## Room for improvement\n",
    "## Further look into timing interval between payments (ie two payments made within the same day)"
   ]
  }
 ],
 "metadata": {
  "kernelspec": {
   "display_name": "silent_eight",
   "language": "python",
   "name": "python3"
  },
  "language_info": {
   "codemirror_mode": {
    "name": "ipython",
    "version": 3
   },
   "file_extension": ".py",
   "mimetype": "text/x-python",
   "name": "python",
   "nbconvert_exporter": "python",
   "pygments_lexer": "ipython3",
   "version": "3.9.12"
  },
  "orig_nbformat": 4,
  "vscode": {
   "interpreter": {
    "hash": "d70379ef1582d478820558281a4d4f2e117c844661c0ccd8a005a367cee01704"
   }
  }
 },
 "nbformat": 4,
 "nbformat_minor": 2
}

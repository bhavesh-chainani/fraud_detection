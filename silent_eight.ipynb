{
 "cells": [
  {
   "cell_type": "code",
   "execution_count": 1,
   "metadata": {},
   "outputs": [],
   "source": [
    "import pandas as pd\n",
    "import numpy as np\n",
    "import matplotlib.pyplot as plt\n",
    "import seaborn as sns"
   ]
  },
  {
   "cell_type": "code",
   "execution_count": 2,
   "metadata": {},
   "outputs": [],
   "source": [
    "data = pd.read_csv('data/all_trxns.csv')"
   ]
  },
  {
   "cell_type": "code",
   "execution_count": 3,
   "metadata": {},
   "outputs": [
    {
     "data": {
      "text/html": [
       "<div>\n",
       "<style scoped>\n",
       "    .dataframe tbody tr th:only-of-type {\n",
       "        vertical-align: middle;\n",
       "    }\n",
       "\n",
       "    .dataframe tbody tr th {\n",
       "        vertical-align: top;\n",
       "    }\n",
       "\n",
       "    .dataframe thead th {\n",
       "        text-align: right;\n",
       "    }\n",
       "</style>\n",
       "<table border=\"1\" class=\"dataframe\">\n",
       "  <thead>\n",
       "    <tr style=\"text-align: right;\">\n",
       "      <th></th>\n",
       "      <th>customer</th>\n",
       "      <th>customer_country</th>\n",
       "      <th>fraud_flag</th>\n",
       "      <th>timestamp</th>\n",
       "      <th>counterparty</th>\n",
       "      <th>counterparty_country</th>\n",
       "      <th>type</th>\n",
       "      <th>ccy</th>\n",
       "      <th>amount</th>\n",
       "    </tr>\n",
       "  </thead>\n",
       "  <tbody>\n",
       "    <tr>\n",
       "      <th>0</th>\n",
       "      <td>C12976926337644</td>\n",
       "      <td>UK</td>\n",
       "      <td>N</td>\n",
       "      <td>2021-03-20 05:59:25</td>\n",
       "      <td>77697395249488</td>\n",
       "      <td>CN</td>\n",
       "      <td>OTHER</td>\n",
       "      <td>JPY</td>\n",
       "      <td>48625.25</td>\n",
       "    </tr>\n",
       "    <tr>\n",
       "      <th>1</th>\n",
       "      <td>C12976926337644</td>\n",
       "      <td>UK</td>\n",
       "      <td>N</td>\n",
       "      <td>2021-05-02 03:00:38</td>\n",
       "      <td>77697395249488</td>\n",
       "      <td>CN</td>\n",
       "      <td>PAYMENT</td>\n",
       "      <td>GBP</td>\n",
       "      <td>20637.21</td>\n",
       "    </tr>\n",
       "    <tr>\n",
       "      <th>2</th>\n",
       "      <td>C12976926337644</td>\n",
       "      <td>UK</td>\n",
       "      <td>N</td>\n",
       "      <td>2021-05-23 22:15:15</td>\n",
       "      <td>77697395249488</td>\n",
       "      <td>NaN</td>\n",
       "      <td>PAYMENT</td>\n",
       "      <td>USD</td>\n",
       "      <td>56691.27</td>\n",
       "    </tr>\n",
       "    <tr>\n",
       "      <th>3</th>\n",
       "      <td>C12976926337644</td>\n",
       "      <td>UK</td>\n",
       "      <td>N</td>\n",
       "      <td>2021-07-07 21:36:50</td>\n",
       "      <td>77697395249488</td>\n",
       "      <td>NaN</td>\n",
       "      <td>PAYMENT</td>\n",
       "      <td>CNY</td>\n",
       "      <td>343864.71</td>\n",
       "    </tr>\n",
       "    <tr>\n",
       "      <th>4</th>\n",
       "      <td>C12976926337644</td>\n",
       "      <td>UK</td>\n",
       "      <td>N</td>\n",
       "      <td>2021-09-02 00:14:03</td>\n",
       "      <td>77697395249488</td>\n",
       "      <td>NaN</td>\n",
       "      <td>PAYMENT</td>\n",
       "      <td>USD</td>\n",
       "      <td>57247.35</td>\n",
       "    </tr>\n",
       "  </tbody>\n",
       "</table>\n",
       "</div>"
      ],
      "text/plain": [
       "          customer customer_country fraud_flag            timestamp  \\\n",
       "0  C12976926337644               UK          N  2021-03-20 05:59:25   \n",
       "1  C12976926337644               UK          N  2021-05-02 03:00:38   \n",
       "2  C12976926337644               UK          N  2021-05-23 22:15:15   \n",
       "3  C12976926337644               UK          N  2021-07-07 21:36:50   \n",
       "4  C12976926337644               UK          N  2021-09-02 00:14:03   \n",
       "\n",
       "     counterparty counterparty_country     type  ccy     amount  \n",
       "0  77697395249488                   CN    OTHER  JPY   48625.25  \n",
       "1  77697395249488                   CN  PAYMENT  GBP   20637.21  \n",
       "2  77697395249488                  NaN  PAYMENT  USD   56691.27  \n",
       "3  77697395249488                  NaN  PAYMENT  CNY  343864.71  \n",
       "4  77697395249488                  NaN  PAYMENT  USD   57247.35  "
      ]
     },
     "execution_count": 3,
     "metadata": {},
     "output_type": "execute_result"
    }
   ],
   "source": [
    "data.head()"
   ]
  },
  {
   "cell_type": "code",
   "execution_count": 4,
   "metadata": {},
   "outputs": [
    {
     "data": {
      "text/plain": [
       "(5302, 9)"
      ]
     },
     "execution_count": 4,
     "metadata": {},
     "output_type": "execute_result"
    }
   ],
   "source": [
    "## EDA\n",
    "data.shape"
   ]
  },
  {
   "cell_type": "code",
   "execution_count": 5,
   "metadata": {},
   "outputs": [
    {
     "data": {
      "text/html": [
       "<div>\n",
       "<style scoped>\n",
       "    .dataframe tbody tr th:only-of-type {\n",
       "        vertical-align: middle;\n",
       "    }\n",
       "\n",
       "    .dataframe tbody tr th {\n",
       "        vertical-align: top;\n",
       "    }\n",
       "\n",
       "    .dataframe thead th {\n",
       "        text-align: right;\n",
       "    }\n",
       "</style>\n",
       "<table border=\"1\" class=\"dataframe\">\n",
       "  <thead>\n",
       "    <tr style=\"text-align: right;\">\n",
       "      <th></th>\n",
       "      <th>counterparty</th>\n",
       "    </tr>\n",
       "  </thead>\n",
       "  <tbody>\n",
       "    <tr>\n",
       "      <th>count</th>\n",
       "      <td>5.302000e+03</td>\n",
       "    </tr>\n",
       "    <tr>\n",
       "      <th>mean</th>\n",
       "      <td>5.626952e+13</td>\n",
       "    </tr>\n",
       "    <tr>\n",
       "      <th>std</th>\n",
       "      <td>2.609480e+13</td>\n",
       "    </tr>\n",
       "    <tr>\n",
       "      <th>min</th>\n",
       "      <td>1.136138e+13</td>\n",
       "    </tr>\n",
       "    <tr>\n",
       "      <th>25%</th>\n",
       "      <td>3.259593e+13</td>\n",
       "    </tr>\n",
       "    <tr>\n",
       "      <th>50%</th>\n",
       "      <td>5.715527e+13</td>\n",
       "    </tr>\n",
       "    <tr>\n",
       "      <th>75%</th>\n",
       "      <td>7.748636e+13</td>\n",
       "    </tr>\n",
       "    <tr>\n",
       "      <th>max</th>\n",
       "      <td>9.972984e+13</td>\n",
       "    </tr>\n",
       "  </tbody>\n",
       "</table>\n",
       "</div>"
      ],
      "text/plain": [
       "       counterparty\n",
       "count  5.302000e+03\n",
       "mean   5.626952e+13\n",
       "std    2.609480e+13\n",
       "min    1.136138e+13\n",
       "25%    3.259593e+13\n",
       "50%    5.715527e+13\n",
       "75%    7.748636e+13\n",
       "max    9.972984e+13"
      ]
     },
     "execution_count": 5,
     "metadata": {},
     "output_type": "execute_result"
    }
   ],
   "source": [
    "data.describe()"
   ]
  },
  {
   "cell_type": "code",
   "execution_count": 8,
   "metadata": {},
   "outputs": [
    {
     "data": {
      "text/plain": [
       "customer                object\n",
       "customer_country        object\n",
       "fraud_flag              object\n",
       "timestamp               object\n",
       "counterparty             int64\n",
       "counterparty_country    object\n",
       "type                    object\n",
       "ccy                     object\n",
       "amount                  object\n",
       "dtype: object"
      ]
     },
     "execution_count": 8,
     "metadata": {},
     "output_type": "execute_result"
    }
   ],
   "source": [
    "data.dtypes"
   ]
  },
  {
   "cell_type": "code",
   "execution_count": null,
   "metadata": {},
   "outputs": [],
   "source": []
  }
 ],
 "metadata": {
  "kernelspec": {
   "display_name": "silent_eight",
   "language": "python",
   "name": "python3"
  },
  "language_info": {
   "codemirror_mode": {
    "name": "ipython",
    "version": 3
   },
   "file_extension": ".py",
   "mimetype": "text/x-python",
   "name": "python",
   "nbconvert_exporter": "python",
   "pygments_lexer": "ipython3",
   "version": "3.9.12"
  },
  "orig_nbformat": 4,
  "vscode": {
   "interpreter": {
    "hash": "d70379ef1582d478820558281a4d4f2e117c844661c0ccd8a005a367cee01704"
   }
  }
 },
 "nbformat": 4,
 "nbformat_minor": 2
}
